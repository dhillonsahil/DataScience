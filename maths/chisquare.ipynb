{
 "cells": [
  {
   "cell_type": "code",
   "execution_count": 2,
   "id": "26451af9",
   "metadata": {},
   "outputs": [],
   "source": [
    "import scipy.stats as stats\n",
    "import numpy as np"
   ]
  },
  {
   "cell_type": "code",
   "execution_count": null,
   "id": "4ed306df",
   "metadata": {},
   "outputs": [],
   "source": [
    "expected_data =[8,6,7,9,6,9,7] \n",
    "observed_data = [7,8,6,9,9,6,7] # sum of observed, expected should be same"
   ]
  },
  {
   "cell_type": "code",
   "execution_count": 8,
   "id": "0db45e06",
   "metadata": {},
   "outputs": [],
   "source": [
    "# chi square goodness of fit\n",
    "chisquare_test_statistic , p_value= stats.chisquare(f_obs=observed_data, f_exp=expected_data)"
   ]
  },
  {
   "cell_type": "code",
   "execution_count": null,
   "id": "8b5f8ef4",
   "metadata": {},
   "outputs": [
    {
     "data": {
      "text/plain": [
       "3.4345238095238093"
      ]
     },
     "execution_count": 9,
     "metadata": {},
     "output_type": "execute_result"
    }
   ],
   "source": [
    "chisquare_test_statistic # his is value calculated using chi square goodness test forumla "
   ]
  },
  {
   "cell_type": "code",
   "execution_count": 10,
   "id": "02515a52",
   "metadata": {},
   "outputs": [
    {
     "data": {
      "text/plain": [
       "0.7526596580922865"
      ]
     },
     "execution_count": 10,
     "metadata": {},
     "output_type": "execute_result"
    }
   ],
   "source": [
    "p_value"
   ]
  },
  {
   "cell_type": "code",
   "execution_count": 12,
   "id": "17abe306",
   "metadata": {},
   "outputs": [],
   "source": [
    "## find the critical value\n",
    "significance_level = 0.05\n",
    "critical_value=stats.chi2.ppf(1-significance_level, (len(expected_data)-1))"
   ]
  },
  {
   "cell_type": "code",
   "execution_count": 13,
   "id": "5a07e865",
   "metadata": {},
   "outputs": [
    {
     "name": "stdout",
     "output_type": "stream",
     "text": [
      "accept null hypothesis\n"
     ]
    }
   ],
   "source": [
    "if chisquare_test_statistic > critical_value:\n",
    "    print(\"reject null hypothesis\")\n",
    "else:\n",
    "    print(\"accept null hypothesis\")"
   ]
  },
  {
   "cell_type": "code",
   "execution_count": 14,
   "id": "b83cf907",
   "metadata": {},
   "outputs": [],
   "source": [
    "# example 2"
   ]
  },
  {
   "cell_type": "code",
   "execution_count": 15,
   "id": "2037db73",
   "metadata": {},
   "outputs": [
    {
     "name": "stdout",
     "output_type": "stream",
     "text": [
      "Chi-Square Statistic: 30.68181818181818\n",
      "p-value: 3.04000341357041e-08\n"
     ]
    }
   ],
   "source": [
    "\n",
    "# Observed data\n",
    "observed = [30, 70]  # 30 right-handed, 70 not right-handed\n",
    "\n",
    "# Expected percentages based on the theory\n",
    "# 12% right-handed → 12 students\n",
    "# 88% not right-handed → 88 students\n",
    "expected = [12, 88]\n",
    "\n",
    "# Perform Chi-Square Goodness of Fit Test\n",
    "chi_stat, p_value = stats.chisquare(f_obs=observed, f_exp=expected)\n",
    "\n",
    "print(\"Chi-Square Statistic:\", chi_stat)\n",
    "print(\"p-value:\", p_value)\n"
   ]
  },
  {
   "cell_type": "code",
   "execution_count": 16,
   "id": "bb7627d9",
   "metadata": {},
   "outputs": [],
   "source": [
    "## find the critical value\n",
    "significance_level = 0.05\n",
    "critical_value=stats.chi2.ppf(1-significance_level, (len(expected)-1))"
   ]
  },
  {
   "cell_type": "code",
   "execution_count": 17,
   "id": "ff680f76",
   "metadata": {},
   "outputs": [
    {
     "data": {
      "text/plain": [
       "3.841458820694124"
      ]
     },
     "execution_count": 17,
     "metadata": {},
     "output_type": "execute_result"
    }
   ],
   "source": [
    "critical_value"
   ]
  },
  {
   "cell_type": "code",
   "execution_count": 18,
   "id": "57e9ee29",
   "metadata": {},
   "outputs": [
    {
     "name": "stdout",
     "output_type": "stream",
     "text": [
      "reject null hypothesis\n"
     ]
    }
   ],
   "source": [
    "if chi_stat > critical_value:\n",
    "    print(\"reject null hypothesis\")\n",
    "else:\n",
    "    print(\"accept null hypothesis\")"
   ]
  },
  {
   "cell_type": "code",
   "execution_count": 19,
   "id": "6e6d6285",
   "metadata": {},
   "outputs": [
    {
     "data": {
      "text/plain": [
       "30.68181818181818"
      ]
     },
     "execution_count": 19,
     "metadata": {},
     "output_type": "execute_result"
    }
   ],
   "source": [
    "chi_stat"
   ]
  }
 ],
 "metadata": {
  "kernelspec": {
   "display_name": "base",
   "language": "python",
   "name": "python3"
  },
  "language_info": {
   "codemirror_mode": {
    "name": "ipython",
    "version": 3
   },
   "file_extension": ".py",
   "mimetype": "text/x-python",
   "name": "python",
   "nbconvert_exporter": "python",
   "pygments_lexer": "ipython3",
   "version": "3.12.7"
  }
 },
 "nbformat": 4,
 "nbformat_minor": 5
}

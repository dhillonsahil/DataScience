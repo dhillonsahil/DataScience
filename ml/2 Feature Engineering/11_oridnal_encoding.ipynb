{
 "cells": [
  {
   "cell_type": "markdown",
   "id": "a84c5485",
   "metadata": {},
   "source": [
    "# Label and Ordinal Encoding"
   ]
  },
  {
   "cell_type": "code",
   "execution_count": 1,
   "id": "bf236804",
   "metadata": {},
   "outputs": [],
   "source": [
    "import pandas as pd"
   ]
  },
  {
   "cell_type": "code",
   "execution_count": 2,
   "id": "adc405cc",
   "metadata": {},
   "outputs": [],
   "source": [
    "from sklearn.preprocessing import LabelEncoder"
   ]
  },
  {
   "cell_type": "code",
   "execution_count": null,
   "id": "db4f6606",
   "metadata": {},
   "outputs": [],
   "source": [
    "# we know ordinal numbers are numbers with rank like first 2nd so here the rank of colors will be in alphabetically  order by default\n",
    "df= pd.DataFrame({\n",
    "    'color':['red','blue','green','green','red','blue']\n",
    "})"
   ]
  },
  {
   "cell_type": "code",
   "execution_count": 4,
   "id": "c671cf31",
   "metadata": {},
   "outputs": [
    {
     "data": {
      "text/html": [
       "<div>\n",
       "<style scoped>\n",
       "    .dataframe tbody tr th:only-of-type {\n",
       "        vertical-align: middle;\n",
       "    }\n",
       "\n",
       "    .dataframe tbody tr th {\n",
       "        vertical-align: top;\n",
       "    }\n",
       "\n",
       "    .dataframe thead th {\n",
       "        text-align: right;\n",
       "    }\n",
       "</style>\n",
       "<table border=\"1\" class=\"dataframe\">\n",
       "  <thead>\n",
       "    <tr style=\"text-align: right;\">\n",
       "      <th></th>\n",
       "      <th>color</th>\n",
       "    </tr>\n",
       "  </thead>\n",
       "  <tbody>\n",
       "    <tr>\n",
       "      <th>0</th>\n",
       "      <td>red</td>\n",
       "    </tr>\n",
       "    <tr>\n",
       "      <th>1</th>\n",
       "      <td>blue</td>\n",
       "    </tr>\n",
       "    <tr>\n",
       "      <th>2</th>\n",
       "      <td>green</td>\n",
       "    </tr>\n",
       "    <tr>\n",
       "      <th>3</th>\n",
       "      <td>green</td>\n",
       "    </tr>\n",
       "    <tr>\n",
       "      <th>4</th>\n",
       "      <td>red</td>\n",
       "    </tr>\n",
       "    <tr>\n",
       "      <th>5</th>\n",
       "      <td>blue</td>\n",
       "    </tr>\n",
       "  </tbody>\n",
       "</table>\n",
       "</div>"
      ],
      "text/plain": [
       "   color\n",
       "0    red\n",
       "1   blue\n",
       "2  green\n",
       "3  green\n",
       "4    red\n",
       "5   blue"
      ]
     },
     "execution_count": 4,
     "metadata": {},
     "output_type": "execute_result"
    }
   ],
   "source": [
    "df"
   ]
  },
  {
   "cell_type": "code",
   "execution_count": 5,
   "id": "a15a0840",
   "metadata": {},
   "outputs": [],
   "source": [
    "# create an instance of label encoder\n",
    "encoder = LabelEncoder()"
   ]
  },
  {
   "cell_type": "code",
   "execution_count": 6,
   "id": "6d029ee5",
   "metadata": {},
   "outputs": [
    {
     "name": "stderr",
     "output_type": "stream",
     "text": [
      "c:\\Users\\Sahil\\AppData\\Local\\anaconda3\\Lib\\site-packages\\sklearn\\preprocessing\\_label.py:114: DataConversionWarning: A column-vector y was passed when a 1d array was expected. Please change the shape of y to (n_samples, ), for example using ravel().\n",
      "  y = column_or_1d(y, warn=True)\n"
     ]
    },
    {
     "data": {
      "text/plain": [
       "array([2, 0, 1, 1, 2, 0])"
      ]
     },
     "execution_count": 6,
     "metadata": {},
     "output_type": "execute_result"
    }
   ],
   "source": [
    "encoder.fit_transform(df[['color']])"
   ]
  },
  {
   "cell_type": "markdown",
   "id": "71113d5e",
   "metadata": {},
   "source": [
    "Label encoding by default alphabetically"
   ]
  },
  {
   "cell_type": "markdown",
   "id": "13955b0e",
   "metadata": {},
   "source": [
    "Great question! Both **Ordinal Encoding** and **Label Encoding** are techniques used in **feature engineering** to convert categorical data into numerical values for machine learning models — but they are **not the same**, and using the wrong one can hurt your model's performance.\n",
    "\n",
    "---\n",
    "\n",
    "### 🔄 1. **Label Encoding**\n",
    "\n",
    "* **What it does**: Assigns a unique integer to **each category** in a single column.\n",
    "* **Example**:\n",
    "\n",
    "  ```python\n",
    "  from sklearn.preprocessing import LabelEncoder\n",
    "  le = LabelEncoder()\n",
    "  le.fit_transform(['Red', 'Green', 'Blue'])  \n",
    "  # Output: [2, 1, 0]\n",
    "  ```\n",
    "* **Good for**:\n",
    "\n",
    "  * Target variables (labels) in classification problems.\n",
    "* **Not ideal for**:\n",
    "\n",
    "  * Categorical features with **no inherent order** — can mislead models into thinking there's a ranking.\n",
    "\n",
    "---\n",
    "\n",
    "### 🔢 2. **Ordinal Encoding**\n",
    "\n",
    "* **What it does**: Converts categories into integers **based on a defined or natural order**.\n",
    "* **Example**:\n",
    "\n",
    "  ```python\n",
    "  from sklearn.preprocessing import OrdinalEncoder\n",
    "  enc = OrdinalEncoder(categories=[['Low', 'Medium', 'High']])\n",
    "  enc.fit_transform([['Medium'], ['Low'], ['High']])\n",
    "  # Output: [[1], [0], [2]]\n",
    "  ```\n",
    "* **Good for**:\n",
    "\n",
    "  * Features with a **natural rank/order** (e.g., education level, size, ratings).\n",
    "* **Bad for**:\n",
    "\n",
    "  * Features with **no meaningful order** — use One-Hot Encoding instead.\n",
    "\n",
    "---\n",
    "\n",
    "### 🔍 Key Differences:\n",
    "\n",
    "| Feature          | Label Encoding                 | Ordinal Encoding                  |\n",
    "| ---------------- | ------------------------------ | --------------------------------- |\n",
    "| Multiple Columns | No (one column at a time)      | Yes (works with multiple columns) |\n",
    "| Order Preserved  | No                             | Yes                               |\n",
    "| Risk of Misuse   | High (if used on nominal data) | Low (if order is meaningful)      |\n",
    "| Output Type      | Integer                        | Integer                           |\n",
    "\n",
    "---\n",
    "\n",
    "### ✅ When to Use What:\n",
    "\n",
    "| Use Case                                                      | Recommended Encoding |\n",
    "| ------------------------------------------------------------- | -------------------- |\n",
    "| Target labels(What we predict) in classification                               | **Label Encoding**   |\n",
    "| Ordered categorical features (e.g., \"Low\", \"Medium\", \"High\")  | **Ordinal Encoding** |\n",
    "| Unordered categorical features (e.g., \"Red\", \"Green\", \"Blue\") | **One-Hot Encoding** |\n",
    "\n",
    "---\n",
    "\n",
    "Would you like a code demo comparing how models perform with label vs. ordinal vs. one-hot encoding?\n"
   ]
  },
  {
   "cell_type": "markdown",
   "id": "037fe9cf",
   "metadata": {},
   "source": [
    "\n",
    "### 📌 **Nominal Data** (also called **categorical** or **unordered** data):\n",
    "\n",
    "These are **categories that have no inherent order or ranking**. The values are just labels — there's no “greater than” or “less than” relationship between them.\n",
    "\n",
    "---\n",
    "\n",
    "### ✅ Examples of Nominal Data:\n",
    "\n",
    "* **Colors**: Red, Green, Blue\n",
    "* **Cities**: Mumbai, Delhi, Bangalore\n",
    "* **Genders**: Male, Female, Other\n",
    "* **Animal Types**: Dog, Cat, Bird\n",
    "\n",
    "---\n",
    "\n",
    "### ❌ Why You Shouldn’t Use Label/Ordinal Encoding on Nominal Data:\n",
    "\n",
    "Label or ordinal encoding will assign **integers** (e.g., Red = 0, Green = 1, Blue = 2), which tricks many machine learning models into thinking there's an **order or magnitude**, like:\n",
    "\n",
    "```\n",
    "Blue > Green > Red\n",
    "```\n",
    "\n",
    "But in nominal data, that **ranking makes no sense**, so the model may learn **incorrect patterns**.\n",
    "\n",
    "---\n",
    "\n",
    "### ✅ What to Use Instead:\n",
    "\n",
    "Use **One-Hot Encoding**, which creates **binary columns**:\n",
    "\n",
    "```\n",
    "Color_Red  Color_Green  Color_Blue\n",
    "    1           0           0\n",
    "    0           1           0\n",
    "    0           0           1\n",
    "```\n",
    "\n",
    "This avoids any artificial ranking.\n",
    "\n",
    "---\n"
   ]
  },
  {
   "cell_type": "code",
   "execution_count": 9,
   "id": "f96f8ea1",
   "metadata": {},
   "outputs": [],
   "source": [
    "## Ordinal Encoding\n",
    "\n",
    "from sklearn.preprocessing import OrdinalEncoder\n",
    "\n",
    "df = pd.DataFrame({\n",
    "    'size':['small','medium','large','medium','small','large']\n",
    "})\n"
   ]
  },
  {
   "cell_type": "code",
   "execution_count": 10,
   "id": "2c9cad2d",
   "metadata": {},
   "outputs": [
    {
     "data": {
      "text/plain": [
       "array([[0.],\n",
       "       [1.],\n",
       "       [2.],\n",
       "       [1.],\n",
       "       [0.],\n",
       "       [2.]])"
      ]
     },
     "execution_count": 10,
     "metadata": {},
     "output_type": "execute_result"
    }
   ],
   "source": [
    "encoder = OrdinalEncoder(categories=[['small','medium','large']]) # we are telling rank\n",
    "encoder.fit_transform(df[['size']])"
   ]
  },
  {
   "cell_type": "code",
   "execution_count": null,
   "id": "75105f69",
   "metadata": {},
   "outputs": [],
   "source": []
  }
 ],
 "metadata": {
  "kernelspec": {
   "display_name": "base",
   "language": "python",
   "name": "python3"
  },
  "language_info": {
   "codemirror_mode": {
    "name": "ipython",
    "version": 3
   },
   "file_extension": ".py",
   "mimetype": "text/x-python",
   "name": "python",
   "nbconvert_exporter": "python",
   "pygments_lexer": "ipython3",
   "version": "3.12.7"
  }
 },
 "nbformat": 4,
 "nbformat_minor": 5
}

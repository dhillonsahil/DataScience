{
 "cells": [
  {
   "cell_type": "markdown",
   "id": "83289f9d",
   "metadata": {},
   "source": [
    "SMOTE (Synthetic Minority Over-sampling Technique) is a popular method used to handle imbalanced datasets in classification problems. It works by creating synthetic examples of the minority class to balance the dataset, rather than simply duplicating existing examples."
   ]
  },
  {
   "cell_type": "markdown",
   "id": "8a9f558d",
   "metadata": {},
   "source": [
    "Creating synthetic examples means generating new, artificial data points that are similar to the existing examples in the minority class — rather than just copying or duplicating existing ones."
   ]
  },
  {
   "cell_type": "markdown",
   "id": "d596aa80",
   "metadata": {},
   "source": [
    " What SMOTE Does (Simplified):\n",
    "\n",
    "Suppose you have a dataset where:\n",
    "\n",
    "    The majority class (e.g., \"Not Fraud\") has 900 examples.\n",
    "\n",
    "    The minority class (e.g., \"Fraud\") has only 100 examples.\n",
    "\n",
    "This imbalance can cause your model to ignore the minority class. SMOTE helps by creating new \"Fraud\" examples, but not by duplicating. Instead, it:\n",
    "🧪 How Synthetic Examples Are Created:\n",
    "\n",
    "    Choose a minority class sample.\n",
    "\n",
    "    Find its k-nearest neighbors (other minority class samples).\n",
    "\n",
    "    Pick one neighbor randomly.\n",
    "\n",
    "    Generate a new sample by interpolating between the two"
   ]
  },
  {
   "cell_type": "markdown",
   "id": "fab2f6a8",
   "metadata": {},
   "source": [
    "in smote  2 nearest coordinates we will join to make  the line and then points between them on line will get added in the dataset"
   ]
  },
  {
   "cell_type": "markdown",
   "id": "2003c9a7",
   "metadata": {},
   "source": [
    "This is called interpolation technique ( where new sample are generated)"
   ]
  },
  {
   "cell_type": "code",
   "execution_count": 2,
   "id": "08c46806",
   "metadata": {},
   "outputs": [],
   "source": [
    "from sklearn.datasets import make_classification"
   ]
  },
  {
   "cell_type": "code",
   "execution_count": 3,
   "id": "70eb7b90",
   "metadata": {},
   "outputs": [],
   "source": [
    "x,y=make_classification(n_samples=1000,n_features=2,n_clusters_per_class=1,weights=[0.90],random_state=1,n_redundant=0)"
   ]
  },
  {
   "cell_type": "code",
   "execution_count": 4,
   "id": "ae6de757",
   "metadata": {},
   "outputs": [
    {
     "data": {
      "text/plain": [
       "array([[ 1.53682958, -1.39869399],\n",
       "       [ 1.55110839,  1.81032905],\n",
       "       [ 1.29361936,  1.01094607],\n",
       "       ...,\n",
       "       [-0.55662536, -0.15983725],\n",
       "       [ 1.00499902,  0.93628981],\n",
       "       [ 1.46210987,  1.14497791]])"
      ]
     },
     "execution_count": 4,
     "metadata": {},
     "output_type": "execute_result"
    }
   ],
   "source": [
    "x"
   ]
  },
  {
   "cell_type": "code",
   "execution_count": 5,
   "id": "242fa35e",
   "metadata": {},
   "outputs": [
    {
     "data": {
      "text/plain": [
       "(1000, 2)"
      ]
     },
     "execution_count": 5,
     "metadata": {},
     "output_type": "execute_result"
    }
   ],
   "source": [
    "x.shape "
   ]
  },
  {
   "cell_type": "code",
   "execution_count": 6,
   "id": "c4631a71",
   "metadata": {},
   "outputs": [
    {
     "data": {
      "text/plain": [
       "array([1, 0, 0, 0, 0, 0, 0, 0, 1, 0, 0, 0, 0, 0, 1, 0, 0, 1, 0, 0, 1, 0,\n",
       "       0, 0, 0, 1, 0, 0, 0, 0, 0, 0, 0, 1, 0, 0, 0, 0, 0, 0, 0, 0, 0, 0,\n",
       "       0, 0, 0, 0, 0, 0, 0, 0, 0, 0, 0, 0, 0, 1, 0, 1, 0, 0, 0, 0, 0, 1,\n",
       "       0, 0, 0, 0, 0, 0, 0, 0, 0, 0, 1, 0, 0, 0, 0, 0, 0, 0, 0, 1, 0, 0,\n",
       "       0, 0, 0, 0, 0, 0, 0, 0, 0, 0, 0, 0, 1, 0, 1, 0, 0, 0, 0, 0, 1, 0,\n",
       "       0, 0, 0, 0, 0, 0, 0, 0, 1, 0, 0, 1, 0, 0, 0, 0, 1, 0, 0, 0, 0, 0,\n",
       "       0, 0, 0, 0, 0, 0, 1, 0, 0, 0, 0, 1, 0, 0, 0, 0, 0, 0, 1, 0, 0, 0,\n",
       "       1, 0, 0, 0, 0, 1, 0, 0, 0, 0, 0, 0, 0, 0, 0, 0, 0, 0, 0, 0, 0, 0,\n",
       "       0, 0, 0, 1, 1, 0, 1, 1, 1, 0, 1, 0, 0, 0, 0, 0, 0, 0, 0, 0, 0, 0,\n",
       "       0, 0, 0, 0, 0, 0, 0, 0, 0, 0, 0, 0, 1, 0, 0, 0, 1, 0, 0, 0, 0, 0,\n",
       "       0, 0, 0, 0, 0, 0, 0, 0, 1, 0, 0, 0, 0, 0, 0, 0, 0, 0, 0, 1, 0, 1,\n",
       "       0, 0, 1, 0, 0, 0, 0, 0, 0, 0, 0, 1, 0, 0, 0, 0, 0, 0, 0, 0, 0, 0,\n",
       "       0, 0, 0, 0, 0, 1, 0, 0, 0, 0, 0, 0, 0, 0, 1, 0, 0, 0, 0, 1, 0, 0,\n",
       "       0, 0, 0, 0, 0, 0, 0, 0, 0, 0, 0, 0, 0, 0, 0, 1, 0, 0, 0, 0, 1, 0,\n",
       "       0, 0, 1, 0, 0, 0, 0, 0, 0, 0, 0, 0, 0, 0, 0, 0, 0, 0, 0, 0, 1, 1,\n",
       "       0, 0, 0, 0, 0, 1, 0, 0, 0, 0, 1, 0, 0, 0, 0, 0, 0, 0, 0, 0, 0, 0,\n",
       "       0, 0, 1, 0, 0, 0, 0, 0, 0, 0, 0, 0, 0, 0, 0, 0, 0, 0, 0, 0, 0, 0,\n",
       "       0, 0, 0, 0, 0, 1, 1, 1, 0, 0, 0, 0, 0, 0, 0, 0, 0, 0, 0, 0, 0, 0,\n",
       "       0, 0, 0, 0, 0, 0, 0, 0, 0, 0, 0, 0, 0, 0, 0, 0, 0, 1, 0, 1, 0, 0,\n",
       "       0, 0, 0, 0, 0, 0, 0, 0, 0, 1, 0, 0, 0, 0, 0, 0, 0, 0, 1, 0, 0, 0,\n",
       "       0, 1, 0, 0, 0, 0, 0, 0, 0, 0, 0, 0, 0, 1, 0, 0, 0, 0, 0, 0, 1, 0,\n",
       "       0, 1, 0, 0, 0, 0, 0, 0, 0, 0, 0, 0, 0, 0, 0, 0, 0, 0, 0, 0, 0, 0,\n",
       "       0, 0, 0, 0, 0, 0, 0, 0, 0, 0, 0, 0, 0, 1, 1, 0, 1, 0, 0, 0, 0, 0,\n",
       "       0, 0, 0, 1, 0, 0, 0, 0, 0, 0, 1, 1, 1, 0, 0, 0, 0, 1, 0, 0, 0, 0,\n",
       "       0, 0, 0, 0, 0, 0, 0, 0, 1, 0, 0, 0, 0, 0, 0, 0, 0, 0, 0, 0, 0, 0,\n",
       "       0, 0, 1, 0, 1, 0, 1, 1, 1, 0, 0, 1, 0, 0, 1, 0, 0, 0, 0, 0, 0, 0,\n",
       "       0, 0, 0, 0, 1, 1, 0, 0, 0, 0, 0, 0, 0, 0, 0, 0, 1, 0, 1, 0, 0, 0,\n",
       "       0, 0, 0, 1, 0, 1, 0, 0, 0, 0, 0, 0, 0, 0, 0, 0, 0, 0, 0, 0, 0, 0,\n",
       "       0, 0, 0, 0, 0, 0, 0, 0, 0, 0, 0, 0, 0, 0, 0, 0, 0, 0, 1, 0, 0, 0,\n",
       "       0, 0, 0, 0, 0, 0, 0, 0, 0, 0, 1, 0, 0, 0, 0, 0, 0, 0, 0, 0, 0, 0,\n",
       "       0, 0, 0, 1, 1, 0, 0, 0, 0, 0, 0, 1, 0, 0, 0, 1, 0, 0, 0, 1, 0, 0,\n",
       "       0, 0, 0, 0, 0, 0, 0, 0, 0, 0, 0, 0, 1, 0, 0, 0, 0, 0, 0, 0, 0, 0,\n",
       "       0, 0, 0, 0, 0, 1, 0, 0, 0, 0, 0, 0, 0, 0, 0, 0, 0, 0, 0, 0, 0, 0,\n",
       "       0, 0, 0, 0, 0, 0, 0, 0, 0, 0, 0, 0, 0, 0, 0, 0, 0, 0, 0, 0, 0, 0,\n",
       "       0, 0, 0, 1, 0, 0, 0, 0, 0, 0, 0, 0, 0, 0, 0, 0, 0, 0, 0, 0, 0, 0,\n",
       "       0, 0, 0, 0, 0, 0, 0, 1, 0, 1, 0, 0, 0, 0, 0, 0, 0, 0, 0, 0, 0, 0,\n",
       "       0, 0, 1, 1, 0, 0, 0, 0, 0, 0, 0, 0, 0, 0, 0, 0, 0, 0, 0, 0, 0, 0,\n",
       "       1, 0, 0, 0, 0, 0, 0, 0, 0, 0, 0, 0, 1, 0, 0, 0, 0, 0, 0, 0, 0, 0,\n",
       "       0, 0, 0, 0, 1, 0, 0, 0, 0, 0, 0, 0, 0, 0, 0, 0, 0, 0, 0, 0, 0, 0,\n",
       "       0, 0, 0, 0, 0, 0, 0, 0, 0, 0, 0, 0, 0, 0, 0, 0, 0, 0, 0, 0, 0, 0,\n",
       "       0, 0, 0, 0, 0, 0, 0, 0, 0, 1, 0, 0, 0, 0, 0, 0, 0, 0, 1, 0, 0, 0,\n",
       "       0, 1, 0, 0, 0, 0, 0, 0, 0, 0, 0, 1, 0, 0, 0, 0, 0, 0, 0, 0, 0, 0,\n",
       "       0, 1, 0, 0, 0, 0, 0, 0, 0, 0, 0, 0, 1, 0, 0, 0, 0, 0, 0, 0, 0, 0,\n",
       "       0, 0, 0, 0, 0, 1, 0, 1, 0, 0, 0, 0, 0, 0, 0, 0, 0, 0, 0, 1, 0, 0,\n",
       "       0, 0, 0, 0, 0, 0, 0, 0, 0, 0, 0, 0, 0, 0, 0, 0, 0, 0, 0, 0, 0, 0,\n",
       "       0, 0, 0, 0, 0, 0, 0, 0, 0, 0])"
      ]
     },
     "execution_count": 6,
     "metadata": {},
     "output_type": "execute_result"
    }
   ],
   "source": [
    "y"
   ]
  },
  {
   "cell_type": "code",
   "execution_count": 7,
   "id": "6a46cedc",
   "metadata": {},
   "outputs": [],
   "source": [
    "import pandas as pd"
   ]
  },
  {
   "cell_type": "code",
   "execution_count": 8,
   "id": "d4fa4a48",
   "metadata": {},
   "outputs": [],
   "source": [
    "d1= pd.DataFrame(x,columns=['f1','f2'])"
   ]
  },
  {
   "cell_type": "code",
   "execution_count": 9,
   "id": "a9abbcac",
   "metadata": {},
   "outputs": [],
   "source": [
    "d2= pd.DataFrame(y,columns=['target'])"
   ]
  },
  {
   "cell_type": "code",
   "execution_count": 10,
   "id": "72b2baa4",
   "metadata": {},
   "outputs": [
    {
     "data": {
      "text/html": [
       "<div>\n",
       "<style scoped>\n",
       "    .dataframe tbody tr th:only-of-type {\n",
       "        vertical-align: middle;\n",
       "    }\n",
       "\n",
       "    .dataframe tbody tr th {\n",
       "        vertical-align: top;\n",
       "    }\n",
       "\n",
       "    .dataframe thead th {\n",
       "        text-align: right;\n",
       "    }\n",
       "</style>\n",
       "<table border=\"1\" class=\"dataframe\">\n",
       "  <thead>\n",
       "    <tr style=\"text-align: right;\">\n",
       "      <th></th>\n",
       "      <th>target</th>\n",
       "    </tr>\n",
       "  </thead>\n",
       "  <tbody>\n",
       "    <tr>\n",
       "      <th>0</th>\n",
       "      <td>1</td>\n",
       "    </tr>\n",
       "    <tr>\n",
       "      <th>1</th>\n",
       "      <td>0</td>\n",
       "    </tr>\n",
       "    <tr>\n",
       "      <th>2</th>\n",
       "      <td>0</td>\n",
       "    </tr>\n",
       "    <tr>\n",
       "      <th>3</th>\n",
       "      <td>0</td>\n",
       "    </tr>\n",
       "    <tr>\n",
       "      <th>4</th>\n",
       "      <td>0</td>\n",
       "    </tr>\n",
       "    <tr>\n",
       "      <th>...</th>\n",
       "      <td>...</td>\n",
       "    </tr>\n",
       "    <tr>\n",
       "      <th>995</th>\n",
       "      <td>0</td>\n",
       "    </tr>\n",
       "    <tr>\n",
       "      <th>996</th>\n",
       "      <td>0</td>\n",
       "    </tr>\n",
       "    <tr>\n",
       "      <th>997</th>\n",
       "      <td>0</td>\n",
       "    </tr>\n",
       "    <tr>\n",
       "      <th>998</th>\n",
       "      <td>0</td>\n",
       "    </tr>\n",
       "    <tr>\n",
       "      <th>999</th>\n",
       "      <td>0</td>\n",
       "    </tr>\n",
       "  </tbody>\n",
       "</table>\n",
       "<p>1000 rows × 1 columns</p>\n",
       "</div>"
      ],
      "text/plain": [
       "     target\n",
       "0         1\n",
       "1         0\n",
       "2         0\n",
       "3         0\n",
       "4         0\n",
       "..      ...\n",
       "995       0\n",
       "996       0\n",
       "997       0\n",
       "998       0\n",
       "999       0\n",
       "\n",
       "[1000 rows x 1 columns]"
      ]
     },
     "execution_count": 10,
     "metadata": {},
     "output_type": "execute_result"
    }
   ],
   "source": [
    "d2 "
   ]
  },
  {
   "cell_type": "code",
   "execution_count": 11,
   "id": "d29a3b1c",
   "metadata": {},
   "outputs": [],
   "source": [
    "final_df=pd.concat([d1,d2],axis=1) "
   ]
  },
  {
   "cell_type": "code",
   "execution_count": 12,
   "id": "bf7f8cba",
   "metadata": {},
   "outputs": [
    {
     "data": {
      "text/plain": [
       "target\n",
       "0    894\n",
       "1    106\n",
       "Name: count, dtype: int64"
      ]
     },
     "execution_count": 12,
     "metadata": {},
     "output_type": "execute_result"
    }
   ],
   "source": [
    "final_df['target'].value_counts()"
   ]
  },
  {
   "cell_type": "code",
   "execution_count": 13,
   "id": "7cd862c3",
   "metadata": {},
   "outputs": [
    {
     "data": {
      "image/png": "[encoded data removed]",
      "text/plain": [
       "<Figure size 640x480 with 1 Axes>"
      ]
     },
     "metadata": {},
     "output_type": "display_data"
    }
   ],
   "source": [
    "import matplotlib.pyplot as plt\n",
    "plt.scatter(final_df['f1'],final_df['f2'],c=final_df['target'])\n",
    "plt.show()"
   ]
  },
  {
   "cell_type": "code",
   "execution_count": 14,
   "id": "4f40f5c0",
   "metadata": {},
   "outputs": [],
   "source": [
    "from imblearn.over_sampling import SMOTE"
   ]
  },
  {
   "cell_type": "code",
   "execution_count": 15,
   "id": "338d3e82",
   "metadata": {},
   "outputs": [],
   "source": [
    "## transform the dataset\n",
    "oversample= SMOTE()\n",
    "X,Y= oversample.fit_resample(final_df[['f1','f2']],final_df['target'])\n"
   ]
  },
  {
   "cell_type": "markdown",
   "id": "11f94f30",
   "metadata": {},
   "source": [
    "X= matrix ( array like data structure )\n",
    "\n",
    "here x = final_df[['f1','f2']]  we did not passed only final_df complete because \n",
    "\n",
    "1. X contains the features (independent variables) of your dataset\n",
    "2. y contains the target variable (dependent variable)\n",
    "\n",
    "\n",
    "This separation is important because SMOTE needs to:\n",
    "Analyze the distribution of classes in y \n",
    "Generate synthetic samples based on the features in X\n",
    "Preserve the relationship between features and target\n",
    "\n",
    "\n",
    "> Why not pass the entire DataFrame?\n",
    "When you pass final_df['target'] separately, it allows SMOTE to:\n",
    "Identify the minority class that needs oversampling\n",
    "Generate synthetic samples only for the minority class\n",
    "Maintain the correct relationship between features and target\n",
    "\n",
    "\n",
    "returns x_sampled, y_sampled\n",
    "\n",
    "\n",
    "x_sampled :- resampled independent features,\n",
    "\n",
    "y_sampled :- resampled target features \n",
    "\n",
    "\n",
    "got 2 columns as n_features\n",
    "\n",
    "n_classes is by default 2 so it got 0,1\n",
    "\n",
    "\n",
    "if coorinates are below a particular slope or point or formula then they are assigned class 1 as minorly \n",
    "\n",
    "\n",
    "\n",
    "The minimum valid value for n_classes is 2 because:\n",
    "\n",
    "With 0 classes: There's nothing to classify\n",
    "With 1 class: There's no other class to compare against\n",
    "With 2 classes: You have a binary classification problem (0 and 1)\n",
    "So when using make_classification, you should always specify n_classes as 2 or greater. For binary classification (which is what you typically use with SMOTE), you would use:\n"
   ]
  },
  {
   "cell_type": "code",
   "execution_count": 16,
   "id": "0e02a64e",
   "metadata": {},
   "outputs": [
    {
     "data": {
      "text/html": [
       "<div>\n",
       "<style scoped>\n",
       "    .dataframe tbody tr th:only-of-type {\n",
       "        vertical-align: middle;\n",
       "    }\n",
       "\n",
       "    .dataframe tbody tr th {\n",
       "        vertical-align: top;\n",
       "    }\n",
       "\n",
       "    .dataframe thead th {\n",
       "        text-align: right;\n",
       "    }\n",
       "</style>\n",
       "<table border=\"1\" class=\"dataframe\">\n",
       "  <thead>\n",
       "    <tr style=\"text-align: right;\">\n",
       "      <th></th>\n",
       "      <th>f1</th>\n",
       "      <th>f2</th>\n",
       "    </tr>\n",
       "  </thead>\n",
       "  <tbody>\n",
       "    <tr>\n",
       "      <th>0</th>\n",
       "      <td>1.536830</td>\n",
       "      <td>-1.398694</td>\n",
       "    </tr>\n",
       "    <tr>\n",
       "      <th>1</th>\n",
       "      <td>1.551108</td>\n",
       "      <td>1.810329</td>\n",
       "    </tr>\n",
       "    <tr>\n",
       "      <th>2</th>\n",
       "      <td>1.293619</td>\n",
       "      <td>1.010946</td>\n",
       "    </tr>\n",
       "    <tr>\n",
       "      <th>3</th>\n",
       "      <td>1.119889</td>\n",
       "      <td>1.632518</td>\n",
       "    </tr>\n",
       "    <tr>\n",
       "      <th>4</th>\n",
       "      <td>1.042356</td>\n",
       "      <td>1.121529</td>\n",
       "    </tr>\n",
       "    <tr>\n",
       "      <th>...</th>\n",
       "      <td>...</td>\n",
       "      <td>...</td>\n",
       "    </tr>\n",
       "    <tr>\n",
       "      <th>1783</th>\n",
       "      <td>0.821566</td>\n",
       "      <td>-0.133863</td>\n",
       "    </tr>\n",
       "    <tr>\n",
       "      <th>1784</th>\n",
       "      <td>0.855050</td>\n",
       "      <td>-0.700831</td>\n",
       "    </tr>\n",
       "    <tr>\n",
       "      <th>1785</th>\n",
       "      <td>-0.031586</td>\n",
       "      <td>0.204788</td>\n",
       "    </tr>\n",
       "    <tr>\n",
       "      <th>1786</th>\n",
       "      <td>0.443081</td>\n",
       "      <td>-0.944988</td>\n",
       "    </tr>\n",
       "    <tr>\n",
       "      <th>1787</th>\n",
       "      <td>0.669809</td>\n",
       "      <td>-0.862433</td>\n",
       "    </tr>\n",
       "  </tbody>\n",
       "</table>\n",
       "<p>1788 rows × 2 columns</p>\n",
       "</div>"
      ],
      "text/plain": [
       "            f1        f2\n",
       "0     1.536830 -1.398694\n",
       "1     1.551108  1.810329\n",
       "2     1.293619  1.010946\n",
       "3     1.119889  1.632518\n",
       "4     1.042356  1.121529\n",
       "...        ...       ...\n",
       "1783  0.821566 -0.133863\n",
       "1784  0.855050 -0.700831\n",
       "1785 -0.031586  0.204788\n",
       "1786  0.443081 -0.944988\n",
       "1787  0.669809 -0.862433\n",
       "\n",
       "[1788 rows x 2 columns]"
      ]
     },
     "execution_count": 16,
     "metadata": {},
     "output_type": "execute_result"
    }
   ],
   "source": [
    "X"
   ]
  },
  {
   "cell_type": "code",
   "execution_count": 17,
   "id": "2d6b55cb",
   "metadata": {},
   "outputs": [
    {
     "data": {
      "text/plain": [
       "0       1\n",
       "1       0\n",
       "2       0\n",
       "3       0\n",
       "4       0\n",
       "       ..\n",
       "1783    1\n",
       "1784    1\n",
       "1785    1\n",
       "1786    1\n",
       "1787    1\n",
       "Name: target, Length: 1788, dtype: int32"
      ]
     },
     "execution_count": 17,
     "metadata": {},
     "output_type": "execute_result"
    }
   ],
   "source": [
    "Y"
   ]
  },
  {
   "cell_type": "code",
   "execution_count": 18,
   "id": "1fb3a7c4",
   "metadata": {},
   "outputs": [
    {
     "data": {
      "text/plain": [
       "(1788, 2)"
      ]
     },
     "execution_count": 18,
     "metadata": {},
     "output_type": "execute_result"
    }
   ],
   "source": [
    "X.shape"
   ]
  },
  {
   "cell_type": "code",
   "execution_count": 19,
   "id": "52f57c42",
   "metadata": {},
   "outputs": [
    {
     "data": {
      "text/plain": [
       "(1788,)"
      ]
     },
     "execution_count": 19,
     "metadata": {},
     "output_type": "execute_result"
    }
   ],
   "source": [
    "Y.shape"
   ]
  },
  {
   "cell_type": "code",
   "execution_count": 20,
   "id": "facb90c7",
   "metadata": {},
   "outputs": [
    {
     "data": {
      "text/plain": [
       "894"
      ]
     },
     "execution_count": 20,
     "metadata": {},
     "output_type": "execute_result"
    }
   ],
   "source": [
    "len(Y[Y==0])"
   ]
  },
  {
   "cell_type": "code",
   "execution_count": 21,
   "id": "f612b880",
   "metadata": {},
   "outputs": [],
   "source": [
    "df1= pd.DataFrame(X,columns=['f1','f2'])\n",
    "df2= pd.DataFrame(Y,columns=['target'])\n",
    "oversample_df= pd.concat([df1,df2],axis=1)"
   ]
  },
  {
   "cell_type": "code",
   "execution_count": 22,
   "id": "53ac0360",
   "metadata": {},
   "outputs": [
    {
     "data": {
      "text/html": [
       "<div>\n",
       "<style scoped>\n",
       "    .dataframe tbody tr th:only-of-type {\n",
       "        vertical-align: middle;\n",
       "    }\n",
       "\n",
       "    .dataframe tbody tr th {\n",
       "        vertical-align: top;\n",
       "    }\n",
       "\n",
       "    .dataframe thead th {\n",
       "        text-align: right;\n",
       "    }\n",
       "</style>\n",
       "<table border=\"1\" class=\"dataframe\">\n",
       "  <thead>\n",
       "    <tr style=\"text-align: right;\">\n",
       "      <th></th>\n",
       "      <th>f1</th>\n",
       "      <th>f2</th>\n",
       "      <th>target</th>\n",
       "    </tr>\n",
       "  </thead>\n",
       "  <tbody>\n",
       "    <tr>\n",
       "      <th>0</th>\n",
       "      <td>1.536830</td>\n",
       "      <td>-1.398694</td>\n",
       "      <td>1</td>\n",
       "    </tr>\n",
       "    <tr>\n",
       "      <th>1</th>\n",
       "      <td>1.551108</td>\n",
       "      <td>1.810329</td>\n",
       "      <td>0</td>\n",
       "    </tr>\n",
       "    <tr>\n",
       "      <th>2</th>\n",
       "      <td>1.293619</td>\n",
       "      <td>1.010946</td>\n",
       "      <td>0</td>\n",
       "    </tr>\n",
       "    <tr>\n",
       "      <th>3</th>\n",
       "      <td>1.119889</td>\n",
       "      <td>1.632518</td>\n",
       "      <td>0</td>\n",
       "    </tr>\n",
       "    <tr>\n",
       "      <th>4</th>\n",
       "      <td>1.042356</td>\n",
       "      <td>1.121529</td>\n",
       "      <td>0</td>\n",
       "    </tr>\n",
       "    <tr>\n",
       "      <th>...</th>\n",
       "      <td>...</td>\n",
       "      <td>...</td>\n",
       "      <td>...</td>\n",
       "    </tr>\n",
       "    <tr>\n",
       "      <th>1783</th>\n",
       "      <td>0.821566</td>\n",
       "      <td>-0.133863</td>\n",
       "      <td>1</td>\n",
       "    </tr>\n",
       "    <tr>\n",
       "      <th>1784</th>\n",
       "      <td>0.855050</td>\n",
       "      <td>-0.700831</td>\n",
       "      <td>1</td>\n",
       "    </tr>\n",
       "    <tr>\n",
       "      <th>1785</th>\n",
       "      <td>-0.031586</td>\n",
       "      <td>0.204788</td>\n",
       "      <td>1</td>\n",
       "    </tr>\n",
       "    <tr>\n",
       "      <th>1786</th>\n",
       "      <td>0.443081</td>\n",
       "      <td>-0.944988</td>\n",
       "      <td>1</td>\n",
       "    </tr>\n",
       "    <tr>\n",
       "      <th>1787</th>\n",
       "      <td>0.669809</td>\n",
       "      <td>-0.862433</td>\n",
       "      <td>1</td>\n",
       "    </tr>\n",
       "  </tbody>\n",
       "</table>\n",
       "<p>1788 rows × 3 columns</p>\n",
       "</div>"
      ],
      "text/plain": [
       "            f1        f2  target\n",
       "0     1.536830 -1.398694       1\n",
       "1     1.551108  1.810329       0\n",
       "2     1.293619  1.010946       0\n",
       "3     1.119889  1.632518       0\n",
       "4     1.042356  1.121529       0\n",
       "...        ...       ...     ...\n",
       "1783  0.821566 -0.133863       1\n",
       "1784  0.855050 -0.700831       1\n",
       "1785 -0.031586  0.204788       1\n",
       "1786  0.443081 -0.944988       1\n",
       "1787  0.669809 -0.862433       1\n",
       "\n",
       "[1788 rows x 3 columns]"
      ]
     },
     "execution_count": 22,
     "metadata": {},
     "output_type": "execute_result"
    }
   ],
   "source": [
    "oversample_df"
   ]
  },
  {
   "cell_type": "code",
   "execution_count": 23,
   "id": "568ac000",
   "metadata": {},
   "outputs": [
    {
     "data": {
      "text/plain": [
       "<matplotlib.collections.PathCollection at 0x1499b346540>"
      ]
     },
     "execution_count": 23,
     "metadata": {},
     "output_type": "execute_result"
    },
    {
     "data": {
      "image/png": "[encoded data removed]",
      "text/plain": [
       "<Figure size 640x480 with 1 Axes>"
      ]
     },
     "metadata": {},
     "output_type": "display_data"
    }
   ],
   "source": [
    "plt.scatter(oversample_df['f1'],oversample_df['f2'],c=oversample_df['target'])"
   ]
  },
  {
   "cell_type": "markdown",
   "id": "75b9a099",
   "metadata": {},
   "source": [
    "##### Some Notes"
   ]
  },
  {
   "cell_type": "markdown",
   "id": "df49b12c",
   "metadata": {},
   "source": [
    "The `make_classification` function in the `sklearn.datasets` module is used to generate synthetic datasets for classification problems. It is particularly useful for testing and experimenting with machine learning algorithms. Here's a breakdown of the function and its parameters:\n",
    "\n",
    "### Code in Your Notebook:\n",
    "```python\n",
    "from sklearn.datasets import make_classification\n",
    "\n",
    "x, y = make_classification(\n",
    "    n_samples=1000,          # Total number of samples (rows) in the dataset\n",
    "    n_features=2,            # Total number of features (columns) in the dataset\n",
    "    n_clusters_per_class=1,  # Number of clusters per class\n",
    "    weights=[0.90],          # Proportion of samples in each class (90% in one class, 10% in the other)\n",
    "    random_state=1,          # Seed for reproducibility\n",
    "    n_redundant=0            # Number of redundant features (linear combinations of informative features)\n",
    ")\n",
    "```\n",
    "\n",
    "### Explanation of Parameters:\n",
    "1. **`n_samples`**:  \n",
    "   The total number of data points (rows) to generate. In your case, 1000 samples are created.\n",
    "\n",
    "2. **`n_features`**:  \n",
    "   The total number of features (columns) in the dataset. Here, you have 2 features.\n",
    "\n",
    "3. **`n_clusters_per_class`**:  \n",
    "   The number of clusters to generate per class. For example, if `n_clusters_per_class=1`, all samples of a class will form a single cluster.\n",
    "\n",
    "   This parameter specifies how many clusters (groups) of data points should be created for each class. \n",
    "\n",
    "**Real-World Example:**\n",
    "Imagine you're classifying fruits into two categories: apples and oranges. If `n_clusters_per_class=1`, all apples will form one cluster, and all oranges will form another cluster. However, if `n_clusters_per_class=2`, apples might form two separate clusters (e.g., red apples and green apples), and oranges might form two clusters (e.g., small oranges and large oranges).\n",
    "\n",
    "In your code, `n_clusters_per_class=1`, so each class (0 or 1) will have a single cluster of points.\n",
    "\n",
    "\n",
    "4. **`weights`**:  \n",
    "   Specifies the proportion of samples in each class. In your case, `[0.90]` means 90% of the samples belong to one class (majority class), and the remaining 10% belong to the other class (minority class).\n",
    "\n",
    "5. **`random_state`**:  \n",
    "   A seed value to ensure reproducibility of the dataset. Using the same seed will generate the same dataset every time.\n",
    "\n",
    "6. **`n_redundant`**:  \n",
    "   The number of redundant features. These are linear combinations of the informative features. In your case, `n_redundant=0`, so no redundant features are added.\n",
    "\n",
    "   This parameter specifies the number of redundant features in the dataset. Redundant features are linear combinations of the informative features, meaning they don't add new information but are derived from existing features.\n",
    "\n",
    "**Real-World Example:**\n",
    "Suppose you're predicting house prices, and you have two features:\n",
    "1. `size_in_sqft` (informative feature)\n",
    "2. `size_in_sq_meters` (redundant feature, as it's just a conversion of `size_in_sqft`).\n",
    "\n",
    "If `n_redundant=1`, one of the features in your dataset will be redundant, derived from the others. In your code, `n_redundant=0`, so no redundant features are added.\n",
    "\n",
    "\n",
    "### Output:\n",
    "- **`x`**:  \n",
    "  A NumPy array of shape `(n_samples, n_features)` containing the feature values.\n",
    "  \n",
    "- **`y`**:  \n",
    "  A NumPy array of shape `(n_samples,)` containing the class labels (0 or 1).\n",
    "\n",
    "### Example:\n",
    "If you visualize the data using a scatter plot (as done later in your notebook), you'll see two clusters corresponding to the two classes, with one class being much larger than the other due to the imbalance specified by `weights=[0.90]`.\n",
    "\n",
    "Let me know if you need further clarification!\n",
    "\n",
    "\n",
    "\n",
    "### Scatter Plot: `c=final_df['target']`\n",
    "In the scatter plot, the `c` parameter specifies the color of each point based on the values in `final_df['target']`. \n",
    "\n",
    "- **`final_df['target']`** contains the class labels (0 or 1) for each data point.\n",
    "- The scatter plot assigns different colors to points based on their class, making it easier to visually distinguish between the two classes.\n",
    "\n",
    "**Real-World Analogy:**\n",
    "Imagine plotting a map of houses for sale, where:\n",
    "- Houses in one price range (e.g., <$500k) are marked in blue.\n",
    "- Houses in another price range (e.g., >$500k) are marked in red.\n",
    "\n",
    "Here, the `c` parameter is like the price range, determining the color of each house on the map. Similarly, in your scatter plot, `c=final_df['target']` colors the points based on their class (0 or 1)."
   ]
  },
  {
   "cell_type": "markdown",
   "id": "e1ba35d0",
   "metadata": {},
   "source": []
  }
 ],
 "metadata": {
  "kernelspec": {
   "display_name": "base",
   "language": "python",
   "name": "python3"
  },
  "language_info": {
   "codemirror_mode": {
    "name": "ipython",
    "version": 3
   },
   "file_extension": ".py",
   "mimetype": "text/x-python",
   "name": "python",
   "nbconvert_exporter": "python",
   "pygments_lexer": "ipython3",
   "version": "3.12.7"
  }
 },
 "nbformat": 4,
 "nbformat_minor": 5
}

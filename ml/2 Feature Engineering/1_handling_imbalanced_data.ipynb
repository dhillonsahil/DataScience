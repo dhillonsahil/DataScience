{
 "cells": [
  {
   "cell_type": "markdown",
   "id": "3990f0e5",
   "metadata": {},
   "source": [
    "1. UpSampling\n",
    "2. DownSampling"
   ]
  },
  {
   "cell_type": "code",
   "execution_count": 1,
   "id": "b7e39666",
   "metadata": {},
   "outputs": [],
   "source": [
    "import pandas as pd\n",
    "import numpy as np"
   ]
  },
  {
   "cell_type": "markdown",
   "id": "2be0934a",
   "metadata": {},
   "source": [
    "In NumPy, np.random.seed(123) sets the random number generator's seed to a fixed value — in this case, 123.\n",
    "What does that mean?\n",
    "\n",
    "NumPy's random functions (like np.random.rand(), np.random.randint(), etc.) generate pseudo-random numbers. These numbers aren't truly random — they're determined by a mathematical formula — so if you start from the same seed, you'll get the same sequence of numbers every time"
   ]
  },
  {
   "cell_type": "markdown",
   "id": "e250d911",
   "metadata": {},
   "source": [
    "Why use a seed?\n",
    "\n",
    "    ✅ Reproducibility: Ensures that your results can be exactly replicated — very important for debugging, testing, and sharing your work.\n",
    "\n",
    "    🔄 Controlled randomness: You still get random-like results, but they're repeatable when needed."
   ]
  },
  {
   "cell_type": "code",
   "execution_count": 2,
   "id": "62e91a19",
   "metadata": {},
   "outputs": [],
   "source": [
    "np.random.seed(123)\n",
    "\n",
    "n_samples =1000\n",
    "class_0_ratio = 0.9\n",
    "n_class_0=int(n_samples*class_0_ratio) # will generate 900 data points of class 0\n",
    "n_class_1=n_samples-n_class_0 # 100 data points of class 1"
   ]
  },
  {
   "cell_type": "code",
   "execution_count": 3,
   "id": "8a668f18",
   "metadata": {},
   "outputs": [
    {
     "data": {
      "text/plain": [
       "(900, 100)"
      ]
     },
     "execution_count": 3,
     "metadata": {},
     "output_type": "execute_result"
    }
   ],
   "source": [
    "n_class_0, n_class_1"
   ]
  },
  {
   "cell_type": "code",
   "execution_count": 5,
   "id": "57233547",
   "metadata": {},
   "outputs": [],
   "source": [
    "class_0 = pd.DataFrame({\n",
    "    'feature_1':np.random.normal(loc=0,scale=1,size=n_class_0),\n",
    "    'feature_2':np.random.normal(loc=0,scale=1,size=n_class_0),\n",
    "    'target':[0]*n_class_0\n",
    "})\n",
    "\n",
    "class_1 = pd.DataFrame({\n",
    "    'feature_1':np.random.normal(loc=2,scale=1,size=n_class_1),\n",
    "    'feature_2':np.random.normal(loc=2,scale=1,size=n_class_1),\n",
    "    'target':[1]*n_class_1\n",
    "})"
   ]
  },
  {
   "cell_type": "markdown",
   "id": "96e3c082",
   "metadata": {},
   "source": [
    "What is np.random.normal(loc=..., scale=..., size=...)?\n",
    "\n",
    "This function generates random numbers from a normal (Gaussian) distribution — the bell curve.\n",
    "Parameters:\n",
    "\n",
    "    loc → The mean of the distribution (center of the bell curve).\n",
    "\n",
    "    scale → The standard deviation (spread or width of the bell).\n",
    "\n",
    "    size → How many numbers you want to generate."
   ]
  },
  {
   "cell_type": "markdown",
   "id": "7b883801",
   "metadata": {},
   "source": [
    "Mean (loc) = 0 → Most values will be centered around 0.\n",
    "\n",
    "Standard Deviation (scale) = 1 → Most values will lie within about ±1 of the mean."
   ]
  },
  {
   "cell_type": "markdown",
   "id": "a3908256",
   "metadata": {},
   "source": [
    "🏷️ 2. What is 'target': [0]*n_class_0?\n",
    "\n",
    "so [0] is the value which is multiped by a number say 10 to get a list with 10 values are 0\n",
    "\n",
    "[0]*10 = [0,0,0,0,0,0,0,0,0,0]\n",
    "\n",
    "[2]*4=[2,2,2,2]"
   ]
  },
  {
   "cell_type": "code",
   "execution_count": 23,
   "id": "67427823",
   "metadata": {},
   "outputs": [],
   "source": [
    "# class_0.hist()"
   ]
  },
  {
   "cell_type": "code",
   "execution_count": 14,
   "id": "52c0edf1",
   "metadata": {},
   "outputs": [
    {
     "data": {
      "text/html": [
       "<div>\n",
       "<style scoped>\n",
       "    .dataframe tbody tr th:only-of-type {\n",
       "        vertical-align: middle;\n",
       "    }\n",
       "\n",
       "    .dataframe tbody tr th {\n",
       "        vertical-align: top;\n",
       "    }\n",
       "\n",
       "    .dataframe thead th {\n",
       "        text-align: right;\n",
       "    }\n",
       "</style>\n",
       "<table border=\"1\" class=\"dataframe\">\n",
       "  <thead>\n",
       "    <tr style=\"text-align: right;\">\n",
       "      <th></th>\n",
       "      <th>feature_1</th>\n",
       "      <th>feature_2</th>\n",
       "      <th>target</th>\n",
       "    </tr>\n",
       "  </thead>\n",
       "  <tbody>\n",
       "    <tr>\n",
       "      <th>0</th>\n",
       "      <td>-0.643425</td>\n",
       "      <td>2.571923</td>\n",
       "      <td>1</td>\n",
       "    </tr>\n",
       "    <tr>\n",
       "      <th>1</th>\n",
       "      <td>1.551009</td>\n",
       "      <td>1.782767</td>\n",
       "      <td>1</td>\n",
       "    </tr>\n",
       "    <tr>\n",
       "      <th>2</th>\n",
       "      <td>1.641093</td>\n",
       "      <td>2.054318</td>\n",
       "      <td>1</td>\n",
       "    </tr>\n",
       "    <tr>\n",
       "      <th>3</th>\n",
       "      <td>2.133194</td>\n",
       "      <td>2.155998</td>\n",
       "      <td>1</td>\n",
       "    </tr>\n",
       "    <tr>\n",
       "      <th>4</th>\n",
       "      <td>1.355758</td>\n",
       "      <td>2.467810</td>\n",
       "      <td>1</td>\n",
       "    </tr>\n",
       "    <tr>\n",
       "      <th>...</th>\n",
       "      <td>...</td>\n",
       "      <td>...</td>\n",
       "      <td>...</td>\n",
       "    </tr>\n",
       "    <tr>\n",
       "      <th>95</th>\n",
       "      <td>2.677156</td>\n",
       "      <td>1.092048</td>\n",
       "      <td>1</td>\n",
       "    </tr>\n",
       "    <tr>\n",
       "      <th>96</th>\n",
       "      <td>2.963404</td>\n",
       "      <td>0.181955</td>\n",
       "      <td>1</td>\n",
       "    </tr>\n",
       "    <tr>\n",
       "      <th>97</th>\n",
       "      <td>1.621476</td>\n",
       "      <td>1.877267</td>\n",
       "      <td>1</td>\n",
       "    </tr>\n",
       "    <tr>\n",
       "      <th>98</th>\n",
       "      <td>3.429559</td>\n",
       "      <td>3.794486</td>\n",
       "      <td>1</td>\n",
       "    </tr>\n",
       "    <tr>\n",
       "      <th>99</th>\n",
       "      <td>3.532273</td>\n",
       "      <td>1.679490</td>\n",
       "      <td>1</td>\n",
       "    </tr>\n",
       "  </tbody>\n",
       "</table>\n",
       "<p>100 rows × 3 columns</p>\n",
       "</div>"
      ],
      "text/plain": [
       "    feature_1  feature_2  target\n",
       "0   -0.643425   2.571923       1\n",
       "1    1.551009   1.782767       1\n",
       "2    1.641093   2.054318       1\n",
       "3    2.133194   2.155998       1\n",
       "4    1.355758   2.467810       1\n",
       "..        ...        ...     ...\n",
       "95   2.677156   1.092048       1\n",
       "96   2.963404   0.181955       1\n",
       "97   1.621476   1.877267       1\n",
       "98   3.429559   3.794486       1\n",
       "99   3.532273   1.679490       1\n",
       "\n",
       "[100 rows x 3 columns]"
      ]
     },
     "execution_count": 14,
     "metadata": {},
     "output_type": "execute_result"
    }
   ],
   "source": [
    "class_1"
   ]
  },
  {
   "cell_type": "code",
   "execution_count": 22,
   "id": "54a1bbed",
   "metadata": {},
   "outputs": [],
   "source": [
    "# class_1.hist()"
   ]
  },
  {
   "cell_type": "code",
   "execution_count": 16,
   "id": "ea8d7fbf",
   "metadata": {},
   "outputs": [],
   "source": [
    "df = pd.concat([class_0,class_1]).reset_index(drop=True)"
   ]
  },
  {
   "cell_type": "code",
   "execution_count": 17,
   "id": "666fd353",
   "metadata": {},
   "outputs": [
    {
     "data": {
      "text/html": [
       "<div>\n",
       "<style scoped>\n",
       "    .dataframe tbody tr th:only-of-type {\n",
       "        vertical-align: middle;\n",
       "    }\n",
       "\n",
       "    .dataframe tbody tr th {\n",
       "        vertical-align: top;\n",
       "    }\n",
       "\n",
       "    .dataframe thead th {\n",
       "        text-align: right;\n",
       "    }\n",
       "</style>\n",
       "<table border=\"1\" class=\"dataframe\">\n",
       "  <thead>\n",
       "    <tr style=\"text-align: right;\">\n",
       "      <th></th>\n",
       "      <th>feature_1</th>\n",
       "      <th>feature_2</th>\n",
       "      <th>target</th>\n",
       "    </tr>\n",
       "  </thead>\n",
       "  <tbody>\n",
       "    <tr>\n",
       "      <th>0</th>\n",
       "      <td>-1.774224</td>\n",
       "      <td>0.285744</td>\n",
       "      <td>0</td>\n",
       "    </tr>\n",
       "    <tr>\n",
       "      <th>1</th>\n",
       "      <td>-1.201377</td>\n",
       "      <td>0.333279</td>\n",
       "      <td>0</td>\n",
       "    </tr>\n",
       "    <tr>\n",
       "      <th>2</th>\n",
       "      <td>1.096257</td>\n",
       "      <td>0.531807</td>\n",
       "      <td>0</td>\n",
       "    </tr>\n",
       "    <tr>\n",
       "      <th>3</th>\n",
       "      <td>0.861037</td>\n",
       "      <td>-0.354766</td>\n",
       "      <td>0</td>\n",
       "    </tr>\n",
       "    <tr>\n",
       "      <th>4</th>\n",
       "      <td>-1.520367</td>\n",
       "      <td>-1.120815</td>\n",
       "      <td>0</td>\n",
       "    </tr>\n",
       "    <tr>\n",
       "      <th>...</th>\n",
       "      <td>...</td>\n",
       "      <td>...</td>\n",
       "      <td>...</td>\n",
       "    </tr>\n",
       "    <tr>\n",
       "      <th>995</th>\n",
       "      <td>2.677156</td>\n",
       "      <td>1.092048</td>\n",
       "      <td>1</td>\n",
       "    </tr>\n",
       "    <tr>\n",
       "      <th>996</th>\n",
       "      <td>2.963404</td>\n",
       "      <td>0.181955</td>\n",
       "      <td>1</td>\n",
       "    </tr>\n",
       "    <tr>\n",
       "      <th>997</th>\n",
       "      <td>1.621476</td>\n",
       "      <td>1.877267</td>\n",
       "      <td>1</td>\n",
       "    </tr>\n",
       "    <tr>\n",
       "      <th>998</th>\n",
       "      <td>3.429559</td>\n",
       "      <td>3.794486</td>\n",
       "      <td>1</td>\n",
       "    </tr>\n",
       "    <tr>\n",
       "      <th>999</th>\n",
       "      <td>3.532273</td>\n",
       "      <td>1.679490</td>\n",
       "      <td>1</td>\n",
       "    </tr>\n",
       "  </tbody>\n",
       "</table>\n",
       "<p>1000 rows × 3 columns</p>\n",
       "</div>"
      ],
      "text/plain": [
       "     feature_1  feature_2  target\n",
       "0    -1.774224   0.285744       0\n",
       "1    -1.201377   0.333279       0\n",
       "2     1.096257   0.531807       0\n",
       "3     0.861037  -0.354766       0\n",
       "4    -1.520367  -1.120815       0\n",
       "..         ...        ...     ...\n",
       "995   2.677156   1.092048       1\n",
       "996   2.963404   0.181955       1\n",
       "997   1.621476   1.877267       1\n",
       "998   3.429559   3.794486       1\n",
       "999   3.532273   1.679490       1\n",
       "\n",
       "[1000 rows x 3 columns]"
      ]
     },
     "execution_count": 17,
     "metadata": {},
     "output_type": "execute_result"
    }
   ],
   "source": [
    "df"
   ]
  },
  {
   "cell_type": "code",
   "execution_count": 18,
   "id": "82844da6",
   "metadata": {},
   "outputs": [
    {
     "data": {
      "text/plain": [
       "target\n",
       "0    900\n",
       "1    100\n",
       "Name: count, dtype: int64"
      ]
     },
     "execution_count": 18,
     "metadata": {},
     "output_type": "execute_result"
    }
   ],
   "source": [
    "df['target'].value_counts()"
   ]
  },
  {
   "cell_type": "code",
   "execution_count": 21,
   "id": "f07eada4",
   "metadata": {},
   "outputs": [],
   "source": [
    "# df.hist()"
   ]
  },
  {
   "cell_type": "code",
   "execution_count": 20,
   "id": "eefba1a7",
   "metadata": {},
   "outputs": [
    {
     "data": {
      "text/plain": [
       "target\n",
       "0    900\n",
       "1    100\n",
       "Name: count, dtype: int64"
      ]
     },
     "execution_count": 20,
     "metadata": {},
     "output_type": "execute_result"
    }
   ],
   "source": [
    "df['target'].value_counts()"
   ]
  },
  {
   "cell_type": "markdown",
   "id": "99d80d4c",
   "metadata": {},
   "source": [
    "#### Up Sampling\n",
    "\n",
    "Making the value of this 100 (1 row )increase"
   ]
  },
  {
   "cell_type": "code",
   "execution_count": 28,
   "id": "e774a439",
   "metadata": {},
   "outputs": [],
   "source": [
    "df_minority=df[df['target']==1]  # minority is where target =1 because these are 100\n",
    "df_majority=df[df['target']==0] # majority is where target = 0 because these are 900"
   ]
  },
  {
   "cell_type": "code",
   "execution_count": 26,
   "id": "f354d25f",
   "metadata": {},
   "outputs": [
    {
     "data": {
      "text/html": [
       "<div>\n",
       "<style scoped>\n",
       "    .dataframe tbody tr th:only-of-type {\n",
       "        vertical-align: middle;\n",
       "    }\n",
       "\n",
       "    .dataframe tbody tr th {\n",
       "        vertical-align: top;\n",
       "    }\n",
       "\n",
       "    .dataframe thead th {\n",
       "        text-align: right;\n",
       "    }\n",
       "</style>\n",
       "<table border=\"1\" class=\"dataframe\">\n",
       "  <thead>\n",
       "    <tr style=\"text-align: right;\">\n",
       "      <th></th>\n",
       "      <th>feature_1</th>\n",
       "      <th>feature_2</th>\n",
       "      <th>target</th>\n",
       "    </tr>\n",
       "  </thead>\n",
       "  <tbody>\n",
       "    <tr>\n",
       "      <th>900</th>\n",
       "      <td>-0.643425</td>\n",
       "      <td>2.571923</td>\n",
       "      <td>1</td>\n",
       "    </tr>\n",
       "    <tr>\n",
       "      <th>901</th>\n",
       "      <td>1.551009</td>\n",
       "      <td>1.782767</td>\n",
       "      <td>1</td>\n",
       "    </tr>\n",
       "    <tr>\n",
       "      <th>902</th>\n",
       "      <td>1.641093</td>\n",
       "      <td>2.054318</td>\n",
       "      <td>1</td>\n",
       "    </tr>\n",
       "    <tr>\n",
       "      <th>903</th>\n",
       "      <td>2.133194</td>\n",
       "      <td>2.155998</td>\n",
       "      <td>1</td>\n",
       "    </tr>\n",
       "    <tr>\n",
       "      <th>904</th>\n",
       "      <td>1.355758</td>\n",
       "      <td>2.467810</td>\n",
       "      <td>1</td>\n",
       "    </tr>\n",
       "  </tbody>\n",
       "</table>\n",
       "</div>"
      ],
      "text/plain": [
       "     feature_1  feature_2  target\n",
       "900  -0.643425   2.571923       1\n",
       "901   1.551009   1.782767       1\n",
       "902   1.641093   2.054318       1\n",
       "903   2.133194   2.155998       1\n",
       "904   1.355758   2.467810       1"
      ]
     },
     "execution_count": 26,
     "metadata": {},
     "output_type": "execute_result"
    }
   ],
   "source": [
    "df_minority.head()"
   ]
  },
  {
   "cell_type": "code",
   "execution_count": 27,
   "id": "d467c924",
   "metadata": {},
   "outputs": [
    {
     "data": {
      "text/html": [
       "<div>\n",
       "<style scoped>\n",
       "    .dataframe tbody tr th:only-of-type {\n",
       "        vertical-align: middle;\n",
       "    }\n",
       "\n",
       "    .dataframe tbody tr th {\n",
       "        vertical-align: top;\n",
       "    }\n",
       "\n",
       "    .dataframe thead th {\n",
       "        text-align: right;\n",
       "    }\n",
       "</style>\n",
       "<table border=\"1\" class=\"dataframe\">\n",
       "  <thead>\n",
       "    <tr style=\"text-align: right;\">\n",
       "      <th></th>\n",
       "      <th>feature_1</th>\n",
       "      <th>feature_2</th>\n",
       "      <th>target</th>\n",
       "    </tr>\n",
       "  </thead>\n",
       "  <tbody>\n",
       "    <tr>\n",
       "      <th>0</th>\n",
       "      <td>-1.774224</td>\n",
       "      <td>0.285744</td>\n",
       "      <td>0</td>\n",
       "    </tr>\n",
       "    <tr>\n",
       "      <th>1</th>\n",
       "      <td>-1.201377</td>\n",
       "      <td>0.333279</td>\n",
       "      <td>0</td>\n",
       "    </tr>\n",
       "    <tr>\n",
       "      <th>2</th>\n",
       "      <td>1.096257</td>\n",
       "      <td>0.531807</td>\n",
       "      <td>0</td>\n",
       "    </tr>\n",
       "    <tr>\n",
       "      <th>3</th>\n",
       "      <td>0.861037</td>\n",
       "      <td>-0.354766</td>\n",
       "      <td>0</td>\n",
       "    </tr>\n",
       "    <tr>\n",
       "      <th>4</th>\n",
       "      <td>-1.520367</td>\n",
       "      <td>-1.120815</td>\n",
       "      <td>0</td>\n",
       "    </tr>\n",
       "  </tbody>\n",
       "</table>\n",
       "</div>"
      ],
      "text/plain": [
       "   feature_1  feature_2  target\n",
       "0  -1.774224   0.285744       0\n",
       "1  -1.201377   0.333279       0\n",
       "2   1.096257   0.531807       0\n",
       "3   0.861037  -0.354766       0\n",
       "4  -1.520367  -1.120815       0"
      ]
     },
     "execution_count": 27,
     "metadata": {},
     "output_type": "execute_result"
    }
   ],
   "source": [
    "df_majority.head()"
   ]
  },
  {
   "cell_type": "code",
   "execution_count": 30,
   "id": "6d87fd26",
   "metadata": {},
   "outputs": [],
   "source": [
    "## Upsampling perform\n",
    "from sklearn.utils import resample"
   ]
  },
  {
   "cell_type": "code",
   "execution_count": 32,
   "id": "7ec6236a",
   "metadata": {},
   "outputs": [],
   "source": [
    "df_minority_upsample=resample(df_minority,replace=True,n_samples=len(df_majority),random_state=42 ) # this replace = True ( sample with replacement) will generate additional samples"
   ]
  },
  {
   "cell_type": "markdown",
   "id": "400e09f6",
   "metadata": {},
   "source": [
    "### 🔁 What Does `replace=True` Mean in Resampling?\n",
    "\n",
    "When using `resample(df_minority, replace=True)`, you're performing **sampling with replacement**.\n",
    "\n",
    "---\n",
    "\n",
    "#### ✅ What is Sampling With Replacement?\n",
    "\n",
    "- **With replacement** means that **after a sample (row) is selected, it is put back into the pool**, so it **can be selected again**.\n",
    "- This allows **duplicate rows** to appear in the resampled dataset.\n",
    "- It's commonly used when **upsampling** a minority class — especially when you need more samples than you originally have.\n",
    "\n",
    "---\n",
    "\n",
    "#### ❌ Sampling Without Replacement (`replace=False`)\n",
    "\n",
    "- Once a sample is selected, it is **not returned to the pool**.\n",
    "- Each sampled row is **unique**, so the number of samples you can draw is limited to the number of original rows.\n",
    "\n",
    "---\n",
    "\n",
    "#### 🎯 Why Use `replace=True`?\n",
    "\n",
    "When upsampling a minority class:\n",
    "\n",
    "- You might only have, for example, 100 rows in `df_minority`.\n",
    "- If you want to increase that to 500 rows, you **must sample with replacement**, otherwise you can’t get more than 100 unique samples.\n",
    "- Sampling with replacement allows you to **repeat some rows**, effectively boosting the minority class size.\n",
    "\n",
    "---\n",
    "\n",
    "#### 🧠 Example:\n",
    "\n",
    "Original `df_minority`:\n",
    "\n",
    "| index | feature_1 | feature_2 | target |\n",
    "|-------|-----------|-----------|--------|\n",
    "| 0     | 0.5       | 1.2       | 1      |\n",
    "| 1     | 0.7       | 0.9       | 1      |\n",
    "| 2     | 0.3       | 1.0       | 1      |\n",
    "\n",
    "Resampled with replacement (`n_samples=5`):\n",
    "\n",
    "| index | feature_1 | feature_2 | target |\n",
    "|-------|-----------|-----------|--------|\n",
    "| 1     | 0.7       | 0.9       | 1      |\n",
    "| 0     | 0.5       | 1.2       | 1      |\n",
    "| 1     | 0.7       | 0.9       | 1      |  ← repeated\n",
    "| 2     | 0.3       | 1.0       | 1      |\n",
    "| 0     | 0.5       | 1.2       | 1      |  ← repeated\n",
    "\n",
    "---\n",
    "\n",
    "#### ✅ Summary:\n",
    "\n",
    "- `replace=True` → allows **duplicates** → used for **upsampling**.\n",
    "- Useful when you want to **balance class distributions** in a dataset.\n",
    "\n",
    "You're allowing the function to duplicate rows from df_minority in the resampled output."
   ]
  },
  {
   "cell_type": "markdown",
   "id": "f2041042",
   "metadata": {},
   "source": [
    " What is random_state?\n",
    "\n",
    "In the context of functions like resample(), random_state is a seed for the random number generator. It controls the randomness of the operation, allowing for reproducibility.\n",
    "🧠 Key Points About random_state\n",
    "\n",
    "    Deterministic Randomness:\n",
    "\n",
    "        When you use a random operation (like sampling, splitting, or shuffling), it is generally random and will produce different results every time you run it.\n",
    "\n",
    "        However, by setting random_state to a fixed value, you can make sure that the random process always produces the same result.\n",
    "\n",
    "    Why is it useful?:\n",
    "\n",
    "        Reproducibility: By fixing the seed (random_state), you ensure that your results can be replicated by anyone running the same code.\n",
    "\n",
    "        In machine learning, this is useful when you want to compare models or results consistently across different runs.\n",
    "\n",
    "        It ensures that even with random processes, the outputs are predictable for testing, debugging, or reporting.\n",
    "\n",
    "    How to Use It:\n",
    "\n",
    "        random_state can be set to any integer value (e.g., 42, 0, 100, etc.). This will \"lock\" the randomness.\n",
    "\n",
    "        If you set random_state=None (the default), it will generate a different random sequence each time you run the code.\n",
    "\n",
    "        Using the same number for random_state ensures you get the same result every time."
   ]
  },
  {
   "cell_type": "code",
   "execution_count": 33,
   "id": "6378ec2c",
   "metadata": {},
   "outputs": [
    {
     "data": {
      "text/plain": [
       "(900, 3)"
      ]
     },
     "execution_count": 33,
     "metadata": {},
     "output_type": "execute_result"
    }
   ],
   "source": [
    "df_minority_upsample.shape"
   ]
  },
  {
   "cell_type": "code",
   "execution_count": 34,
   "id": "4ddc85d8",
   "metadata": {},
   "outputs": [
    {
     "data": {
      "text/plain": [
       "feature_1  feature_2  target\n",
       "2.672100   4.062063   1         19\n",
       "2.931332   0.238687   1         18\n",
       "2.615975   2.827540   1         18\n",
       "1.297848   1.971292   1         16\n",
       "3.429559   3.794486   1         16\n",
       "                                ..\n",
       "1.185665   1.072206   1          4\n",
       "2.200704   2.874327   1          4\n",
       "2.353186   3.057770   1          4\n",
       "2.029244   1.073458   1          4\n",
       "3.308688   1.309217   1          3\n",
       "Name: count, Length: 100, dtype: int64"
      ]
     },
     "execution_count": 34,
     "metadata": {},
     "output_type": "execute_result"
    }
   ],
   "source": [
    "df_minority_upsample.value_counts()"
   ]
  },
  {
   "cell_type": "code",
   "execution_count": 35,
   "id": "c4ee14bc",
   "metadata": {},
   "outputs": [
    {
     "data": {
      "text/plain": [
       "target\n",
       "1    900\n",
       "Name: count, dtype: int64"
      ]
     },
     "execution_count": 35,
     "metadata": {},
     "output_type": "execute_result"
    }
   ],
   "source": [
    "df_minority_upsample['target'].value_counts()\n"
   ]
  },
  {
   "cell_type": "code",
   "execution_count": 36,
   "id": "cd753374",
   "metadata": {},
   "outputs": [],
   "source": [
    "df_upsampled= pd.concat([df_majority,df_minority_upsample])"
   ]
  },
  {
   "cell_type": "code",
   "execution_count": 37,
   "id": "fe0f01a9",
   "metadata": {},
   "outputs": [
    {
     "data": {
      "text/plain": [
       "target\n",
       "0    900\n",
       "1    900\n",
       "Name: count, dtype: int64"
      ]
     },
     "execution_count": 37,
     "metadata": {},
     "output_type": "execute_result"
    }
   ],
   "source": [
    "df_upsampled['target'].value_counts()"
   ]
  },
  {
   "cell_type": "code",
   "execution_count": 38,
   "id": "d365d8b9",
   "metadata": {},
   "outputs": [
    {
     "data": {
      "text/plain": [
       "(1800, 3)"
      ]
     },
     "execution_count": 38,
     "metadata": {},
     "output_type": "execute_result"
    }
   ],
   "source": [
    "df_upsampled.shape"
   ]
  },
  {
   "cell_type": "markdown",
   "id": "b41d7e40",
   "metadata": {},
   "source": [
    "#### Down Sampling"
   ]
  },
  {
   "cell_type": "code",
   "execution_count": 39,
   "id": "240638a4",
   "metadata": {},
   "outputs": [],
   "source": [
    "class_0 = pd.DataFrame({\n",
    "    'feature_1':np.random.normal(loc=0,scale=1,size=n_class_0),\n",
    "    'feature_2':np.random.normal(loc=0,scale=1,size=n_class_0),\n",
    "    'target':[0]*n_class_0\n",
    "})\n",
    "\n",
    "class_1 = pd.DataFrame({\n",
    "    'feature_1':np.random.normal(loc=2,scale=1,size=n_class_1),\n",
    "    'feature_2':np.random.normal(loc=2,scale=1,size=n_class_1),\n",
    "    'target':[1]*n_class_1\n",
    "})"
   ]
  },
  {
   "cell_type": "code",
   "execution_count": 40,
   "id": "6d6bdffd",
   "metadata": {},
   "outputs": [],
   "source": [
    "df=pd.concat([class_0,class_1]).reset_index(drop=True)"
   ]
  },
  {
   "cell_type": "code",
   "execution_count": 41,
   "id": "476845b8",
   "metadata": {},
   "outputs": [
    {
     "data": {
      "text/html": [
       "<div>\n",
       "<style scoped>\n",
       "    .dataframe tbody tr th:only-of-type {\n",
       "        vertical-align: middle;\n",
       "    }\n",
       "\n",
       "    .dataframe tbody tr th {\n",
       "        vertical-align: top;\n",
       "    }\n",
       "\n",
       "    .dataframe thead th {\n",
       "        text-align: right;\n",
       "    }\n",
       "</style>\n",
       "<table border=\"1\" class=\"dataframe\">\n",
       "  <thead>\n",
       "    <tr style=\"text-align: right;\">\n",
       "      <th></th>\n",
       "      <th>feature_1</th>\n",
       "      <th>feature_2</th>\n",
       "      <th>target</th>\n",
       "    </tr>\n",
       "  </thead>\n",
       "  <tbody>\n",
       "    <tr>\n",
       "      <th>0</th>\n",
       "      <td>1.517860</td>\n",
       "      <td>-0.941745</td>\n",
       "      <td>0</td>\n",
       "    </tr>\n",
       "    <tr>\n",
       "      <th>1</th>\n",
       "      <td>0.824163</td>\n",
       "      <td>0.691638</td>\n",
       "      <td>0</td>\n",
       "    </tr>\n",
       "    <tr>\n",
       "      <th>2</th>\n",
       "      <td>-1.797046</td>\n",
       "      <td>-0.234782</td>\n",
       "      <td>0</td>\n",
       "    </tr>\n",
       "    <tr>\n",
       "      <th>3</th>\n",
       "      <td>0.098292</td>\n",
       "      <td>0.135919</td>\n",
       "      <td>0</td>\n",
       "    </tr>\n",
       "    <tr>\n",
       "      <th>4</th>\n",
       "      <td>0.388795</td>\n",
       "      <td>2.684533</td>\n",
       "      <td>0</td>\n",
       "    </tr>\n",
       "    <tr>\n",
       "      <th>...</th>\n",
       "      <td>...</td>\n",
       "      <td>...</td>\n",
       "      <td>...</td>\n",
       "    </tr>\n",
       "    <tr>\n",
       "      <th>995</th>\n",
       "      <td>1.385447</td>\n",
       "      <td>2.249912</td>\n",
       "      <td>1</td>\n",
       "    </tr>\n",
       "    <tr>\n",
       "      <th>996</th>\n",
       "      <td>3.568762</td>\n",
       "      <td>2.027591</td>\n",
       "      <td>1</td>\n",
       "    </tr>\n",
       "    <tr>\n",
       "      <th>997</th>\n",
       "      <td>2.540002</td>\n",
       "      <td>3.365407</td>\n",
       "      <td>1</td>\n",
       "    </tr>\n",
       "    <tr>\n",
       "      <th>998</th>\n",
       "      <td>2.662896</td>\n",
       "      <td>1.580869</td>\n",
       "      <td>1</td>\n",
       "    </tr>\n",
       "    <tr>\n",
       "      <th>999</th>\n",
       "      <td>2.565475</td>\n",
       "      <td>1.331875</td>\n",
       "      <td>1</td>\n",
       "    </tr>\n",
       "  </tbody>\n",
       "</table>\n",
       "<p>1000 rows × 3 columns</p>\n",
       "</div>"
      ],
      "text/plain": [
       "     feature_1  feature_2  target\n",
       "0     1.517860  -0.941745       0\n",
       "1     0.824163   0.691638       0\n",
       "2    -1.797046  -0.234782       0\n",
       "3     0.098292   0.135919       0\n",
       "4     0.388795   2.684533       0\n",
       "..         ...        ...     ...\n",
       "995   1.385447   2.249912       1\n",
       "996   3.568762   2.027591       1\n",
       "997   2.540002   3.365407       1\n",
       "998   2.662896   1.580869       1\n",
       "999   2.565475   1.331875       1\n",
       "\n",
       "[1000 rows x 3 columns]"
      ]
     },
     "execution_count": 41,
     "metadata": {},
     "output_type": "execute_result"
    }
   ],
   "source": [
    "df"
   ]
  },
  {
   "cell_type": "code",
   "execution_count": 43,
   "id": "9fb5d563",
   "metadata": {},
   "outputs": [],
   "source": [
    "df_minority=df[df['target']==1]\n",
    "df_majority=df[df['target']==0]"
   ]
  },
  {
   "cell_type": "code",
   "execution_count": 44,
   "id": "8c718141",
   "metadata": {},
   "outputs": [
    {
     "data": {
      "text/plain": [
       "((100, 3), (900, 3))"
      ]
     },
     "execution_count": 44,
     "metadata": {},
     "output_type": "execute_result"
    }
   ],
   "source": [
    "df_minority.shape, df_majority.shape "
   ]
  },
  {
   "cell_type": "code",
   "execution_count": 49,
   "id": "f51166c0",
   "metadata": {},
   "outputs": [],
   "source": [
    "## DownScaling perform\n",
    "df_majority_downsample = resample(df_majority,\n",
    "                                  replace=False,\n",
    "                                  n_samples=len(df_minority),\n",
    "                                  random_state=42) # this is sample without repalcement"
   ]
  },
  {
   "cell_type": "code",
   "execution_count": 50,
   "id": "4a8d267a",
   "metadata": {},
   "outputs": [
    {
     "data": {
      "text/html": [
       "<div>\n",
       "<style scoped>\n",
       "    .dataframe tbody tr th:only-of-type {\n",
       "        vertical-align: middle;\n",
       "    }\n",
       "\n",
       "    .dataframe tbody tr th {\n",
       "        vertical-align: top;\n",
       "    }\n",
       "\n",
       "    .dataframe thead th {\n",
       "        text-align: right;\n",
       "    }\n",
       "</style>\n",
       "<table border=\"1\" class=\"dataframe\">\n",
       "  <thead>\n",
       "    <tr style=\"text-align: right;\">\n",
       "      <th></th>\n",
       "      <th>feature_1</th>\n",
       "      <th>feature_2</th>\n",
       "      <th>target</th>\n",
       "    </tr>\n",
       "  </thead>\n",
       "  <tbody>\n",
       "    <tr>\n",
       "      <th>70</th>\n",
       "      <td>-1.644016</td>\n",
       "      <td>-1.319344</td>\n",
       "      <td>0</td>\n",
       "    </tr>\n",
       "    <tr>\n",
       "      <th>827</th>\n",
       "      <td>0.300620</td>\n",
       "      <td>0.195662</td>\n",
       "      <td>0</td>\n",
       "    </tr>\n",
       "    <tr>\n",
       "      <th>231</th>\n",
       "      <td>-0.479301</td>\n",
       "      <td>1.028600</td>\n",
       "      <td>0</td>\n",
       "    </tr>\n",
       "    <tr>\n",
       "      <th>588</th>\n",
       "      <td>1.124394</td>\n",
       "      <td>0.360059</td>\n",
       "      <td>0</td>\n",
       "    </tr>\n",
       "    <tr>\n",
       "      <th>39</th>\n",
       "      <td>-0.792136</td>\n",
       "      <td>-0.742869</td>\n",
       "      <td>0</td>\n",
       "    </tr>\n",
       "    <tr>\n",
       "      <th>...</th>\n",
       "      <td>...</td>\n",
       "      <td>...</td>\n",
       "      <td>...</td>\n",
       "    </tr>\n",
       "    <tr>\n",
       "      <th>398</th>\n",
       "      <td>0.029044</td>\n",
       "      <td>1.393804</td>\n",
       "      <td>0</td>\n",
       "    </tr>\n",
       "    <tr>\n",
       "      <th>76</th>\n",
       "      <td>0.222636</td>\n",
       "      <td>0.259494</td>\n",
       "      <td>0</td>\n",
       "    </tr>\n",
       "    <tr>\n",
       "      <th>196</th>\n",
       "      <td>0.049524</td>\n",
       "      <td>-0.470017</td>\n",
       "      <td>0</td>\n",
       "    </tr>\n",
       "    <tr>\n",
       "      <th>631</th>\n",
       "      <td>-1.135788</td>\n",
       "      <td>-0.472097</td>\n",
       "      <td>0</td>\n",
       "    </tr>\n",
       "    <tr>\n",
       "      <th>751</th>\n",
       "      <td>0.547511</td>\n",
       "      <td>-1.528161</td>\n",
       "      <td>0</td>\n",
       "    </tr>\n",
       "  </tbody>\n",
       "</table>\n",
       "<p>100 rows × 3 columns</p>\n",
       "</div>"
      ],
      "text/plain": [
       "     feature_1  feature_2  target\n",
       "70   -1.644016  -1.319344       0\n",
       "827   0.300620   0.195662       0\n",
       "231  -0.479301   1.028600       0\n",
       "588   1.124394   0.360059       0\n",
       "39   -0.792136  -0.742869       0\n",
       "..         ...        ...     ...\n",
       "398   0.029044   1.393804       0\n",
       "76    0.222636   0.259494       0\n",
       "196   0.049524  -0.470017       0\n",
       "631  -1.135788  -0.472097       0\n",
       "751   0.547511  -1.528161       0\n",
       "\n",
       "[100 rows x 3 columns]"
      ]
     },
     "execution_count": 50,
     "metadata": {},
     "output_type": "execute_result"
    }
   ],
   "source": [
    "df_majority_downsample"
   ]
  },
  {
   "cell_type": "code",
   "execution_count": 51,
   "id": "dcb97d93",
   "metadata": {},
   "outputs": [],
   "source": [
    "df_downsampled= pd.concat([df_minority,df_majority_downsample])"
   ]
  },
  {
   "cell_type": "code",
   "execution_count": 52,
   "id": "16462fa0",
   "metadata": {},
   "outputs": [
    {
     "data": {
      "text/html": [
       "<div>\n",
       "<style scoped>\n",
       "    .dataframe tbody tr th:only-of-type {\n",
       "        vertical-align: middle;\n",
       "    }\n",
       "\n",
       "    .dataframe tbody tr th {\n",
       "        vertical-align: top;\n",
       "    }\n",
       "\n",
       "    .dataframe thead th {\n",
       "        text-align: right;\n",
       "    }\n",
       "</style>\n",
       "<table border=\"1\" class=\"dataframe\">\n",
       "  <thead>\n",
       "    <tr style=\"text-align: right;\">\n",
       "      <th></th>\n",
       "      <th>feature_1</th>\n",
       "      <th>feature_2</th>\n",
       "      <th>target</th>\n",
       "    </tr>\n",
       "  </thead>\n",
       "  <tbody>\n",
       "    <tr>\n",
       "      <th>900</th>\n",
       "      <td>1.216660</td>\n",
       "      <td>1.386137</td>\n",
       "      <td>1</td>\n",
       "    </tr>\n",
       "    <tr>\n",
       "      <th>901</th>\n",
       "      <td>3.688449</td>\n",
       "      <td>2.842091</td>\n",
       "      <td>1</td>\n",
       "    </tr>\n",
       "    <tr>\n",
       "      <th>902</th>\n",
       "      <td>2.573096</td>\n",
       "      <td>1.602177</td>\n",
       "      <td>1</td>\n",
       "    </tr>\n",
       "    <tr>\n",
       "      <th>903</th>\n",
       "      <td>2.366302</td>\n",
       "      <td>0.286096</td>\n",
       "      <td>1</td>\n",
       "    </tr>\n",
       "    <tr>\n",
       "      <th>904</th>\n",
       "      <td>-0.316440</td>\n",
       "      <td>1.636890</td>\n",
       "      <td>1</td>\n",
       "    </tr>\n",
       "    <tr>\n",
       "      <th>...</th>\n",
       "      <td>...</td>\n",
       "      <td>...</td>\n",
       "      <td>...</td>\n",
       "    </tr>\n",
       "    <tr>\n",
       "      <th>398</th>\n",
       "      <td>0.029044</td>\n",
       "      <td>1.393804</td>\n",
       "      <td>0</td>\n",
       "    </tr>\n",
       "    <tr>\n",
       "      <th>76</th>\n",
       "      <td>0.222636</td>\n",
       "      <td>0.259494</td>\n",
       "      <td>0</td>\n",
       "    </tr>\n",
       "    <tr>\n",
       "      <th>196</th>\n",
       "      <td>0.049524</td>\n",
       "      <td>-0.470017</td>\n",
       "      <td>0</td>\n",
       "    </tr>\n",
       "    <tr>\n",
       "      <th>631</th>\n",
       "      <td>-1.135788</td>\n",
       "      <td>-0.472097</td>\n",
       "      <td>0</td>\n",
       "    </tr>\n",
       "    <tr>\n",
       "      <th>751</th>\n",
       "      <td>0.547511</td>\n",
       "      <td>-1.528161</td>\n",
       "      <td>0</td>\n",
       "    </tr>\n",
       "  </tbody>\n",
       "</table>\n",
       "<p>200 rows × 3 columns</p>\n",
       "</div>"
      ],
      "text/plain": [
       "     feature_1  feature_2  target\n",
       "900   1.216660   1.386137       1\n",
       "901   3.688449   2.842091       1\n",
       "902   2.573096   1.602177       1\n",
       "903   2.366302   0.286096       1\n",
       "904  -0.316440   1.636890       1\n",
       "..         ...        ...     ...\n",
       "398   0.029044   1.393804       0\n",
       "76    0.222636   0.259494       0\n",
       "196   0.049524  -0.470017       0\n",
       "631  -1.135788  -0.472097       0\n",
       "751   0.547511  -1.528161       0\n",
       "\n",
       "[200 rows x 3 columns]"
      ]
     },
     "execution_count": 52,
     "metadata": {},
     "output_type": "execute_result"
    }
   ],
   "source": [
    "df_downsampled"
   ]
  },
  {
   "cell_type": "code",
   "execution_count": 55,
   "id": "6a35a3ba",
   "metadata": {},
   "outputs": [
    {
     "data": {
      "text/plain": [
       "target\n",
       "1    100\n",
       "0    100\n",
       "Name: count, dtype: int64"
      ]
     },
     "execution_count": 55,
     "metadata": {},
     "output_type": "execute_result"
    }
   ],
   "source": [
    "df_downsampled['target'].value_counts()"
   ]
  }
 ],
 "metadata": {
  "kernelspec": {
   "display_name": "base",
   "language": "python",
   "name": "python3"
  },
  "language_info": {
   "codemirror_mode": {
    "name": "ipython",
    "version": 3
   },
   "file_extension": ".py",
   "mimetype": "text/x-python",
   "name": "python",
   "nbconvert_exporter": "python",
   "pygments_lexer": "ipython3",
   "version": "3.12.7"
  }
 },
 "nbformat": 4,
 "nbformat_minor": 5
}

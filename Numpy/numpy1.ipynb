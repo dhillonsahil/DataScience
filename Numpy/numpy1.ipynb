{
 "cells": [
  {
   "cell_type": "code",
   "execution_count": 6,
   "metadata": {},
   "outputs": [],
   "source": [
    "import numpy as np "
   ]
  },
  {
   "cell_type": "markdown",
   "metadata": {},
   "source": [
    "l =[1,2,3,4,5]"
   ]
  },
  {
   "cell_type": "code",
   "execution_count": 4,
   "metadata": {},
   "outputs": [],
   "source": [
    "ar =np.array(l)"
   ]
  },
  {
   "cell_type": "code",
   "execution_count": 5,
   "metadata": {},
   "outputs": [
    {
     "data": {
      "text/plain": [
       "array([1, 2, 3, 4, 5])"
      ]
     },
     "execution_count": 5,
     "metadata": {},
     "output_type": "execute_result"
    }
   ],
   "source": [
    "ar"
   ]
  },
  {
   "cell_type": "markdown",
   "metadata": {},
   "source": [
    "1. **Lists** :- ,  Generally slower for numerical operations due to being less optimized for mathematical computations , \n",
    "    1.  Operations: Supports a wide range of operations but lacks built-in support for vectorized operations (operations on entire collections at once).\n",
    "    2. inbuilt \n",
    "    3. Operations: Supports a wide range of operations but lacks built-in support for vectorized operations (operations on entire collections at once).\n",
    "\n",
    "2. **NumPy Arrays** :-  \n",
    "    1. Homogeneity: Designed to hold items of the same data type, which enables efficient storage and computation\n",
    "    1. Performance: Optimized for numerical operations, offering significant speed advantages for large datasets. \n",
    "    1. Vectorization: Supports element-wise operations, making it easy to perform calculations on entire arrays without explicit loops. "
   ]
  },
  {
   "cell_type": "code",
   "execution_count": 23,
   "metadata": {},
   "outputs": [],
   "source": [
    "# Using Vectorization\n",
    "a = np.array([1, 2, 3])\n",
    "b = np.array([4, 5, 6])\n",
    "\n",
    "# Vectorized addition\n",
    "result = a + b"
   ]
  },
  {
   "cell_type": "code",
   "execution_count": 24,
   "metadata": {},
   "outputs": [
    {
     "data": {
      "text/plain": [
       "array([5, 7, 9])"
      ]
     },
     "execution_count": 24,
     "metadata": {},
     "output_type": "execute_result"
    }
   ],
   "source": [
    "result"
   ]
  },
  {
   "cell_type": "code",
   "execution_count": 25,
   "metadata": {},
   "outputs": [],
   "source": [
    "# without vectorization\n",
    "\n",
    "# Create two arrays\n",
    "c = np.array([1, 2, 3])\n",
    "d = np.array([4, 5, 6])\n",
    "\n",
    "# Using a loop to add them\n",
    "result1 = np.zeros_like(a)\n",
    "for i in range(len(a)):\n",
    "    result1[i] = a[i] + b[i]\n"
   ]
  },
  {
   "cell_type": "markdown",
   "metadata": {},
   "source": [
    "The line result = np.zeros_like(a) creates a new NumPy array called result that has the same shape and data type as the array a, but with all elements initialized to zero."
   ]
  },
  {
   "cell_type": "code",
   "execution_count": 26,
   "metadata": {},
   "outputs": [
    {
     "data": {
      "text/plain": [
       "array([5, 7, 9])"
      ]
     },
     "execution_count": 26,
     "metadata": {},
     "output_type": "execute_result"
    }
   ],
   "source": [
    "result1"
   ]
  },
  {
   "cell_type": "code",
   "execution_count": 6,
   "metadata": {},
   "outputs": [
    {
     "data": {
      "text/plain": [
       "numpy.ndarray"
      ]
     },
     "execution_count": 6,
     "metadata": {},
     "output_type": "execute_result"
    }
   ],
   "source": [
    "type(ar)"
   ]
  },
  {
   "cell_type": "markdown",
   "metadata": {},
   "source": [
    "ndarray :- n dimensional arrays"
   ]
  },
  {
   "cell_type": "code",
   "execution_count": 9,
   "metadata": {},
   "outputs": [],
   "source": [
    "ar1= np.array([[1,2,3], [4,5,6],  [7,8,9]])"
   ]
  },
  {
   "cell_type": "code",
   "execution_count": 10,
   "metadata": {},
   "outputs": [
    {
     "data": {
      "text/plain": [
       "array([[1, 2, 3],\n",
       "       [4, 5, 6],\n",
       "       [7, 8, 9]])"
      ]
     },
     "execution_count": 10,
     "metadata": {},
     "output_type": "execute_result"
    }
   ],
   "source": [
    "ar1"
   ]
  },
  {
   "cell_type": "code",
   "execution_count": null,
   "metadata": {},
   "outputs": [
    {
     "data": {
      "text/plain": [
       "numpy.ndarray"
      ]
     },
     "execution_count": 11,
     "metadata": {},
     "output_type": "execute_result"
    }
   ],
   "source": [
    "type(ar1) # here it is a 2 dimensional array"
   ]
  },
  {
   "cell_type": "code",
   "execution_count": 27,
   "metadata": {},
   "outputs": [
    {
     "data": {
      "text/plain": [
       "array([1, 2, 3])"
      ]
     },
     "execution_count": 27,
     "metadata": {},
     "output_type": "execute_result"
    }
   ],
   "source": [
    "np.asarray([1,2,3])"
   ]
  },
  {
   "cell_type": "code",
   "execution_count": 28,
   "metadata": {},
   "outputs": [],
   "source": [
    "aa= [1,2,3]"
   ]
  },
  {
   "cell_type": "code",
   "execution_count": 29,
   "metadata": {},
   "outputs": [
    {
     "data": {
      "text/plain": [
       "array([1, 2, 3])"
      ]
     },
     "execution_count": 29,
     "metadata": {},
     "output_type": "execute_result"
    }
   ],
   "source": [
    "np.asanyarray(aa)"
   ]
  },
  {
   "cell_type": "markdown",
   "metadata": {},
   "source": [
    "Here’s a combined explanation of `np.array`, `np.asarray`, and `np.asanyarray`, along with details about masked arrays, formatted for a Jupyter markdown cell:\n",
    "\n",
    "```markdown\n",
    "## NumPy Array Creation Functions\n",
    "\n",
    "In NumPy, the functions `np.array`, `np.asarray`, and `np.asanyarray` are used to create arrays, but they have different behaviors:\n",
    "\n",
    "### 1. `np.array`\n",
    "- **Purpose**: Creates a new NumPy array from a given input.\n",
    "- **Behavior**:\n",
    "  - Always creates a new array, regardless of whether the input is already a NumPy array.\n",
    "  - Can specify the desired data type using the `dtype` parameter.\n",
    "  - Useful when you want to ensure that the output is a NumPy array.\n",
    "- **Example**:\n",
    "  ```python\n",
    "  import numpy as np\n",
    "  a = [1, 2, 3]\n",
    "  arr = np.array(a)  # Creates a new NumPy array\n",
    "  ```\n",
    "\n",
    "### 2. `np.asarray`\n",
    "- **Purpose**: Converts the input to an array but returns the original array if the input is already an ndarray.\n",
    "- **Behavior**:\n",
    "  - Does not create a copy if the input is already a NumPy array, making it more memory-efficient.\n",
    "  - Can take other array-like objects (e.g., lists, tuples) and convert them to NumPy arrays.\n",
    "- **Example**:\n",
    "  ```python\n",
    "  import numpy as np\n",
    "  b = np.array([1, 2, 3])\n",
    "  arr = np.asarray(b)  # Returns the same array without copying\n",
    "  ```\n",
    "\n",
    "### 3. `np.asanyarray`\n",
    "- **Purpose**: Similar to `np.asarray`, but allows for subclasses of ndarray (like masked arrays).\n",
    "- **Behavior**:\n",
    "  - Converts the input to an array but will return subclasses of ndarray as they are (e.g., a masked array remains a masked array).\n",
    "  - Useful when you want to maintain subclass information while converting.\n",
    "- **Example**:\n",
    "  ```python\n",
    "  import numpy as np\n",
    "  c = np.ma.array([1, 2, 3])  # Masked array\n",
    "  arr = np.asanyarray(c)  # Returns the same masked array\n",
    "  ```\n",
    "\n",
    "## Masked Arrays\n",
    "\n",
    "A **masked array** is a special type of array in NumPy that allows for handling invalid or missing data flexibly.\n",
    "\n",
    "### Key Features:\n",
    "1. **Masking**:\n",
    "   - Each element can be \"masked\" (ignored) based on a corresponding boolean mask. `True` indicates a masked value, and `False` indicates a valid value.\n",
    "  \n",
    "2. **Creation**:\n",
    "   - You can create a masked array using `numpy.ma.array()`, specifying which values to mask.\n",
    "   - **Example**:\n",
    "     ```python\n",
    "     import numpy as np\n",
    "     data = np.array([1, 2, 3, -999, 5])  # Example data with an invalid value (-999)\n",
    "     masked_array = np.ma.array(data, mask=(data == -999))\n",
    "     ```\n",
    "\n",
    "3. **Operations**:\n",
    "   - When performing operations, masked values are ignored.\n",
    "   - **Example**:\n",
    "     ```python\n",
    "     mean_value = masked_array.mean()  # Ignores the masked value\n",
    "     ```\n",
    "\n",
    "4. **Use Cases**:\n",
    "   - Useful in data analysis where some values may be missing or invalid, such as in scientific data.\n",
    "\n",
    "### Example of Masked Array:\n",
    "```python\n",
    "import numpy as np\n",
    "\n",
    "# Create a regular array with some invalid values\n",
    "data = np.array([1, 2, 3, -999, 5])\n",
    "\n",
    "# Create a masked array, masking the invalid value\n",
    "masked_array = np.ma.array(data, mask=(data == -999))\n",
    "\n",
    "print(masked_array)              # Output: [1 2 3 -- 5] (where -- indicates the masked value)\n",
    "print(masked_array.mean())       # Output: 2.75 (ignores the masked value)\n",
    "```\n",
    "\n",
    "In summary, choose the appropriate function based on whether you need a new array, want to avoid copies, or need to preserve subclass information, and consider using masked arrays for datasets with missing or invalid entries.\n",
    "```\n"
   ]
  },
  {
   "cell_type": "markdown",
   "metadata": {},
   "source": [
    "Behavior of np.asanyarray\n",
    "\n",
    "    Functionality:\n",
    "        np.asanyarray converts the input to an array, just like np.asarray.\n",
    "        However, if the input is already a subclass of ndarray (e.g., a masked array), np.asanyarray will return that subclass without converting it to a base ndarray.\n",
    "\n",
    "    Use Case:\n",
    "        This is useful when you want to maintain the properties and methods specific to the subclass. For example, if you have a masked array, using np.asanyarray will ensure that the resulting array retains its masking capabilities\n",
    "\n",
    "```python\n",
    "import numpy as np\n",
    "\n",
    "# Create a masked array\n",
    "masked_array = np.ma.array([1, 2, 3], mask=[0, 1, 0])  # Masking the second element\n",
    "\n",
    "# Use np.asanyarray to convert it\n",
    "result_array = np.asanyarray(masked_array)\n",
    "\n",
    "# Check the type\n",
    "print(type(result_array))  # Output: <class 'numpy.ma.core.MaskedArray'>\n",
    "\n",
    "# Check the masked values\n",
    "print(result_array)        # Output: [1 -- 3]\n",
    "\n",
    "```\n",
    "\n",
    "Comparison with np.asarray\n",
    "\n",
    "If you had used `np.asarray` instead:\n",
    "```python result_array_asarray = np.asarray(masked_array)\n",
    "\n",
    "# Check the type\n",
    "print(type(result_array_asarray))  # Output: <class 'numpy.ndarray'>\n",
    "```"
   ]
  },
  {
   "cell_type": "code",
   "execution_count": 32,
   "metadata": {},
   "outputs": [
    {
     "name": "stdout",
     "output_type": "stream",
     "text": [
      "[10  2  3]\n",
      "[10  2  3]\n"
     ]
    }
   ],
   "source": [
    "# Create a NumPy array\n",
    "original_array = np.array([1, 2, 3])\n",
    "\n",
    "# Use np.asarray to create a new variable pointing to the same array\n",
    "new_array = np.asarray(original_array)\n",
    "\n",
    "# Modify the original array\n",
    "original_array[0] = 10\n",
    "\n",
    "print(original_array)  # Output: [10  2  3]\n",
    "print(new_array)       # Output: [10  2  3]\n"
   ]
  },
  {
   "cell_type": "code",
   "execution_count": 35,
   "metadata": {},
   "outputs": [
    {
     "name": "stdout",
     "output_type": "stream",
     "text": [
      "[10  2  3]\n",
      "[1 2 3]\n"
     ]
    }
   ],
   "source": [
    "# Create a NumPy array\n",
    "original_array = np.array([1, 2, 3])\n",
    "\n",
    "# Use np.array to create a new variable pointing to the same array\n",
    "new_array = np.array(original_array)\n",
    "\n",
    "# Modify the original array\n",
    "original_array[0] = 10\n",
    "\n",
    "print(original_array)  # Output: [10  2  3]\n",
    "print(new_array)       # Output: [1  2  3]  \n"
   ]
  },
  {
   "cell_type": "code",
   "execution_count": 36,
   "metadata": {},
   "outputs": [
    {
     "name": "stdout",
     "output_type": "stream",
     "text": [
      "<class 'numpy.ma.core.MaskedArray'>\n",
      "[1 -- 3]\n"
     ]
    }
   ],
   "source": [
    "# Create a masked array\n",
    "masked_array = np.ma.array([1, 2, 3], mask=[0, 1, 0])  # Masking the second element\n",
    "\n",
    "# Use np.asanyarray to convert it\n",
    "result_array = np.asanyarray(masked_array)\n",
    "\n",
    "# Check the type\n",
    "print(type(result_array))  # Output: <class 'numpy.ma.core.MaskedArray'>\n",
    "\n",
    "# Check the masked values\n",
    "print(result_array)        # Output: [1 -- 3]"
   ]
  },
  {
   "cell_type": "code",
   "execution_count": 37,
   "metadata": {},
   "outputs": [
    {
     "name": "stdout",
     "output_type": "stream",
     "text": [
      "<class 'numpy.ndarray'>\n"
     ]
    }
   ],
   "source": [
    "result_array_asarray = np.asarray(masked_array)\n",
    "\n",
    "# Check the type\n",
    "print(type(result_array_asarray))  # Output: <class 'numpy.ndarray'>\n"
   ]
  },
  {
   "cell_type": "code",
   "execution_count": 38,
   "metadata": {},
   "outputs": [
    {
     "data": {
      "text/plain": [
       "array([1, 2, 3])"
      ]
     },
     "execution_count": 38,
     "metadata": {},
     "output_type": "execute_result"
    }
   ],
   "source": [
    "result_array_asarray"
   ]
  },
  {
   "cell_type": "code",
   "execution_count": 39,
   "metadata": {},
   "outputs": [
    {
     "data": {
      "text/plain": [
       "masked_array(data=[1, --, 3],\n",
       "             mask=[False,  True, False],\n",
       "       fill_value=999999)"
      ]
     },
     "execution_count": 39,
     "metadata": {},
     "output_type": "execute_result"
    }
   ],
   "source": [
    "result_array"
   ]
  },
  {
   "cell_type": "code",
   "execution_count": 40,
   "metadata": {},
   "outputs": [],
   "source": [
    "mt = np.matrix(a)"
   ]
  },
  {
   "cell_type": "code",
   "execution_count": 41,
   "metadata": {},
   "outputs": [
    {
     "data": {
      "text/plain": [
       "matrix([[1, 2, 3]])"
      ]
     },
     "execution_count": 41,
     "metadata": {},
     "output_type": "execute_result"
    }
   ],
   "source": [
    "mt"
   ]
  },
  {
   "cell_type": "code",
   "execution_count": 43,
   "metadata": {},
   "outputs": [
    {
     "data": {
      "text/plain": [
       "matrix([[1, 2, 3]])"
      ]
     },
     "execution_count": 43,
     "metadata": {},
     "output_type": "execute_result"
    }
   ],
   "source": [
    "np.asanyarray(mt) # will not convert matrix in array - because matrix is also a form or subset of array"
   ]
  },
  {
   "cell_type": "code",
   "execution_count": 44,
   "metadata": {},
   "outputs": [
    {
     "data": {
      "text/plain": [
       "[1, 2, 3, 4, 5]"
      ]
     },
     "execution_count": 44,
     "metadata": {},
     "output_type": "execute_result"
    }
   ],
   "source": [
    "l "
   ]
  },
  {
   "cell_type": "code",
   "execution_count": 45,
   "metadata": {},
   "outputs": [],
   "source": [
    "a = np.array(l)"
   ]
  },
  {
   "cell_type": "code",
   "execution_count": 46,
   "metadata": {},
   "outputs": [],
   "source": [
    "c=a"
   ]
  },
  {
   "cell_type": "code",
   "execution_count": 47,
   "metadata": {},
   "outputs": [
    {
     "data": {
      "text/plain": [
       "array([1, 2, 3, 4, 5])"
      ]
     },
     "execution_count": 47,
     "metadata": {},
     "output_type": "execute_result"
    }
   ],
   "source": [
    "c"
   ]
  },
  {
   "cell_type": "code",
   "execution_count": 48,
   "metadata": {},
   "outputs": [
    {
     "data": {
      "text/plain": [
       "array([1, 2, 3, 4, 5])"
      ]
     },
     "execution_count": 48,
     "metadata": {},
     "output_type": "execute_result"
    }
   ],
   "source": [
    "a"
   ]
  },
  {
   "cell_type": "code",
   "execution_count": 49,
   "metadata": {},
   "outputs": [],
   "source": [
    "c[0]=6"
   ]
  },
  {
   "cell_type": "code",
   "execution_count": 51,
   "metadata": {},
   "outputs": [
    {
     "data": {
      "text/plain": [
       "array([6, 2, 3, 4, 5])"
      ]
     },
     "execution_count": 51,
     "metadata": {},
     "output_type": "execute_result"
    }
   ],
   "source": [
    "c"
   ]
  },
  {
   "cell_type": "code",
   "execution_count": null,
   "metadata": {},
   "outputs": [
    {
     "data": {
      "text/plain": [
       "array([6, 2, 3, 4, 5])"
      ]
     },
     "execution_count": 52,
     "metadata": {},
     "output_type": "execute_result"
    }
   ],
   "source": [
    "a # also updated because they are just a reference to the array so both point to same - so it is a swallow copy"
   ]
  },
  {
   "cell_type": "code",
   "execution_count": 53,
   "metadata": {},
   "outputs": [],
   "source": [
    "d = np.copy(a)"
   ]
  },
  {
   "cell_type": "code",
   "execution_count": 54,
   "metadata": {},
   "outputs": [
    {
     "data": {
      "text/plain": [
       "array([6, 2, 3, 4, 5])"
      ]
     },
     "execution_count": 54,
     "metadata": {},
     "output_type": "execute_result"
    }
   ],
   "source": [
    "d"
   ]
  },
  {
   "cell_type": "code",
   "execution_count": 55,
   "metadata": {},
   "outputs": [],
   "source": [
    "d[1]=9"
   ]
  },
  {
   "cell_type": "code",
   "execution_count": 56,
   "metadata": {},
   "outputs": [
    {
     "data": {
      "text/plain": [
       "array([6, 9, 3, 4, 5])"
      ]
     },
     "execution_count": 56,
     "metadata": {},
     "output_type": "execute_result"
    }
   ],
   "source": [
    "d"
   ]
  },
  {
   "cell_type": "code",
   "execution_count": 58,
   "metadata": {},
   "outputs": [
    {
     "data": {
      "text/plain": [
       "array([6, 2, 3, 4, 5])"
      ]
     },
     "execution_count": 58,
     "metadata": {},
     "output_type": "execute_result"
    }
   ],
   "source": [
    "a  # now a did not change because we copied the array stored in new space and d points to that so they both point to other object. So it is a deep copy"
   ]
  },
  {
   "cell_type": "code",
   "execution_count": 74,
   "metadata": {},
   "outputs": [
    {
     "data": {
      "text/plain": [
       "array([[ True, False, False],\n",
       "       [False,  True, False],\n",
       "       [False, False,  True]])"
      ]
     },
     "execution_count": 74,
     "metadata": {},
     "output_type": "execute_result"
    }
   ],
   "source": [
    "# functions to generate diff type or diff dimensions of array\n",
    "\n",
    "np.fromfunction(lambda i,j: i==j , (3,3))"
   ]
  },
  {
   "cell_type": "code",
   "execution_count": 75,
   "metadata": {},
   "outputs": [
    {
     "data": {
      "text/plain": [
       "array([[0., 1., 2.],\n",
       "       [1., 2., 3.],\n",
       "       [2., 3., 4.]])"
      ]
     },
     "execution_count": 75,
     "metadata": {},
     "output_type": "execute_result"
    }
   ],
   "source": [
    "np.fromfunction(lambda i,j: i+j , (3,3))"
   ]
  },
  {
   "cell_type": "code",
   "execution_count": null,
   "metadata": {},
   "outputs": [],
   "source": [
    "iterable= (i*i for i in range(5))"
   ]
  },
  {
   "cell_type": "markdown",
   "metadata": {},
   "source": [
    "1. This line creates a generator expression that will yield the squares of numbers from 0 to 4 (i.e., 0, 1, 4, 9, 16).\n",
    "1. The expression (i * i for i in range(5)) generates values one at a time and does not store them in memory all at once.\n",
    "\n",
    "A generator expression is a concise way to create an iterator in Python. It generates values on-the-fly as you iterate over them, rather than storing all the values in memory at once. This makes generator expressions more memory-efficient, especially for large datasets."
   ]
  },
  {
   "cell_type": "code",
   "execution_count": null,
   "metadata": {},
   "outputs": [
    {
     "data": {
      "text/plain": [
       "array([ 0.,  1.,  4.,  9., 16.])"
      ]
     },
     "execution_count": 78,
     "metadata": {},
     "output_type": "execute_result"
    }
   ],
   "source": [
    "np.fromiter(iterable,float)"
   ]
  },
  {
   "cell_type": "markdown",
   "metadata": {},
   "source": [
    "1. The np.fromiter function creates a NumPy array from an iterable (in this case, the generator).\n",
    "1. The second argument specifies the desired data type of the resulting array, which is float in this case."
   ]
  },
  {
   "cell_type": "code",
   "execution_count": 80,
   "metadata": {},
   "outputs": [
    {
     "data": {
      "text/plain": [
       "array([234., 234.])"
      ]
     },
     "execution_count": 80,
     "metadata": {},
     "output_type": "execute_result"
    }
   ],
   "source": [
    "np.fromstring('234 234',sep=' ')"
   ]
  },
  {
   "cell_type": "code",
   "execution_count": 2,
   "metadata": {},
   "outputs": [],
   "source": [
    "ar = np.array([1,2,3,4])"
   ]
  },
  {
   "cell_type": "code",
   "execution_count": 3,
   "metadata": {},
   "outputs": [
    {
     "data": {
      "text/plain": [
       "array([1, 2, 3, 4])"
      ]
     },
     "execution_count": 3,
     "metadata": {},
     "output_type": "execute_result"
    }
   ],
   "source": [
    "ar"
   ]
  },
  {
   "cell_type": "code",
   "execution_count": 5,
   "metadata": {},
   "outputs": [
    {
     "data": {
      "text/plain": [
       "1"
      ]
     },
     "execution_count": 5,
     "metadata": {},
     "output_type": "execute_result"
    }
   ],
   "source": [
    "ar.ndim # tells number of dimesnions"
   ]
  },
  {
   "cell_type": "code",
   "execution_count": 7,
   "metadata": {},
   "outputs": [],
   "source": [
    "ar1 = np.array([[1,2,3,4],[5,6,7,8],[9,10,11,12]])"
   ]
  },
  {
   "cell_type": "code",
   "execution_count": 8,
   "metadata": {},
   "outputs": [
    {
     "data": {
      "text/plain": [
       "2"
      ]
     },
     "execution_count": 8,
     "metadata": {},
     "output_type": "execute_result"
    }
   ],
   "source": [
    "ar1.ndim"
   ]
  },
  {
   "cell_type": "code",
   "execution_count": 9,
   "metadata": {},
   "outputs": [
    {
     "data": {
      "text/plain": [
       "4"
      ]
     },
     "execution_count": 9,
     "metadata": {},
     "output_type": "execute_result"
    }
   ],
   "source": [
    "ar.size"
   ]
  },
  {
   "cell_type": "code",
   "execution_count": 12,
   "metadata": {},
   "outputs": [
    {
     "data": {
      "text/plain": [
       "12"
      ]
     },
     "execution_count": 12,
     "metadata": {},
     "output_type": "execute_result"
    }
   ],
   "source": [
    "ar1.size # number of elements present"
   ]
  },
  {
   "cell_type": "code",
   "execution_count": null,
   "metadata": {},
   "outputs": [
    {
     "data": {
      "text/plain": [
       "(4,)"
      ]
     },
     "execution_count": 14,
     "metadata": {},
     "output_type": "execute_result"
    }
   ],
   "source": [
    "ar.shape # first one tells row , 2nd one tells column here only 1 row so showed only 4 columns"
   ]
  },
  {
   "cell_type": "code",
   "execution_count": 16,
   "metadata": {},
   "outputs": [
    {
     "data": {
      "text/plain": [
       "(3, 4)"
      ]
     },
     "execution_count": 16,
     "metadata": {},
     "output_type": "execute_result"
    }
   ],
   "source": [
    "ar1.shape # here 3 rows and 4 columns"
   ]
  },
  {
   "cell_type": "code",
   "execution_count": 17,
   "metadata": {},
   "outputs": [
    {
     "data": {
      "text/plain": [
       "dtype('int64')"
      ]
     },
     "execution_count": 17,
     "metadata": {},
     "output_type": "execute_result"
    }
   ],
   "source": [
    "ar.dtype"
   ]
  },
  {
   "cell_type": "code",
   "execution_count": 18,
   "metadata": {},
   "outputs": [
    {
     "data": {
      "text/plain": [
       "dtype('int64')"
      ]
     },
     "execution_count": 18,
     "metadata": {},
     "output_type": "execute_result"
    }
   ],
   "source": [
    "ar1.dtype"
   ]
  },
  {
   "cell_type": "code",
   "execution_count": 19,
   "metadata": {},
   "outputs": [
    {
     "data": {
      "text/plain": [
       "dtype('<U21')"
      ]
     },
     "execution_count": 19,
     "metadata": {},
     "output_type": "execute_result"
    }
   ],
   "source": [
    "np.array([45,65,'sahil']).dtype"
   ]
  },
  {
   "cell_type": "code",
   "execution_count": null,
   "metadata": {},
   "outputs": [
    {
     "data": {
      "text/plain": [
       "[0, 1, 2, 3, 4]"
      ]
     },
     "execution_count": 23,
     "metadata": {},
     "output_type": "execute_result"
    }
   ],
   "source": [
    "list(range(5))"
   ]
  },
  {
   "cell_type": "code",
   "execution_count": 25,
   "metadata": {},
   "outputs": [
    {
     "data": {
      "text/plain": [
       "[2.3,\n",
       " 2.5999999999999996,\n",
       " 2.8999999999999995,\n",
       " 3.1999999999999993,\n",
       " 3.499999999999999,\n",
       " 3.799999999999999,\n",
       " 4.099999999999999,\n",
       " 4.399999999999999,\n",
       " 4.699999999999998,\n",
       " 4.999999999999998,\n",
       " 5.299999999999998]"
      ]
     },
     "execution_count": 25,
     "metadata": {},
     "output_type": "execute_result"
    }
   ],
   "source": [
    "list(np.arange(2.3,5.6,.3)) # generate a list from 2.3 to 5.6 with a jump of .3 which we cant do in normal range"
   ]
  },
  {
   "cell_type": "code",
   "execution_count": 28,
   "metadata": {},
   "outputs": [
    {
     "data": {
      "text/plain": [
       "array([1.        , 1.44444444, 1.88888889, 2.33333333, 2.77777778,\n",
       "       3.22222222, 3.66666667, 4.11111111, 4.55555556, 5.        ])"
      ]
     },
     "execution_count": 28,
     "metadata": {},
     "output_type": "execute_result"
    }
   ],
   "source": [
    "np.linspace(1,5,10) # produce 10 data between 1 to 5"
   ]
  },
  {
   "cell_type": "code",
   "execution_count": 29,
   "metadata": {},
   "outputs": [
    {
     "data": {
      "text/plain": [
       "array([0., 0., 0., 0., 0.])"
      ]
     },
     "execution_count": 29,
     "metadata": {},
     "output_type": "execute_result"
    }
   ],
   "source": [
    "np.zeros(5)"
   ]
  },
  {
   "cell_type": "code",
   "execution_count": 31,
   "metadata": {},
   "outputs": [
    {
     "data": {
      "text/plain": [
       "array([[0., 0., 0., 0.],\n",
       "       [0., 0., 0., 0.],\n",
       "       [0., 0., 0., 0.]])"
      ]
     },
     "execution_count": 31,
     "metadata": {},
     "output_type": "execute_result"
    }
   ],
   "source": [
    "np.zeros((3,4)) # rows- 3 and cols -4 with all values as zero"
   ]
  },
  {
   "cell_type": "code",
   "execution_count": 35,
   "metadata": {},
   "outputs": [
    {
     "data": {
      "text/plain": [
       "array([[[0., 0.],\n",
       "        [0., 0.],\n",
       "        [0., 0.],\n",
       "        [0., 0.]],\n",
       "\n",
       "       [[0., 0.],\n",
       "        [0., 0.],\n",
       "        [0., 0.],\n",
       "        [0., 0.]],\n",
       "\n",
       "       [[0., 0.],\n",
       "        [0., 0.],\n",
       "        [0., 0.],\n",
       "        [0., 0.]]])"
      ]
     },
     "execution_count": 35,
     "metadata": {},
     "output_type": "execute_result"
    }
   ],
   "source": [
    "np.zeros((3,4,2)) # we have 3 4*2 matrices"
   ]
  },
  {
   "cell_type": "code",
   "execution_count": null,
   "metadata": {},
   "outputs": [],
   "source": [
    "ar4 = np.zeros((3,4,2,3)) # we have 4 2*3 matrices and 3 such kind of matrices which contained these 4 matrices"
   ]
  },
  {
   "cell_type": "code",
   "execution_count": null,
   "metadata": {},
   "outputs": [
    {
     "data": {
      "text/plain": [
       "4"
      ]
     },
     "execution_count": 37,
     "metadata": {},
     "output_type": "execute_result"
    }
   ],
   "source": [
    "ar4.ndim # 4 dimensional but cant be visualized"
   ]
  },
  {
   "cell_type": "code",
   "execution_count": 38,
   "metadata": {},
   "outputs": [
    {
     "data": {
      "text/plain": [
       "array([[[[0., 0., 0.],\n",
       "         [0., 0., 0.]],\n",
       "\n",
       "        [[0., 0., 0.],\n",
       "         [0., 0., 0.]],\n",
       "\n",
       "        [[0., 0., 0.],\n",
       "         [0., 0., 0.]],\n",
       "\n",
       "        [[0., 0., 0.],\n",
       "         [0., 0., 0.]]],\n",
       "\n",
       "\n",
       "       [[[0., 0., 0.],\n",
       "         [0., 0., 0.]],\n",
       "\n",
       "        [[0., 0., 0.],\n",
       "         [0., 0., 0.]],\n",
       "\n",
       "        [[0., 0., 0.],\n",
       "         [0., 0., 0.]],\n",
       "\n",
       "        [[0., 0., 0.],\n",
       "         [0., 0., 0.]]],\n",
       "\n",
       "\n",
       "       [[[0., 0., 0.],\n",
       "         [0., 0., 0.]],\n",
       "\n",
       "        [[0., 0., 0.],\n",
       "         [0., 0., 0.]],\n",
       "\n",
       "        [[0., 0., 0.],\n",
       "         [0., 0., 0.]],\n",
       "\n",
       "        [[0., 0., 0.],\n",
       "         [0., 0., 0.]]]])"
      ]
     },
     "execution_count": 38,
     "metadata": {},
     "output_type": "execute_result"
    }
   ],
   "source": [
    "ar4"
   ]
  },
  {
   "cell_type": "code",
   "execution_count": 7,
   "metadata": {},
   "outputs": [
    {
     "data": {
      "text/plain": [
       "array([[1., 1., 1.],\n",
       "       [1., 1., 1.]])"
      ]
     },
     "execution_count": 7,
     "metadata": {},
     "output_type": "execute_result"
    }
   ],
   "source": [
    "np.ones((2,3))"
   ]
  },
  {
   "cell_type": "code",
   "execution_count": 9,
   "metadata": {},
   "outputs": [],
   "source": [
    "on = np.ones((2,3,2))"
   ]
  },
  {
   "cell_type": "code",
   "execution_count": 10,
   "metadata": {},
   "outputs": [
    {
     "data": {
      "text/plain": [
       "array([[[1., 1.],\n",
       "        [1., 1.],\n",
       "        [1., 1.]],\n",
       "\n",
       "       [[1., 1.],\n",
       "        [1., 1.],\n",
       "        [1., 1.]]])"
      ]
     },
     "execution_count": 10,
     "metadata": {},
     "output_type": "execute_result"
    }
   ],
   "source": [
    "on "
   ]
  },
  {
   "cell_type": "code",
   "execution_count": null,
   "metadata": {},
   "outputs": [
    {
     "data": {
      "text/plain": [
       "array([[[6., 6.],\n",
       "        [6., 6.],\n",
       "        [6., 6.]],\n",
       "\n",
       "       [[6., 6.],\n",
       "        [6., 6.],\n",
       "        [6., 6.]]])"
      ]
     },
     "execution_count": 11,
     "metadata": {},
     "output_type": "execute_result"
    }
   ],
   "source": [
    "on + 5 # operation on every element"
   ]
  },
  {
   "cell_type": "code",
   "execution_count": 12,
   "metadata": {},
   "outputs": [
    {
     "data": {
      "text/plain": [
       "array([[[4., 4.],\n",
       "        [4., 4.],\n",
       "        [4., 4.]],\n",
       "\n",
       "       [[4., 4.],\n",
       "        [4., 4.],\n",
       "        [4., 4.]]])"
      ]
     },
     "execution_count": 12,
     "metadata": {},
     "output_type": "execute_result"
    }
   ],
   "source": [
    "on* 4 # operation on every element"
   ]
  },
  {
   "cell_type": "code",
   "execution_count": 18,
   "metadata": {},
   "outputs": [
    {
     "data": {
      "text/plain": [
       "array([[0.00000000e+000, 0.00000000e+000, 0.00000000e+000,\n",
       "        0.00000000e+000, 0.00000000e+000],\n",
       "       [0.00000000e+000, 0.00000000e+000, 0.00000000e+000,\n",
       "        0.00000000e+000, 0.00000000e+000],\n",
       "       [0.00000000e+000, 0.00000000e+000, 0.00000000e+000,\n",
       "        0.00000000e+000, 6.81019663e-310]])"
      ]
     },
     "execution_count": 18,
     "metadata": {},
     "output_type": "execute_result"
    }
   ],
   "source": [
    "np.empty((3,5))"
   ]
  },
  {
   "cell_type": "markdown",
   "metadata": {},
   "source": [
    " when you use `numpy.empty()`, the values inside the newly created array are not set to zero or any default value. Instead, they contain whatever data was already in that memory location (garbage values). Since these values can be random or depend on system state, your program might behave differently each time you run it if you rely on these uninitialized values.\n",
    "\n",
    "To ensure **reproducible behavior**, you should explicitly set each element of the array to a known value before using it. Otherwise, results might vary unpredictably due to the presence of arbitrary values in the array."
   ]
  },
  {
   "cell_type": "code",
   "execution_count": null,
   "metadata": {},
   "outputs": [
    {
     "data": {
      "text/plain": [
       "array([[1., 0., 0., 0.],\n",
       "       [0., 1., 0., 0.],\n",
       "       [0., 0., 1., 0.],\n",
       "       [0., 0., 0., 1.]])"
      ]
     },
     "execution_count": 20,
     "metadata": {},
     "output_type": "execute_result"
    }
   ],
   "source": [
    "np.eye(4) # Return a 2-D array with ones on the diagonal and zeros elsewhere."
   ]
  },
  {
   "cell_type": "code",
   "execution_count": 21,
   "metadata": {},
   "outputs": [
    {
     "data": {
      "text/plain": [
       "array([2.        , 2.10526316, 2.21052632, 2.31578947, 2.42105263,\n",
       "       2.52631579, 2.63157895, 2.73684211, 2.84210526, 2.94736842,\n",
       "       3.05263158, 3.15789474, 3.26315789, 3.36842105, 3.47368421,\n",
       "       3.57894737, 3.68421053, 3.78947368, 3.89473684, 4.        ])"
      ]
     },
     "execution_count": 21,
     "metadata": {},
     "output_type": "execute_result"
    }
   ],
   "source": [
    "np.linspace(2,4,20)"
   ]
  },
  {
   "cell_type": "code",
   "execution_count": 24,
   "metadata": {},
   "outputs": [
    {
     "data": {
      "text/plain": [
       "array([ 4.        ,  5.0396842 ,  6.34960421,  8.        , 10.0793684 ,\n",
       "       12.69920842, 16.        , 20.1587368 , 25.39841683, 32.        ])"
      ]
     },
     "execution_count": 24,
     "metadata": {},
     "output_type": "execute_result"
    }
   ],
   "source": [
    "np.logspace(2,5,10 , base=2) # get the 10 values between 2 to 5 and then perform log on each value by default with base 10"
   ]
  },
  {
   "cell_type": "code",
   "execution_count": 46,
   "metadata": {},
   "outputs": [],
   "source": [
    "arr= np.random.randn(10000,4) # range - infinity to + infinity , Generates a 3×4 array of random numbers from a standard normal distribution (mean = 0, variance = 1)."
   ]
  },
  {
   "cell_type": "markdown",
   "metadata": {},
   "source": [
    "STD : it's not exactly zero! But it's very close to zero."
   ]
  },
  {
   "cell_type": "code",
   "execution_count": 47,
   "metadata": {},
   "outputs": [
    {
     "data": {
      "text/plain": [
       "array([[-0.87946115,  2.61681341,  0.29061346,  1.1855655 ],\n",
       "       [ 1.90383066, -0.95365352, -0.14081734,  0.24398674],\n",
       "       [ 0.08279263,  0.93234281,  1.28278711, -0.70546109],\n",
       "       ...,\n",
       "       [-0.54936301,  1.56550503,  0.96016046, -0.66428193],\n",
       "       [ 0.30850947, -0.42162855, -0.29163675,  0.44980786],\n",
       "       [ 0.56451721,  1.50187944, -0.49006067, -0.36418465]],\n",
       "      shape=(10000, 4))"
      ]
     },
     "execution_count": 47,
     "metadata": {},
     "output_type": "execute_result"
    }
   ],
   "source": [
    "arr "
   ]
  },
  {
   "cell_type": "code",
   "execution_count": 48,
   "metadata": {},
   "outputs": [],
   "source": [
    "import pandas as pd "
   ]
  },
  {
   "cell_type": "code",
   "execution_count": 49,
   "metadata": {},
   "outputs": [],
   "source": [
    "df= pd.DataFrame(arr)"
   ]
  },
  {
   "cell_type": "code",
   "execution_count": 50,
   "metadata": {},
   "outputs": [
    {
     "data": {
      "text/html": [
       "<div>\n",
       "<style scoped>\n",
       "    .dataframe tbody tr th:only-of-type {\n",
       "        vertical-align: middle;\n",
       "    }\n",
       "\n",
       "    .dataframe tbody tr th {\n",
       "        vertical-align: top;\n",
       "    }\n",
       "\n",
       "    .dataframe thead th {\n",
       "        text-align: right;\n",
       "    }\n",
       "</style>\n",
       "<table border=\"1\" class=\"dataframe\">\n",
       "  <thead>\n",
       "    <tr style=\"text-align: right;\">\n",
       "      <th></th>\n",
       "      <th>0</th>\n",
       "      <th>1</th>\n",
       "      <th>2</th>\n",
       "      <th>3</th>\n",
       "    </tr>\n",
       "  </thead>\n",
       "  <tbody>\n",
       "    <tr>\n",
       "      <th>count</th>\n",
       "      <td>10000.000000</td>\n",
       "      <td>10000.000000</td>\n",
       "      <td>10000.000000</td>\n",
       "      <td>10000.000000</td>\n",
       "    </tr>\n",
       "    <tr>\n",
       "      <th>mean</th>\n",
       "      <td>0.006062</td>\n",
       "      <td>0.003330</td>\n",
       "      <td>-0.014440</td>\n",
       "      <td>0.001959</td>\n",
       "    </tr>\n",
       "    <tr>\n",
       "      <th>std</th>\n",
       "      <td>0.997177</td>\n",
       "      <td>1.014535</td>\n",
       "      <td>1.000500</td>\n",
       "      <td>0.995043</td>\n",
       "    </tr>\n",
       "    <tr>\n",
       "      <th>min</th>\n",
       "      <td>-3.738587</td>\n",
       "      <td>-3.355284</td>\n",
       "      <td>-3.731704</td>\n",
       "      <td>-3.722936</td>\n",
       "    </tr>\n",
       "    <tr>\n",
       "      <th>25%</th>\n",
       "      <td>-0.663077</td>\n",
       "      <td>-0.671111</td>\n",
       "      <td>-0.687787</td>\n",
       "      <td>-0.679960</td>\n",
       "    </tr>\n",
       "    <tr>\n",
       "      <th>50%</th>\n",
       "      <td>0.005370</td>\n",
       "      <td>0.015667</td>\n",
       "      <td>-0.015682</td>\n",
       "      <td>-0.001116</td>\n",
       "    </tr>\n",
       "    <tr>\n",
       "      <th>75%</th>\n",
       "      <td>0.674241</td>\n",
       "      <td>0.683964</td>\n",
       "      <td>0.653377</td>\n",
       "      <td>0.673766</td>\n",
       "    </tr>\n",
       "    <tr>\n",
       "      <th>max</th>\n",
       "      <td>4.334269</td>\n",
       "      <td>3.515425</td>\n",
       "      <td>4.126856</td>\n",
       "      <td>3.566153</td>\n",
       "    </tr>\n",
       "  </tbody>\n",
       "</table>\n",
       "</div>"
      ],
      "text/plain": [
       "                  0             1             2             3\n",
       "count  10000.000000  10000.000000  10000.000000  10000.000000\n",
       "mean       0.006062      0.003330     -0.014440      0.001959\n",
       "std        0.997177      1.014535      1.000500      0.995043\n",
       "min       -3.738587     -3.355284     -3.731704     -3.722936\n",
       "25%       -0.663077     -0.671111     -0.687787     -0.679960\n",
       "50%        0.005370      0.015667     -0.015682     -0.001116\n",
       "75%        0.674241      0.683964      0.653377      0.673766\n",
       "max        4.334269      3.515425      4.126856      3.566153"
      ]
     },
     "execution_count": 50,
     "metadata": {},
     "output_type": "execute_result"
    }
   ],
   "source": [
    "df.describe() "
   ]
  },
  {
   "cell_type": "code",
   "execution_count": 52,
   "metadata": {},
   "outputs": [],
   "source": [
    "arr1= np.random.rand(1000,4) # Range :- \t[0, 1) "
   ]
  },
  {
   "cell_type": "code",
   "execution_count": 53,
   "metadata": {},
   "outputs": [
    {
     "data": {
      "text/plain": [
       "array([[2.80312363e-01, 9.62015153e-01, 9.57820097e-01, 7.57652147e-01],\n",
       "       [9.55674082e-01, 7.83394660e-04, 8.02298637e-01, 5.37186207e-01],\n",
       "       [6.66609823e-01, 2.85216535e-01, 1.20660224e-02, 4.39586592e-01],\n",
       "       ...,\n",
       "       [4.59470950e-02, 4.54311122e-01, 9.03911348e-01, 9.58714737e-01],\n",
       "       [3.58276925e-01, 1.32172927e-01, 5.79785300e-01, 5.63322961e-01],\n",
       "       [6.52481494e-01, 6.28942652e-01, 4.92185277e-01, 9.48606437e-01]],\n",
       "      shape=(1000, 4))"
      ]
     },
     "execution_count": 53,
     "metadata": {},
     "output_type": "execute_result"
    }
   ],
   "source": [
    "arr1"
   ]
  },
  {
   "cell_type": "code",
   "execution_count": 54,
   "metadata": {},
   "outputs": [],
   "source": [
    "df1=pd.DataFrame(arr1)"
   ]
  },
  {
   "cell_type": "code",
   "execution_count": 55,
   "metadata": {},
   "outputs": [
    {
     "data": {
      "text/html": [
       "<div>\n",
       "<style scoped>\n",
       "    .dataframe tbody tr th:only-of-type {\n",
       "        vertical-align: middle;\n",
       "    }\n",
       "\n",
       "    .dataframe tbody tr th {\n",
       "        vertical-align: top;\n",
       "    }\n",
       "\n",
       "    .dataframe thead th {\n",
       "        text-align: right;\n",
       "    }\n",
       "</style>\n",
       "<table border=\"1\" class=\"dataframe\">\n",
       "  <thead>\n",
       "    <tr style=\"text-align: right;\">\n",
       "      <th></th>\n",
       "      <th>0</th>\n",
       "      <th>1</th>\n",
       "      <th>2</th>\n",
       "      <th>3</th>\n",
       "    </tr>\n",
       "  </thead>\n",
       "  <tbody>\n",
       "    <tr>\n",
       "      <th>0</th>\n",
       "      <td>0.280312</td>\n",
       "      <td>0.962015</td>\n",
       "      <td>0.957820</td>\n",
       "      <td>0.757652</td>\n",
       "    </tr>\n",
       "    <tr>\n",
       "      <th>1</th>\n",
       "      <td>0.955674</td>\n",
       "      <td>0.000783</td>\n",
       "      <td>0.802299</td>\n",
       "      <td>0.537186</td>\n",
       "    </tr>\n",
       "    <tr>\n",
       "      <th>2</th>\n",
       "      <td>0.666610</td>\n",
       "      <td>0.285217</td>\n",
       "      <td>0.012066</td>\n",
       "      <td>0.439587</td>\n",
       "    </tr>\n",
       "    <tr>\n",
       "      <th>3</th>\n",
       "      <td>0.236570</td>\n",
       "      <td>0.979677</td>\n",
       "      <td>0.007841</td>\n",
       "      <td>0.731121</td>\n",
       "    </tr>\n",
       "    <tr>\n",
       "      <th>4</th>\n",
       "      <td>0.068417</td>\n",
       "      <td>0.718542</td>\n",
       "      <td>0.409153</td>\n",
       "      <td>0.440773</td>\n",
       "    </tr>\n",
       "    <tr>\n",
       "      <th>...</th>\n",
       "      <td>...</td>\n",
       "      <td>...</td>\n",
       "      <td>...</td>\n",
       "      <td>...</td>\n",
       "    </tr>\n",
       "    <tr>\n",
       "      <th>995</th>\n",
       "      <td>0.797887</td>\n",
       "      <td>0.128715</td>\n",
       "      <td>0.450951</td>\n",
       "      <td>0.943032</td>\n",
       "    </tr>\n",
       "    <tr>\n",
       "      <th>996</th>\n",
       "      <td>0.873795</td>\n",
       "      <td>0.787012</td>\n",
       "      <td>0.682307</td>\n",
       "      <td>0.086954</td>\n",
       "    </tr>\n",
       "    <tr>\n",
       "      <th>997</th>\n",
       "      <td>0.045947</td>\n",
       "      <td>0.454311</td>\n",
       "      <td>0.903911</td>\n",
       "      <td>0.958715</td>\n",
       "    </tr>\n",
       "    <tr>\n",
       "      <th>998</th>\n",
       "      <td>0.358277</td>\n",
       "      <td>0.132173</td>\n",
       "      <td>0.579785</td>\n",
       "      <td>0.563323</td>\n",
       "    </tr>\n",
       "    <tr>\n",
       "      <th>999</th>\n",
       "      <td>0.652481</td>\n",
       "      <td>0.628943</td>\n",
       "      <td>0.492185</td>\n",
       "      <td>0.948606</td>\n",
       "    </tr>\n",
       "  </tbody>\n",
       "</table>\n",
       "<p>1000 rows × 4 columns</p>\n",
       "</div>"
      ],
      "text/plain": [
       "            0         1         2         3\n",
       "0    0.280312  0.962015  0.957820  0.757652\n",
       "1    0.955674  0.000783  0.802299  0.537186\n",
       "2    0.666610  0.285217  0.012066  0.439587\n",
       "3    0.236570  0.979677  0.007841  0.731121\n",
       "4    0.068417  0.718542  0.409153  0.440773\n",
       "..        ...       ...       ...       ...\n",
       "995  0.797887  0.128715  0.450951  0.943032\n",
       "996  0.873795  0.787012  0.682307  0.086954\n",
       "997  0.045947  0.454311  0.903911  0.958715\n",
       "998  0.358277  0.132173  0.579785  0.563323\n",
       "999  0.652481  0.628943  0.492185  0.948606\n",
       "\n",
       "[1000 rows x 4 columns]"
      ]
     },
     "execution_count": 55,
     "metadata": {},
     "output_type": "execute_result"
    }
   ],
   "source": [
    "df1"
   ]
  },
  {
   "cell_type": "code",
   "execution_count": null,
   "metadata": {},
   "outputs": [
    {
     "data": {
      "text/html": [
       "<div>\n",
       "<style scoped>\n",
       "    .dataframe tbody tr th:only-of-type {\n",
       "        vertical-align: middle;\n",
       "    }\n",
       "\n",
       "    .dataframe tbody tr th {\n",
       "        vertical-align: top;\n",
       "    }\n",
       "\n",
       "    .dataframe thead th {\n",
       "        text-align: right;\n",
       "    }\n",
       "</style>\n",
       "<table border=\"1\" class=\"dataframe\">\n",
       "  <thead>\n",
       "    <tr style=\"text-align: right;\">\n",
       "      <th></th>\n",
       "      <th>0</th>\n",
       "      <th>1</th>\n",
       "      <th>2</th>\n",
       "      <th>3</th>\n",
       "    </tr>\n",
       "  </thead>\n",
       "  <tbody>\n",
       "    <tr>\n",
       "      <th>count</th>\n",
       "      <td>1000.000000</td>\n",
       "      <td>1000.000000</td>\n",
       "      <td>1000.000000</td>\n",
       "      <td>1000.000000</td>\n",
       "    </tr>\n",
       "    <tr>\n",
       "      <th>mean</th>\n",
       "      <td>0.511085</td>\n",
       "      <td>0.512658</td>\n",
       "      <td>0.490167</td>\n",
       "      <td>0.504353</td>\n",
       "    </tr>\n",
       "    <tr>\n",
       "      <th>std</th>\n",
       "      <td>0.293202</td>\n",
       "      <td>0.282405</td>\n",
       "      <td>0.285187</td>\n",
       "      <td>0.290166</td>\n",
       "    </tr>\n",
       "    <tr>\n",
       "      <th>min</th>\n",
       "      <td>0.000643</td>\n",
       "      <td>0.000505</td>\n",
       "      <td>0.000110</td>\n",
       "      <td>0.000070</td>\n",
       "    </tr>\n",
       "    <tr>\n",
       "      <th>25%</th>\n",
       "      <td>0.256697</td>\n",
       "      <td>0.286918</td>\n",
       "      <td>0.251504</td>\n",
       "      <td>0.249027</td>\n",
       "    </tr>\n",
       "    <tr>\n",
       "      <th>50%</th>\n",
       "      <td>0.518484</td>\n",
       "      <td>0.507873</td>\n",
       "      <td>0.482482</td>\n",
       "      <td>0.508778</td>\n",
       "    </tr>\n",
       "    <tr>\n",
       "      <th>75%</th>\n",
       "      <td>0.768476</td>\n",
       "      <td>0.751766</td>\n",
       "      <td>0.721429</td>\n",
       "      <td>0.758590</td>\n",
       "    </tr>\n",
       "    <tr>\n",
       "      <th>max</th>\n",
       "      <td>0.997810</td>\n",
       "      <td>0.999477</td>\n",
       "      <td>0.999402</td>\n",
       "      <td>0.999036</td>\n",
       "    </tr>\n",
       "  </tbody>\n",
       "</table>\n",
       "</div>"
      ],
      "text/plain": [
       "                 0            1            2            3\n",
       "count  1000.000000  1000.000000  1000.000000  1000.000000\n",
       "mean      0.511085     0.512658     0.490167     0.504353\n",
       "std       0.293202     0.282405     0.285187     0.290166\n",
       "min       0.000643     0.000505     0.000110     0.000070\n",
       "25%       0.256697     0.286918     0.251504     0.249027\n",
       "50%       0.518484     0.507873     0.482482     0.508778\n",
       "75%       0.768476     0.751766     0.721429     0.758590\n",
       "max       0.997810     0.999477     0.999402     0.999036"
      ]
     },
     "execution_count": 56,
     "metadata": {},
     "output_type": "execute_result"
    }
   ],
   "source": [
    "df1.describe() # not as close as to 0 , as the data generated by randn was"
   ]
  },
  {
   "cell_type": "code",
   "execution_count": 65,
   "metadata": {},
   "outputs": [],
   "source": [
    "arr_3= np.random.randint(1,110,(30,40)) # generate from 1 to 110. give a 3*4 matrix"
   ]
  },
  {
   "cell_type": "code",
   "execution_count": 70,
   "metadata": {},
   "outputs": [
    {
     "data": {
      "text/plain": [
       "array([[  6,  18,  19, ...,  89,  55,  30],\n",
       "       [ 47,  92, 109, ...,  16,  57,  37],\n",
       "       [ 87,   9,   8, ...,  82,  21,  23],\n",
       "       ...,\n",
       "       [ 53,  39,  95, ...,  16,  39,  31],\n",
       "       [ 30,  58,  31, ...,  43,  48,  24],\n",
       "       [ 39,   2,  66, ...,  16,   2,  42]], shape=(30, 40), dtype=int32)"
      ]
     },
     "execution_count": 70,
     "metadata": {},
     "output_type": "execute_result"
    }
   ],
   "source": [
    "arr_3 "
   ]
  },
  {
   "cell_type": "code",
   "execution_count": 66,
   "metadata": {},
   "outputs": [],
   "source": [
    "df2 = pd.DataFrame(arr_3)"
   ]
  },
  {
   "cell_type": "code",
   "execution_count": 67,
   "metadata": {},
   "outputs": [
    {
     "data": {
      "text/html": [
       "<div>\n",
       "<style scoped>\n",
       "    .dataframe tbody tr th:only-of-type {\n",
       "        vertical-align: middle;\n",
       "    }\n",
       "\n",
       "    .dataframe tbody tr th {\n",
       "        vertical-align: top;\n",
       "    }\n",
       "\n",
       "    .dataframe thead th {\n",
       "        text-align: right;\n",
       "    }\n",
       "</style>\n",
       "<table border=\"1\" class=\"dataframe\">\n",
       "  <thead>\n",
       "    <tr style=\"text-align: right;\">\n",
       "      <th></th>\n",
       "      <th>0</th>\n",
       "      <th>1</th>\n",
       "      <th>2</th>\n",
       "      <th>3</th>\n",
       "      <th>4</th>\n",
       "      <th>5</th>\n",
       "      <th>6</th>\n",
       "      <th>7</th>\n",
       "      <th>8</th>\n",
       "      <th>9</th>\n",
       "      <th>...</th>\n",
       "      <th>30</th>\n",
       "      <th>31</th>\n",
       "      <th>32</th>\n",
       "      <th>33</th>\n",
       "      <th>34</th>\n",
       "      <th>35</th>\n",
       "      <th>36</th>\n",
       "      <th>37</th>\n",
       "      <th>38</th>\n",
       "      <th>39</th>\n",
       "    </tr>\n",
       "  </thead>\n",
       "  <tbody>\n",
       "    <tr>\n",
       "      <th>0</th>\n",
       "      <td>6</td>\n",
       "      <td>18</td>\n",
       "      <td>19</td>\n",
       "      <td>30</td>\n",
       "      <td>51</td>\n",
       "      <td>90</td>\n",
       "      <td>84</td>\n",
       "      <td>36</td>\n",
       "      <td>106</td>\n",
       "      <td>101</td>\n",
       "      <td>...</td>\n",
       "      <td>18</td>\n",
       "      <td>90</td>\n",
       "      <td>18</td>\n",
       "      <td>99</td>\n",
       "      <td>67</td>\n",
       "      <td>8</td>\n",
       "      <td>91</td>\n",
       "      <td>89</td>\n",
       "      <td>55</td>\n",
       "      <td>30</td>\n",
       "    </tr>\n",
       "    <tr>\n",
       "      <th>1</th>\n",
       "      <td>47</td>\n",
       "      <td>92</td>\n",
       "      <td>109</td>\n",
       "      <td>42</td>\n",
       "      <td>104</td>\n",
       "      <td>74</td>\n",
       "      <td>71</td>\n",
       "      <td>6</td>\n",
       "      <td>108</td>\n",
       "      <td>49</td>\n",
       "      <td>...</td>\n",
       "      <td>2</td>\n",
       "      <td>106</td>\n",
       "      <td>74</td>\n",
       "      <td>59</td>\n",
       "      <td>103</td>\n",
       "      <td>104</td>\n",
       "      <td>66</td>\n",
       "      <td>16</td>\n",
       "      <td>57</td>\n",
       "      <td>37</td>\n",
       "    </tr>\n",
       "    <tr>\n",
       "      <th>2</th>\n",
       "      <td>87</td>\n",
       "      <td>9</td>\n",
       "      <td>8</td>\n",
       "      <td>17</td>\n",
       "      <td>70</td>\n",
       "      <td>25</td>\n",
       "      <td>81</td>\n",
       "      <td>51</td>\n",
       "      <td>1</td>\n",
       "      <td>17</td>\n",
       "      <td>...</td>\n",
       "      <td>80</td>\n",
       "      <td>70</td>\n",
       "      <td>46</td>\n",
       "      <td>99</td>\n",
       "      <td>11</td>\n",
       "      <td>69</td>\n",
       "      <td>75</td>\n",
       "      <td>82</td>\n",
       "      <td>21</td>\n",
       "      <td>23</td>\n",
       "    </tr>\n",
       "    <tr>\n",
       "      <th>3</th>\n",
       "      <td>26</td>\n",
       "      <td>12</td>\n",
       "      <td>27</td>\n",
       "      <td>15</td>\n",
       "      <td>14</td>\n",
       "      <td>2</td>\n",
       "      <td>77</td>\n",
       "      <td>8</td>\n",
       "      <td>26</td>\n",
       "      <td>66</td>\n",
       "      <td>...</td>\n",
       "      <td>107</td>\n",
       "      <td>66</td>\n",
       "      <td>3</td>\n",
       "      <td>63</td>\n",
       "      <td>19</td>\n",
       "      <td>64</td>\n",
       "      <td>109</td>\n",
       "      <td>23</td>\n",
       "      <td>104</td>\n",
       "      <td>59</td>\n",
       "    </tr>\n",
       "    <tr>\n",
       "      <th>4</th>\n",
       "      <td>39</td>\n",
       "      <td>38</td>\n",
       "      <td>108</td>\n",
       "      <td>5</td>\n",
       "      <td>57</td>\n",
       "      <td>28</td>\n",
       "      <td>35</td>\n",
       "      <td>50</td>\n",
       "      <td>60</td>\n",
       "      <td>106</td>\n",
       "      <td>...</td>\n",
       "      <td>88</td>\n",
       "      <td>33</td>\n",
       "      <td>77</td>\n",
       "      <td>105</td>\n",
       "      <td>7</td>\n",
       "      <td>35</td>\n",
       "      <td>17</td>\n",
       "      <td>59</td>\n",
       "      <td>48</td>\n",
       "      <td>8</td>\n",
       "    </tr>\n",
       "    <tr>\n",
       "      <th>5</th>\n",
       "      <td>30</td>\n",
       "      <td>5</td>\n",
       "      <td>68</td>\n",
       "      <td>26</td>\n",
       "      <td>19</td>\n",
       "      <td>81</td>\n",
       "      <td>86</td>\n",
       "      <td>64</td>\n",
       "      <td>87</td>\n",
       "      <td>48</td>\n",
       "      <td>...</td>\n",
       "      <td>57</td>\n",
       "      <td>109</td>\n",
       "      <td>8</td>\n",
       "      <td>101</td>\n",
       "      <td>81</td>\n",
       "      <td>53</td>\n",
       "      <td>53</td>\n",
       "      <td>11</td>\n",
       "      <td>10</td>\n",
       "      <td>4</td>\n",
       "    </tr>\n",
       "    <tr>\n",
       "      <th>6</th>\n",
       "      <td>19</td>\n",
       "      <td>50</td>\n",
       "      <td>80</td>\n",
       "      <td>46</td>\n",
       "      <td>36</td>\n",
       "      <td>94</td>\n",
       "      <td>53</td>\n",
       "      <td>86</td>\n",
       "      <td>76</td>\n",
       "      <td>81</td>\n",
       "      <td>...</td>\n",
       "      <td>81</td>\n",
       "      <td>105</td>\n",
       "      <td>95</td>\n",
       "      <td>12</td>\n",
       "      <td>74</td>\n",
       "      <td>29</td>\n",
       "      <td>52</td>\n",
       "      <td>69</td>\n",
       "      <td>32</td>\n",
       "      <td>18</td>\n",
       "    </tr>\n",
       "    <tr>\n",
       "      <th>7</th>\n",
       "      <td>99</td>\n",
       "      <td>87</td>\n",
       "      <td>107</td>\n",
       "      <td>41</td>\n",
       "      <td>87</td>\n",
       "      <td>42</td>\n",
       "      <td>100</td>\n",
       "      <td>65</td>\n",
       "      <td>22</td>\n",
       "      <td>29</td>\n",
       "      <td>...</td>\n",
       "      <td>8</td>\n",
       "      <td>45</td>\n",
       "      <td>9</td>\n",
       "      <td>36</td>\n",
       "      <td>86</td>\n",
       "      <td>11</td>\n",
       "      <td>41</td>\n",
       "      <td>55</td>\n",
       "      <td>83</td>\n",
       "      <td>98</td>\n",
       "    </tr>\n",
       "    <tr>\n",
       "      <th>8</th>\n",
       "      <td>22</td>\n",
       "      <td>56</td>\n",
       "      <td>19</td>\n",
       "      <td>45</td>\n",
       "      <td>92</td>\n",
       "      <td>107</td>\n",
       "      <td>57</td>\n",
       "      <td>96</td>\n",
       "      <td>26</td>\n",
       "      <td>42</td>\n",
       "      <td>...</td>\n",
       "      <td>31</td>\n",
       "      <td>53</td>\n",
       "      <td>35</td>\n",
       "      <td>71</td>\n",
       "      <td>7</td>\n",
       "      <td>84</td>\n",
       "      <td>53</td>\n",
       "      <td>3</td>\n",
       "      <td>61</td>\n",
       "      <td>9</td>\n",
       "    </tr>\n",
       "    <tr>\n",
       "      <th>9</th>\n",
       "      <td>78</td>\n",
       "      <td>88</td>\n",
       "      <td>4</td>\n",
       "      <td>66</td>\n",
       "      <td>44</td>\n",
       "      <td>63</td>\n",
       "      <td>58</td>\n",
       "      <td>105</td>\n",
       "      <td>28</td>\n",
       "      <td>67</td>\n",
       "      <td>...</td>\n",
       "      <td>19</td>\n",
       "      <td>90</td>\n",
       "      <td>42</td>\n",
       "      <td>105</td>\n",
       "      <td>98</td>\n",
       "      <td>71</td>\n",
       "      <td>21</td>\n",
       "      <td>86</td>\n",
       "      <td>70</td>\n",
       "      <td>75</td>\n",
       "    </tr>\n",
       "    <tr>\n",
       "      <th>10</th>\n",
       "      <td>34</td>\n",
       "      <td>90</td>\n",
       "      <td>91</td>\n",
       "      <td>38</td>\n",
       "      <td>102</td>\n",
       "      <td>101</td>\n",
       "      <td>108</td>\n",
       "      <td>57</td>\n",
       "      <td>21</td>\n",
       "      <td>89</td>\n",
       "      <td>...</td>\n",
       "      <td>16</td>\n",
       "      <td>27</td>\n",
       "      <td>63</td>\n",
       "      <td>41</td>\n",
       "      <td>7</td>\n",
       "      <td>34</td>\n",
       "      <td>5</td>\n",
       "      <td>34</td>\n",
       "      <td>30</td>\n",
       "      <td>39</td>\n",
       "    </tr>\n",
       "    <tr>\n",
       "      <th>11</th>\n",
       "      <td>30</td>\n",
       "      <td>76</td>\n",
       "      <td>80</td>\n",
       "      <td>54</td>\n",
       "      <td>77</td>\n",
       "      <td>91</td>\n",
       "      <td>90</td>\n",
       "      <td>22</td>\n",
       "      <td>6</td>\n",
       "      <td>11</td>\n",
       "      <td>...</td>\n",
       "      <td>36</td>\n",
       "      <td>14</td>\n",
       "      <td>99</td>\n",
       "      <td>2</td>\n",
       "      <td>46</td>\n",
       "      <td>105</td>\n",
       "      <td>32</td>\n",
       "      <td>61</td>\n",
       "      <td>15</td>\n",
       "      <td>59</td>\n",
       "    </tr>\n",
       "    <tr>\n",
       "      <th>12</th>\n",
       "      <td>16</td>\n",
       "      <td>90</td>\n",
       "      <td>94</td>\n",
       "      <td>46</td>\n",
       "      <td>51</td>\n",
       "      <td>39</td>\n",
       "      <td>70</td>\n",
       "      <td>95</td>\n",
       "      <td>31</td>\n",
       "      <td>32</td>\n",
       "      <td>...</td>\n",
       "      <td>42</td>\n",
       "      <td>15</td>\n",
       "      <td>72</td>\n",
       "      <td>13</td>\n",
       "      <td>85</td>\n",
       "      <td>98</td>\n",
       "      <td>88</td>\n",
       "      <td>32</td>\n",
       "      <td>87</td>\n",
       "      <td>41</td>\n",
       "    </tr>\n",
       "    <tr>\n",
       "      <th>13</th>\n",
       "      <td>86</td>\n",
       "      <td>92</td>\n",
       "      <td>101</td>\n",
       "      <td>83</td>\n",
       "      <td>62</td>\n",
       "      <td>14</td>\n",
       "      <td>45</td>\n",
       "      <td>73</td>\n",
       "      <td>7</td>\n",
       "      <td>103</td>\n",
       "      <td>...</td>\n",
       "      <td>69</td>\n",
       "      <td>71</td>\n",
       "      <td>16</td>\n",
       "      <td>94</td>\n",
       "      <td>85</td>\n",
       "      <td>60</td>\n",
       "      <td>10</td>\n",
       "      <td>104</td>\n",
       "      <td>19</td>\n",
       "      <td>25</td>\n",
       "    </tr>\n",
       "    <tr>\n",
       "      <th>14</th>\n",
       "      <td>40</td>\n",
       "      <td>84</td>\n",
       "      <td>106</td>\n",
       "      <td>25</td>\n",
       "      <td>57</td>\n",
       "      <td>66</td>\n",
       "      <td>36</td>\n",
       "      <td>32</td>\n",
       "      <td>70</td>\n",
       "      <td>12</td>\n",
       "      <td>...</td>\n",
       "      <td>48</td>\n",
       "      <td>48</td>\n",
       "      <td>97</td>\n",
       "      <td>45</td>\n",
       "      <td>33</td>\n",
       "      <td>59</td>\n",
       "      <td>85</td>\n",
       "      <td>82</td>\n",
       "      <td>4</td>\n",
       "      <td>97</td>\n",
       "    </tr>\n",
       "    <tr>\n",
       "      <th>15</th>\n",
       "      <td>44</td>\n",
       "      <td>17</td>\n",
       "      <td>34</td>\n",
       "      <td>59</td>\n",
       "      <td>80</td>\n",
       "      <td>11</td>\n",
       "      <td>55</td>\n",
       "      <td>101</td>\n",
       "      <td>3</td>\n",
       "      <td>69</td>\n",
       "      <td>...</td>\n",
       "      <td>30</td>\n",
       "      <td>17</td>\n",
       "      <td>89</td>\n",
       "      <td>35</td>\n",
       "      <td>38</td>\n",
       "      <td>19</td>\n",
       "      <td>102</td>\n",
       "      <td>54</td>\n",
       "      <td>69</td>\n",
       "      <td>76</td>\n",
       "    </tr>\n",
       "    <tr>\n",
       "      <th>16</th>\n",
       "      <td>102</td>\n",
       "      <td>47</td>\n",
       "      <td>100</td>\n",
       "      <td>101</td>\n",
       "      <td>105</td>\n",
       "      <td>6</td>\n",
       "      <td>67</td>\n",
       "      <td>19</td>\n",
       "      <td>87</td>\n",
       "      <td>83</td>\n",
       "      <td>...</td>\n",
       "      <td>58</td>\n",
       "      <td>79</td>\n",
       "      <td>71</td>\n",
       "      <td>73</td>\n",
       "      <td>48</td>\n",
       "      <td>63</td>\n",
       "      <td>25</td>\n",
       "      <td>16</td>\n",
       "      <td>60</td>\n",
       "      <td>31</td>\n",
       "    </tr>\n",
       "    <tr>\n",
       "      <th>17</th>\n",
       "      <td>101</td>\n",
       "      <td>95</td>\n",
       "      <td>73</td>\n",
       "      <td>96</td>\n",
       "      <td>85</td>\n",
       "      <td>70</td>\n",
       "      <td>17</td>\n",
       "      <td>96</td>\n",
       "      <td>36</td>\n",
       "      <td>97</td>\n",
       "      <td>...</td>\n",
       "      <td>15</td>\n",
       "      <td>57</td>\n",
       "      <td>49</td>\n",
       "      <td>44</td>\n",
       "      <td>31</td>\n",
       "      <td>28</td>\n",
       "      <td>39</td>\n",
       "      <td>79</td>\n",
       "      <td>84</td>\n",
       "      <td>11</td>\n",
       "    </tr>\n",
       "    <tr>\n",
       "      <th>18</th>\n",
       "      <td>87</td>\n",
       "      <td>57</td>\n",
       "      <td>65</td>\n",
       "      <td>52</td>\n",
       "      <td>69</td>\n",
       "      <td>10</td>\n",
       "      <td>77</td>\n",
       "      <td>67</td>\n",
       "      <td>15</td>\n",
       "      <td>58</td>\n",
       "      <td>...</td>\n",
       "      <td>40</td>\n",
       "      <td>73</td>\n",
       "      <td>37</td>\n",
       "      <td>76</td>\n",
       "      <td>49</td>\n",
       "      <td>36</td>\n",
       "      <td>92</td>\n",
       "      <td>54</td>\n",
       "      <td>40</td>\n",
       "      <td>38</td>\n",
       "    </tr>\n",
       "    <tr>\n",
       "      <th>19</th>\n",
       "      <td>9</td>\n",
       "      <td>99</td>\n",
       "      <td>109</td>\n",
       "      <td>29</td>\n",
       "      <td>15</td>\n",
       "      <td>10</td>\n",
       "      <td>16</td>\n",
       "      <td>30</td>\n",
       "      <td>70</td>\n",
       "      <td>12</td>\n",
       "      <td>...</td>\n",
       "      <td>69</td>\n",
       "      <td>81</td>\n",
       "      <td>36</td>\n",
       "      <td>90</td>\n",
       "      <td>83</td>\n",
       "      <td>48</td>\n",
       "      <td>9</td>\n",
       "      <td>75</td>\n",
       "      <td>14</td>\n",
       "      <td>58</td>\n",
       "    </tr>\n",
       "    <tr>\n",
       "      <th>20</th>\n",
       "      <td>51</td>\n",
       "      <td>84</td>\n",
       "      <td>74</td>\n",
       "      <td>39</td>\n",
       "      <td>73</td>\n",
       "      <td>56</td>\n",
       "      <td>69</td>\n",
       "      <td>38</td>\n",
       "      <td>74</td>\n",
       "      <td>101</td>\n",
       "      <td>...</td>\n",
       "      <td>12</td>\n",
       "      <td>59</td>\n",
       "      <td>88</td>\n",
       "      <td>52</td>\n",
       "      <td>51</td>\n",
       "      <td>104</td>\n",
       "      <td>44</td>\n",
       "      <td>95</td>\n",
       "      <td>82</td>\n",
       "      <td>49</td>\n",
       "    </tr>\n",
       "    <tr>\n",
       "      <th>21</th>\n",
       "      <td>73</td>\n",
       "      <td>62</td>\n",
       "      <td>47</td>\n",
       "      <td>19</td>\n",
       "      <td>57</td>\n",
       "      <td>47</td>\n",
       "      <td>108</td>\n",
       "      <td>92</td>\n",
       "      <td>67</td>\n",
       "      <td>42</td>\n",
       "      <td>...</td>\n",
       "      <td>32</td>\n",
       "      <td>19</td>\n",
       "      <td>76</td>\n",
       "      <td>83</td>\n",
       "      <td>3</td>\n",
       "      <td>50</td>\n",
       "      <td>104</td>\n",
       "      <td>57</td>\n",
       "      <td>32</td>\n",
       "      <td>100</td>\n",
       "    </tr>\n",
       "    <tr>\n",
       "      <th>22</th>\n",
       "      <td>59</td>\n",
       "      <td>92</td>\n",
       "      <td>30</td>\n",
       "      <td>83</td>\n",
       "      <td>64</td>\n",
       "      <td>6</td>\n",
       "      <td>70</td>\n",
       "      <td>30</td>\n",
       "      <td>21</td>\n",
       "      <td>87</td>\n",
       "      <td>...</td>\n",
       "      <td>62</td>\n",
       "      <td>87</td>\n",
       "      <td>1</td>\n",
       "      <td>12</td>\n",
       "      <td>83</td>\n",
       "      <td>27</td>\n",
       "      <td>12</td>\n",
       "      <td>8</td>\n",
       "      <td>40</td>\n",
       "      <td>70</td>\n",
       "    </tr>\n",
       "    <tr>\n",
       "      <th>23</th>\n",
       "      <td>83</td>\n",
       "      <td>93</td>\n",
       "      <td>8</td>\n",
       "      <td>64</td>\n",
       "      <td>61</td>\n",
       "      <td>71</td>\n",
       "      <td>14</td>\n",
       "      <td>25</td>\n",
       "      <td>101</td>\n",
       "      <td>102</td>\n",
       "      <td>...</td>\n",
       "      <td>18</td>\n",
       "      <td>20</td>\n",
       "      <td>56</td>\n",
       "      <td>61</td>\n",
       "      <td>75</td>\n",
       "      <td>100</td>\n",
       "      <td>93</td>\n",
       "      <td>59</td>\n",
       "      <td>41</td>\n",
       "      <td>74</td>\n",
       "    </tr>\n",
       "    <tr>\n",
       "      <th>24</th>\n",
       "      <td>91</td>\n",
       "      <td>62</td>\n",
       "      <td>77</td>\n",
       "      <td>18</td>\n",
       "      <td>52</td>\n",
       "      <td>2</td>\n",
       "      <td>43</td>\n",
       "      <td>87</td>\n",
       "      <td>30</td>\n",
       "      <td>46</td>\n",
       "      <td>...</td>\n",
       "      <td>75</td>\n",
       "      <td>48</td>\n",
       "      <td>5</td>\n",
       "      <td>60</td>\n",
       "      <td>57</td>\n",
       "      <td>62</td>\n",
       "      <td>91</td>\n",
       "      <td>91</td>\n",
       "      <td>1</td>\n",
       "      <td>102</td>\n",
       "    </tr>\n",
       "    <tr>\n",
       "      <th>25</th>\n",
       "      <td>89</td>\n",
       "      <td>104</td>\n",
       "      <td>64</td>\n",
       "      <td>39</td>\n",
       "      <td>37</td>\n",
       "      <td>86</td>\n",
       "      <td>73</td>\n",
       "      <td>73</td>\n",
       "      <td>44</td>\n",
       "      <td>56</td>\n",
       "      <td>...</td>\n",
       "      <td>38</td>\n",
       "      <td>83</td>\n",
       "      <td>72</td>\n",
       "      <td>99</td>\n",
       "      <td>42</td>\n",
       "      <td>93</td>\n",
       "      <td>83</td>\n",
       "      <td>91</td>\n",
       "      <td>19</td>\n",
       "      <td>80</td>\n",
       "    </tr>\n",
       "    <tr>\n",
       "      <th>26</th>\n",
       "      <td>64</td>\n",
       "      <td>63</td>\n",
       "      <td>93</td>\n",
       "      <td>88</td>\n",
       "      <td>68</td>\n",
       "      <td>104</td>\n",
       "      <td>105</td>\n",
       "      <td>11</td>\n",
       "      <td>38</td>\n",
       "      <td>105</td>\n",
       "      <td>...</td>\n",
       "      <td>34</td>\n",
       "      <td>46</td>\n",
       "      <td>19</td>\n",
       "      <td>23</td>\n",
       "      <td>46</td>\n",
       "      <td>70</td>\n",
       "      <td>36</td>\n",
       "      <td>27</td>\n",
       "      <td>98</td>\n",
       "      <td>29</td>\n",
       "    </tr>\n",
       "    <tr>\n",
       "      <th>27</th>\n",
       "      <td>53</td>\n",
       "      <td>39</td>\n",
       "      <td>95</td>\n",
       "      <td>39</td>\n",
       "      <td>31</td>\n",
       "      <td>107</td>\n",
       "      <td>11</td>\n",
       "      <td>81</td>\n",
       "      <td>10</td>\n",
       "      <td>1</td>\n",
       "      <td>...</td>\n",
       "      <td>108</td>\n",
       "      <td>23</td>\n",
       "      <td>47</td>\n",
       "      <td>92</td>\n",
       "      <td>97</td>\n",
       "      <td>18</td>\n",
       "      <td>20</td>\n",
       "      <td>16</td>\n",
       "      <td>39</td>\n",
       "      <td>31</td>\n",
       "    </tr>\n",
       "    <tr>\n",
       "      <th>28</th>\n",
       "      <td>30</td>\n",
       "      <td>58</td>\n",
       "      <td>31</td>\n",
       "      <td>2</td>\n",
       "      <td>5</td>\n",
       "      <td>91</td>\n",
       "      <td>9</td>\n",
       "      <td>106</td>\n",
       "      <td>1</td>\n",
       "      <td>17</td>\n",
       "      <td>...</td>\n",
       "      <td>88</td>\n",
       "      <td>47</td>\n",
       "      <td>32</td>\n",
       "      <td>47</td>\n",
       "      <td>105</td>\n",
       "      <td>33</td>\n",
       "      <td>82</td>\n",
       "      <td>43</td>\n",
       "      <td>48</td>\n",
       "      <td>24</td>\n",
       "    </tr>\n",
       "    <tr>\n",
       "      <th>29</th>\n",
       "      <td>39</td>\n",
       "      <td>2</td>\n",
       "      <td>66</td>\n",
       "      <td>96</td>\n",
       "      <td>102</td>\n",
       "      <td>67</td>\n",
       "      <td>18</td>\n",
       "      <td>39</td>\n",
       "      <td>68</td>\n",
       "      <td>79</td>\n",
       "      <td>...</td>\n",
       "      <td>42</td>\n",
       "      <td>108</td>\n",
       "      <td>93</td>\n",
       "      <td>61</td>\n",
       "      <td>24</td>\n",
       "      <td>49</td>\n",
       "      <td>73</td>\n",
       "      <td>16</td>\n",
       "      <td>2</td>\n",
       "      <td>42</td>\n",
       "    </tr>\n",
       "  </tbody>\n",
       "</table>\n",
       "<p>30 rows × 40 columns</p>\n",
       "</div>"
      ],
      "text/plain": [
       "     0    1    2    3    4    5    6    7    8    9   ...   30   31  32   33  \\\n",
       "0     6   18   19   30   51   90   84   36  106  101  ...   18   90  18   99   \n",
       "1    47   92  109   42  104   74   71    6  108   49  ...    2  106  74   59   \n",
       "2    87    9    8   17   70   25   81   51    1   17  ...   80   70  46   99   \n",
       "3    26   12   27   15   14    2   77    8   26   66  ...  107   66   3   63   \n",
       "4    39   38  108    5   57   28   35   50   60  106  ...   88   33  77  105   \n",
       "5    30    5   68   26   19   81   86   64   87   48  ...   57  109   8  101   \n",
       "6    19   50   80   46   36   94   53   86   76   81  ...   81  105  95   12   \n",
       "7    99   87  107   41   87   42  100   65   22   29  ...    8   45   9   36   \n",
       "8    22   56   19   45   92  107   57   96   26   42  ...   31   53  35   71   \n",
       "9    78   88    4   66   44   63   58  105   28   67  ...   19   90  42  105   \n",
       "10   34   90   91   38  102  101  108   57   21   89  ...   16   27  63   41   \n",
       "11   30   76   80   54   77   91   90   22    6   11  ...   36   14  99    2   \n",
       "12   16   90   94   46   51   39   70   95   31   32  ...   42   15  72   13   \n",
       "13   86   92  101   83   62   14   45   73    7  103  ...   69   71  16   94   \n",
       "14   40   84  106   25   57   66   36   32   70   12  ...   48   48  97   45   \n",
       "15   44   17   34   59   80   11   55  101    3   69  ...   30   17  89   35   \n",
       "16  102   47  100  101  105    6   67   19   87   83  ...   58   79  71   73   \n",
       "17  101   95   73   96   85   70   17   96   36   97  ...   15   57  49   44   \n",
       "18   87   57   65   52   69   10   77   67   15   58  ...   40   73  37   76   \n",
       "19    9   99  109   29   15   10   16   30   70   12  ...   69   81  36   90   \n",
       "20   51   84   74   39   73   56   69   38   74  101  ...   12   59  88   52   \n",
       "21   73   62   47   19   57   47  108   92   67   42  ...   32   19  76   83   \n",
       "22   59   92   30   83   64    6   70   30   21   87  ...   62   87   1   12   \n",
       "23   83   93    8   64   61   71   14   25  101  102  ...   18   20  56   61   \n",
       "24   91   62   77   18   52    2   43   87   30   46  ...   75   48   5   60   \n",
       "25   89  104   64   39   37   86   73   73   44   56  ...   38   83  72   99   \n",
       "26   64   63   93   88   68  104  105   11   38  105  ...   34   46  19   23   \n",
       "27   53   39   95   39   31  107   11   81   10    1  ...  108   23  47   92   \n",
       "28   30   58   31    2    5   91    9  106    1   17  ...   88   47  32   47   \n",
       "29   39    2   66   96  102   67   18   39   68   79  ...   42  108  93   61   \n",
       "\n",
       "     34   35   36   37   38   39  \n",
       "0    67    8   91   89   55   30  \n",
       "1   103  104   66   16   57   37  \n",
       "2    11   69   75   82   21   23  \n",
       "3    19   64  109   23  104   59  \n",
       "4     7   35   17   59   48    8  \n",
       "5    81   53   53   11   10    4  \n",
       "6    74   29   52   69   32   18  \n",
       "7    86   11   41   55   83   98  \n",
       "8     7   84   53    3   61    9  \n",
       "9    98   71   21   86   70   75  \n",
       "10    7   34    5   34   30   39  \n",
       "11   46  105   32   61   15   59  \n",
       "12   85   98   88   32   87   41  \n",
       "13   85   60   10  104   19   25  \n",
       "14   33   59   85   82    4   97  \n",
       "15   38   19  102   54   69   76  \n",
       "16   48   63   25   16   60   31  \n",
       "17   31   28   39   79   84   11  \n",
       "18   49   36   92   54   40   38  \n",
       "19   83   48    9   75   14   58  \n",
       "20   51  104   44   95   82   49  \n",
       "21    3   50  104   57   32  100  \n",
       "22   83   27   12    8   40   70  \n",
       "23   75  100   93   59   41   74  \n",
       "24   57   62   91   91    1  102  \n",
       "25   42   93   83   91   19   80  \n",
       "26   46   70   36   27   98   29  \n",
       "27   97   18   20   16   39   31  \n",
       "28  105   33   82   43   48   24  \n",
       "29   24   49   73   16    2   42  \n",
       "\n",
       "[30 rows x 40 columns]"
      ]
     },
     "execution_count": 67,
     "metadata": {},
     "output_type": "execute_result"
    }
   ],
   "source": [
    "df2"
   ]
  },
  {
   "cell_type": "code",
   "execution_count": 71,
   "metadata": {},
   "outputs": [
    {
     "data": {
      "text/plain": [
       "array([[7, 4, 7, 8],\n",
       "       [5, 3, 2, 5],\n",
       "       [8, 2, 8, 3]], dtype=int32)"
      ]
     },
     "execution_count": 71,
     "metadata": {},
     "output_type": "execute_result"
    }
   ],
   "source": [
    "np.random.randint(2,10,(3,4))"
   ]
  },
  {
   "cell_type": "code",
   "execution_count": 72,
   "metadata": {},
   "outputs": [],
   "source": [
    "df2.to_csv('data/export.csv')"
   ]
  },
  {
   "cell_type": "code",
   "execution_count": 76,
   "metadata": {},
   "outputs": [],
   "source": [
    "arr2 = np.random.rand(3,4)"
   ]
  },
  {
   "cell_type": "code",
   "execution_count": 77,
   "metadata": {},
   "outputs": [
    {
     "data": {
      "text/plain": [
       "array([[0.90358139, 0.39472204, 0.58497185, 0.01012692],\n",
       "       [0.39321801, 0.08750042, 0.98409923, 0.62219839],\n",
       "       [0.53993172, 0.19135314, 0.73180126, 0.86658529]])"
      ]
     },
     "execution_count": 77,
     "metadata": {},
     "output_type": "execute_result"
    }
   ],
   "source": [
    "arr2"
   ]
  },
  {
   "cell_type": "code",
   "execution_count": null,
   "metadata": {},
   "outputs": [
    {
     "data": {
      "text/plain": [
       "array([[0.90358139, 0.39472204],\n",
       "       [0.58497185, 0.01012692],\n",
       "       [0.39321801, 0.08750042],\n",
       "       [0.98409923, 0.62219839],\n",
       "       [0.53993172, 0.19135314],\n",
       "       [0.73180126, 0.86658529]])"
      ]
     },
     "execution_count": 79,
     "metadata": {},
     "output_type": "execute_result"
    }
   ],
   "source": [
    "arr2.reshape(6,2) # reshape with same data"
   ]
  },
  {
   "cell_type": "code",
   "execution_count": 88,
   "metadata": {},
   "outputs": [],
   "source": [
    "arr2= arr2.reshape(6,-1 ) # reshape with same data -> -1 means that one dimesnion will be self calulated ( can be any negative number  because a dimesnion cant be in negative so auto calculates)"
   ]
  },
  {
   "cell_type": "code",
   "execution_count": 91,
   "metadata": {},
   "outputs": [
    {
     "data": {
      "text/plain": [
       "array([0.08750042, 0.62219839, 0.19135314])"
      ]
     },
     "execution_count": 91,
     "metadata": {},
     "output_type": "execute_result"
    }
   ],
   "source": [
    "arr2[2:5,1]"
   ]
  },
  {
   "cell_type": "code",
   "execution_count": 92,
   "metadata": {},
   "outputs": [],
   "source": [
    "arr4 = np.random.randint(1,100,(5,5))"
   ]
  },
  {
   "cell_type": "code",
   "execution_count": 93,
   "metadata": {},
   "outputs": [
    {
     "data": {
      "text/plain": [
       "array([[28, 31, 64,  3, 53],\n",
       "       [20, 85,  4, 93, 41],\n",
       "       [94, 35, 53, 28, 96],\n",
       "       [45, 27, 66, 27, 12],\n",
       "       [38, 26, 63, 64, 23]], dtype=int32)"
      ]
     },
     "execution_count": 93,
     "metadata": {},
     "output_type": "execute_result"
    }
   ],
   "source": [
    "arr4"
   ]
  },
  {
   "cell_type": "code",
   "execution_count": 94,
   "metadata": {},
   "outputs": [
    {
     "data": {
      "text/plain": [
       "array([[False, False,  True, False,  True],\n",
       "       [False,  True, False,  True, False],\n",
       "       [ True, False,  True, False,  True],\n",
       "       [False, False,  True, False, False],\n",
       "       [False, False,  True,  True, False]])"
      ]
     },
     "execution_count": 94,
     "metadata": {},
     "output_type": "execute_result"
    }
   ],
   "source": [
    "arr4>50"
   ]
  },
  {
   "cell_type": "code",
   "execution_count": 96,
   "metadata": {},
   "outputs": [
    {
     "data": {
      "text/plain": [
       "array([64, 53, 85, 93, 94, 53, 96, 66, 63, 64], dtype=int32)"
      ]
     },
     "execution_count": 96,
     "metadata": {},
     "output_type": "execute_result"
    }
   ],
   "source": [
    "arr4[arr4>50]"
   ]
  },
  {
   "cell_type": "code",
   "execution_count": 99,
   "metadata": {},
   "outputs": [
    {
     "data": {
      "text/plain": [
       "array([[35, 53],\n",
       "       [27, 66]], dtype=int32)"
      ]
     },
     "execution_count": 99,
     "metadata": {},
     "output_type": "execute_result"
    }
   ],
   "source": [
    "arr4[2:4,[1,2]]"
   ]
  },
  {
   "cell_type": "code",
   "execution_count": 100,
   "metadata": {},
   "outputs": [],
   "source": [
    "arr4[0][0]=220"
   ]
  },
  {
   "cell_type": "code",
   "execution_count": 101,
   "metadata": {},
   "outputs": [
    {
     "data": {
      "text/plain": [
       "array([[220,  31,  64,   3,  53],\n",
       "       [ 20,  85,   4,  93,  41],\n",
       "       [ 94,  35,  53,  28,  96],\n",
       "       [ 45,  27,  66,  27,  12],\n",
       "       [ 38,  26,  63,  64,  23]], dtype=int32)"
      ]
     },
     "execution_count": 101,
     "metadata": {},
     "output_type": "execute_result"
    }
   ],
   "source": [
    "arr4"
   ]
  },
  {
   "cell_type": "code",
   "execution_count": 113,
   "metadata": {},
   "outputs": [],
   "source": [
    "ar_1 = np.random.randint(1,3,(3,3))\n",
    "ar_2 = np.random.randint(1,3,(3,3))"
   ]
  },
  {
   "cell_type": "code",
   "execution_count": 114,
   "metadata": {},
   "outputs": [
    {
     "data": {
      "text/plain": [
       "array([[1, 1, 2],\n",
       "       [2, 1, 2],\n",
       "       [2, 1, 2]], dtype=int32)"
      ]
     },
     "execution_count": 114,
     "metadata": {},
     "output_type": "execute_result"
    }
   ],
   "source": [
    "ar_1"
   ]
  },
  {
   "cell_type": "code",
   "execution_count": 115,
   "metadata": {},
   "outputs": [
    {
     "data": {
      "text/plain": [
       "array([[2, 2, 1],\n",
       "       [1, 2, 1],\n",
       "       [1, 2, 2]], dtype=int32)"
      ]
     },
     "execution_count": 115,
     "metadata": {},
     "output_type": "execute_result"
    }
   ],
   "source": [
    "ar_2"
   ]
  },
  {
   "cell_type": "code",
   "execution_count": 116,
   "metadata": {},
   "outputs": [
    {
     "data": {
      "text/plain": [
       "array([[3, 3, 3],\n",
       "       [3, 3, 3],\n",
       "       [3, 3, 4]], dtype=int32)"
      ]
     },
     "execution_count": 116,
     "metadata": {},
     "output_type": "execute_result"
    }
   ],
   "source": [
    "ar_1 + ar_2"
   ]
  },
  {
   "cell_type": "code",
   "execution_count": 117,
   "metadata": {},
   "outputs": [
    {
     "data": {
      "text/plain": [
       "array([[-1, -1,  1],\n",
       "       [ 1, -1,  1],\n",
       "       [ 1, -1,  0]], dtype=int32)"
      ]
     },
     "execution_count": 117,
     "metadata": {},
     "output_type": "execute_result"
    }
   ],
   "source": [
    "ar_1-ar_2"
   ]
  },
  {
   "cell_type": "code",
   "execution_count": 118,
   "metadata": {},
   "outputs": [
    {
     "data": {
      "text/plain": [
       "array([[0.5, 0.5, 2. ],\n",
       "       [2. , 0.5, 2. ],\n",
       "       [2. , 0.5, 1. ]])"
      ]
     },
     "execution_count": 118,
     "metadata": {},
     "output_type": "execute_result"
    }
   ],
   "source": [
    "ar_1/ar_2"
   ]
  },
  {
   "cell_type": "code",
   "execution_count": null,
   "metadata": {},
   "outputs": [
    {
     "data": {
      "text/plain": [
       "array([[2, 2, 2],\n",
       "       [2, 2, 2],\n",
       "       [2, 2, 4]], dtype=int32)"
      ]
     },
     "execution_count": 119,
     "metadata": {},
     "output_type": "execute_result"
    }
   ],
   "source": [
    "ar_1*ar_2 # index wise multiplication"
   ]
  },
  {
   "cell_type": "code",
   "execution_count": null,
   "metadata": {},
   "outputs": [],
   "source": [
    "# matrix multiplication\n",
    "# let dimension of a array m1=  m *n\n",
    "# dimesnion of other array m2=  p* a\n",
    "\n",
    "# condition column of first matrix m1 must be equal to rows of 2nd matrix m2\n",
    "# so n=p"
   ]
  },
  {
   "cell_type": "code",
   "execution_count": null,
   "metadata": {},
   "outputs": [
    {
     "data": {
      "text/plain": [
       "array([[ 5,  8,  6],\n",
       "       [ 7, 10,  7],\n",
       "       [ 7, 10,  7]], dtype=int32)"
      ]
     },
     "execution_count": 123,
     "metadata": {},
     "output_type": "execute_result"
    }
   ],
   "source": [
    "ar_1@ar_2 # performs matrix multiplication"
   ]
  },
  {
   "cell_type": "code",
   "execution_count": 124,
   "metadata": {},
   "outputs": [
    {
     "data": {
      "text/plain": [
       "array([[11, 11, 12],\n",
       "       [12, 11, 12],\n",
       "       [12, 11, 12]], dtype=int32)"
      ]
     },
     "execution_count": 124,
     "metadata": {},
     "output_type": "execute_result"
    }
   ],
   "source": [
    "ar_1 + 10 # add 10 in each element"
   ]
  },
  {
   "cell_type": "code",
   "execution_count": 126,
   "metadata": {},
   "outputs": [
    {
     "data": {
      "text/plain": [
       "array([[1, 1, 2],\n",
       "       [2, 1, 2],\n",
       "       [2, 1, 2]], dtype=int32)"
      ]
     },
     "execution_count": 126,
     "metadata": {},
     "output_type": "execute_result"
    }
   ],
   "source": [
    "ar_1"
   ]
  },
  {
   "cell_type": "code",
   "execution_count": 127,
   "metadata": {},
   "outputs": [
    {
     "data": {
      "text/plain": [
       "array([[1, 1, 4],\n",
       "       [4, 1, 4],\n",
       "       [4, 1, 4]], dtype=int32)"
      ]
     },
     "execution_count": 127,
     "metadata": {},
     "output_type": "execute_result"
    }
   ],
   "source": [
    "ar_1**2"
   ]
  },
  {
   "cell_type": "code",
   "execution_count": 129,
   "metadata": {},
   "outputs": [],
   "source": [
    "# numpy broadcasting\n",
    "ar_3= np.zeros((4,4))"
   ]
  },
  {
   "cell_type": "code",
   "execution_count": 135,
   "metadata": {},
   "outputs": [
    {
     "data": {
      "text/plain": [
       "array([[0., 0., 0., 0.],\n",
       "       [0., 0., 0., 0.],\n",
       "       [0., 0., 0., 0.],\n",
       "       [0., 0., 0., 0.]])"
      ]
     },
     "execution_count": 135,
     "metadata": {},
     "output_type": "execute_result"
    }
   ],
   "source": [
    "ar_3"
   ]
  },
  {
   "cell_type": "code",
   "execution_count": 132,
   "metadata": {},
   "outputs": [],
   "source": [
    "row = np.array([1,2,3,4])"
   ]
  },
  {
   "cell_type": "code",
   "execution_count": 133,
   "metadata": {},
   "outputs": [
    {
     "data": {
      "text/plain": [
       "array([1, 2, 3, 4])"
      ]
     },
     "execution_count": 133,
     "metadata": {},
     "output_type": "execute_result"
    }
   ],
   "source": [
    "row"
   ]
  },
  {
   "cell_type": "code",
   "execution_count": null,
   "metadata": {},
   "outputs": [
    {
     "data": {
      "text/plain": [
       "array([[1., 2., 3., 4.],\n",
       "       [1., 2., 3., 4.],\n",
       "       [1., 2., 3., 4.],\n",
       "       [1., 2., 3., 4.]])"
      ]
     },
     "execution_count": 134,
     "metadata": {},
     "output_type": "execute_result"
    }
   ],
   "source": [
    "ar_3 + row # if added a list  then it ADDS LINEARLY ( row by row , row by row)"
   ]
  },
  {
   "cell_type": "code",
   "execution_count": null,
   "metadata": {},
   "outputs": [
    {
     "data": {
      "text/plain": [
       "array([[1., 2., 3., 4.],\n",
       "       [1., 2., 3., 4.],\n",
       "       [1., 2., 3., 4.],\n",
       "       [1., 2., 3., 4.]])"
      ]
     },
     "execution_count": 139,
     "metadata": {},
     "output_type": "execute_result"
    }
   ],
   "source": [
    "# to add column wise\n",
    "ar_3 + row.T # this was 1 dimensional so wont transponse atleast 2d is required"
   ]
  },
  {
   "cell_type": "code",
   "execution_count": 141,
   "metadata": {},
   "outputs": [],
   "source": [
    "col = np.array([[1,2,3,4]])"
   ]
  },
  {
   "cell_type": "code",
   "execution_count": 143,
   "metadata": {},
   "outputs": [
    {
     "data": {
      "text/plain": [
       "array([[1, 2, 3, 4]])"
      ]
     },
     "execution_count": 143,
     "metadata": {},
     "output_type": "execute_result"
    }
   ],
   "source": [
    "col # 1 row and 1 column"
   ]
  },
  {
   "cell_type": "code",
   "execution_count": 144,
   "metadata": {},
   "outputs": [
    {
     "data": {
      "text/plain": [
       "2"
      ]
     },
     "execution_count": 144,
     "metadata": {},
     "output_type": "execute_result"
    }
   ],
   "source": [
    "col.ndim"
   ]
  },
  {
   "cell_type": "code",
   "execution_count": null,
   "metadata": {},
   "outputs": [
    {
     "data": {
      "text/plain": [
       "array([[1],\n",
       "       [2],\n",
       "       [3],\n",
       "       [4]])"
      ]
     },
     "execution_count": 146,
     "metadata": {},
     "output_type": "execute_result"
    }
   ],
   "source": [
    "col.T # transpose"
   ]
  },
  {
   "cell_type": "code",
   "execution_count": 149,
   "metadata": {},
   "outputs": [
    {
     "data": {
      "text/plain": [
       "array([[1, 2, 3, 4]])"
      ]
     },
     "execution_count": 149,
     "metadata": {},
     "output_type": "execute_result"
    }
   ],
   "source": [
    "col "
   ]
  },
  {
   "cell_type": "code",
   "execution_count": null,
   "metadata": {},
   "outputs": [
    {
     "data": {
      "text/plain": [
       "array([[1],\n",
       "       [2],\n",
       "       [3],\n",
       "       [4]])"
      ]
     },
     "execution_count": 148,
     "metadata": {},
     "output_type": "execute_result"
    }
   ],
   "source": [
    "col.transpose() # or this way"
   ]
  },
  {
   "cell_type": "code",
   "execution_count": null,
   "metadata": {},
   "outputs": [
    {
     "data": {
      "text/plain": [
       "array([[1., 1., 1., 1.],\n",
       "       [2., 2., 2., 2.],\n",
       "       [3., 3., 3., 3.],\n",
       "       [4., 4., 4., 4.]])"
      ]
     },
     "execution_count": 150,
     "metadata": {},
     "output_type": "execute_result"
    }
   ],
   "source": [
    "ar_3 + col.T  # added column wise"
   ]
  },
  {
   "cell_type": "code",
   "execution_count": 156,
   "metadata": {},
   "outputs": [
    {
     "data": {
      "text/plain": [
       "array([[220,  31,  64,   3,  53],\n",
       "       [ 20,  85,   4,  93,  41],\n",
       "       [ 94,  35,  53,  28,  96],\n",
       "       [ 45,  27,  66,  27,  12],\n",
       "       [ 38,  26,  63,  64,  23]], dtype=int32)"
      ]
     },
     "execution_count": 156,
     "metadata": {},
     "output_type": "execute_result"
    }
   ],
   "source": [
    "arr4"
   ]
  },
  {
   "cell_type": "code",
   "execution_count": null,
   "metadata": {},
   "outputs": [],
   "source": []
  }
 ],
 "metadata": {
  "kernelspec": {
   "display_name": "base",
   "language": "python",
   "name": "python3"
  },
  "language_info": {
   "codemirror_mode": {
    "name": "ipython",
    "version": 3
   },
   "file_extension": ".py",
   "mimetype": "text/x-python",
   "name": "python",
   "nbconvert_exporter": "python",
   "pygments_lexer": "ipython3",
   "version": "3.12.9"
  }
 },
 "nbformat": 4,
 "nbformat_minor": 2
}

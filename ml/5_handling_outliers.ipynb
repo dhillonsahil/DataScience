{
 "cells": [
  {
   "cell_type": "markdown",
   "id": "86c653b4",
   "metadata": {},
   "source": [
    "# Handling Outliers\n"
   ]
  },
  {
   "cell_type": "markdown",
   "id": "c29dccd8",
   "metadata": {},
   "source": [
    "### 5 Number summary\n",
    "\n",
    "1. Minimum Value\n",
    "2. Q1 - 25 percentile\n",
    "3. Median \n",
    "4. Q3 - 75 Percentile\n",
    "5. Maximum"
   ]
  },
  {
   "cell_type": "code",
   "execution_count": 1,
   "id": "ca369e3b",
   "metadata": {},
   "outputs": [],
   "source": [
    "import numpy as np\n",
    "lst_marks = [45,32,56,75,89,54,32,89,90,87,67,54,45,98,99,67,74,1000,1100]"
   ]
  },
  {
   "cell_type": "code",
   "execution_count": 8,
   "id": "9e3824b5",
   "metadata": {},
   "outputs": [
    {
     "name": "stdout",
     "output_type": "stream",
     "text": [
      "Q1:  [54.]\n"
     ]
    }
   ],
   "source": [
    "# [lower fence <----> higher fence]\n",
    "q1= np.percentile(lst_marks, [25]) \n",
    "print(\"Q1: \", q1)"
   ]
  },
  {
   "cell_type": "code",
   "execution_count": 9,
   "id": "b2964d23",
   "metadata": {},
   "outputs": [],
   "source": [
    "minimum , q1, q2,q3 , maximum = np.quantile(lst_marks,[0,0.25,0.5,0.75,1.0])"
   ]
  },
  {
   "cell_type": "code",
   "execution_count": 11,
   "id": "5e7b5247",
   "metadata": {},
   "outputs": [
    {
     "name": "stdout",
     "output_type": "stream",
     "text": [
      "35.5\n"
     ]
    }
   ],
   "source": [
    "# \n",
    "IQR = q3-q1  # Interquartile range\n",
    "print(IQR)"
   ]
  },
  {
   "cell_type": "code",
   "execution_count": 12,
   "id": "426e7e3d",
   "metadata": {},
   "outputs": [],
   "source": [
    "lower_fence = q1 - 1.5*IQR \n",
    "upper_fence = q3+ 1.5*IQR "
   ]
  },
  {
   "cell_type": "code",
   "execution_count": 13,
   "id": "b4001a59",
   "metadata": {},
   "outputs": [
    {
     "data": {
      "text/plain": [
       "(0.75, 142.75)"
      ]
     },
     "execution_count": 13,
     "metadata": {},
     "output_type": "execute_result"
    }
   ],
   "source": [
    "lower_fence, upper_fence"
   ]
  },
  {
   "cell_type": "code",
   "execution_count": null,
   "id": "d7b3788b",
   "metadata": {},
   "outputs": [
    {
     "name": "stdout",
     "output_type": "stream",
     "text": [
      "1000 is an outlier\n",
      "1100 is an outlier\n",
      "Outliers :  [1000, 1100]\n",
      "Cleaned Data :  [45, 32, 56, 75, 89, 54, 32, 89, 90, 87, 67, 54, 45, 98, 99, 67, 74, 1000, 1100]\n"
     ]
    }
   ],
   "source": [
    "lst_marks = [45,32,56,75,89,54,32,89,90,87,67,54,45,98,99,67,74,1000,1100]\n",
    "outliers = []\n",
    "for i in lst_marks[:]:\n",
    "    if i <lower_fence or i > upper_fence:\n",
    "        print(i, \"is an outlier\")\n",
    "        outliers.append(i)\n",
    "        lst_marks.remove(i)\n",
    "        continue\n",
    "\n",
    "print(\"Outliers : \", outliers)\n",
    "print(\"Cleaned Data : \", lst_marks) "
   ]
  },
  {
   "cell_type": "code",
   "execution_count": 23,
   "id": "05b00881",
   "metadata": {},
   "outputs": [
    {
     "data": {
      "text/plain": [
       "[45,\n",
       " 32,\n",
       " 56,\n",
       " 75,\n",
       " 89,\n",
       " 54,\n",
       " 32,\n",
       " 89,\n",
       " 90,\n",
       " 87,\n",
       " 67,\n",
       " 54,\n",
       " 45,\n",
       " 98,\n",
       " 99,\n",
       " 67,\n",
       " 74,\n",
       " 1000,\n",
       " 1100]"
      ]
     },
     "execution_count": 23,
     "metadata": {},
     "output_type": "execute_result"
    }
   ],
   "source": [
    "lst_marks"
   ]
  },
  {
   "cell_type": "code",
   "execution_count": 24,
   "id": "4befecf8",
   "metadata": {},
   "outputs": [
    {
     "data": {
      "text/plain": [
       "<Axes: >"
      ]
     },
     "execution_count": 24,
     "metadata": {},
     "output_type": "execute_result"
    },
    {
     "data": {
      "image/png": "[encoded data removed]",
      "text/plain": [
       "<Figure size 640x480 with 1 Axes>"
      ]
     },
     "metadata": {},
     "output_type": "display_data"
    }
   ],
   "source": [
    "import seaborn as sns \n",
    "sns.boxplot(lst_marks)"
   ]
  },
  {
   "cell_type": "code",
   "execution_count": 25,
   "id": "3254add0",
   "metadata": {},
   "outputs": [
    {
     "name": "stdout",
     "output_type": "stream",
     "text": [
      "1000 is an outlier\n",
      "1100 is an outlier\n",
      "Outliers :  [1000, 1100]\n",
      "Cleaned Data :  [45, 32, 56, 75, 89, 54, 32, 89, 90, 87, 67, 54, 45, 98, 99, 67, 74]\n"
     ]
    },
    {
     "data": {
      "text/plain": [
       "<Axes: >"
      ]
     },
     "execution_count": 25,
     "metadata": {},
     "output_type": "execute_result"
    },
    {
     "data": {
      "image/png": "[encoded data removed]",
      "text/plain": [
       "<Figure size 640x480 with 1 Axes>"
      ]
     },
     "metadata": {},
     "output_type": "display_data"
    }
   ],
   "source": [
    "lst_marks = [45,32,56,75,89,54,32,89,90,87,67,54,45,98,99,67,74,1000,1100]\n",
    "outliers = []\n",
    "for i in lst_marks[:]:\n",
    "    if i <lower_fence or i > upper_fence:\n",
    "        print(i, \"is an outlier\")\n",
    "        outliers.append(i)\n",
    "        lst_marks.remove(i)\n",
    "        continue\n",
    "\n",
    "print(\"Outliers : \", outliers)\n",
    "print(\"Cleaned Data : \", lst_marks) \n",
    "\n",
    "sns.boxplot(lst_marks)"
   ]
  },
  {
   "cell_type": "code",
   "execution_count": null,
   "id": "5646394e",
   "metadata": {},
   "outputs": [],
   "source": []
  }
 ],
 "metadata": {
  "kernelspec": {
   "display_name": "base",
   "language": "python",
   "name": "python3"
  },
  "language_info": {
   "codemirror_mode": {
    "name": "ipython",
    "version": 3
   },
   "file_extension": ".py",
   "mimetype": "text/x-python",
   "name": "python",
   "nbconvert_exporter": "python",
   "pygments_lexer": "ipython3",
   "version": "3.12.7"
  }
 },
 "nbformat": 4,
 "nbformat_minor": 5
}

{
 "cells": [
  {
   "cell_type": "code",
   "execution_count": 3,
   "id": "af196716",
   "metadata": {},
   "outputs": [],
   "source": [
    "import numpy as np"
   ]
  },
  {
   "cell_type": "code",
   "execution_count": 1,
   "id": "03338e5f",
   "metadata": {},
   "outputs": [],
   "source": [
    "worker1=[18,19,22,25,27,28,41,45,51,55]\n",
    "worker2=[14,15,15,17,18,22,25,25,27,34]"
   ]
  },
  {
   "cell_type": "code",
   "execution_count": 4,
   "id": "789602bd",
   "metadata": {},
   "outputs": [],
   "source": [
    "f= np.var(worker1)/np.var(worker2) # var calculates variance"
   ]
  },
  {
   "cell_type": "code",
   "execution_count": 5,
   "id": "1240d828",
   "metadata": {},
   "outputs": [
    {
     "data": {
      "text/plain": [
       "4.387122002085506"
      ]
     },
     "execution_count": 5,
     "metadata": {},
     "output_type": "execute_result"
    }
   ],
   "source": [
    "f"
   ]
  },
  {
   "cell_type": "code",
   "execution_count": 9,
   "id": "3ef0969b",
   "metadata": {},
   "outputs": [],
   "source": [
    "df1=len(worker1)-1\n",
    "df2=len(worker2)-1\n",
    "significance_value=0.05"
   ]
  },
  {
   "cell_type": "code",
   "execution_count": 8,
   "id": "a0865518",
   "metadata": {},
   "outputs": [],
   "source": [
    "import scipy.stats as stat"
   ]
  },
  {
   "cell_type": "code",
   "execution_count": 16,
   "id": "63089b4d",
   "metadata": {},
   "outputs": [],
   "source": [
    "critical_value=stat.f.ppf(q=1-significance_value,dfn=df1,dfd=df2) # dfn :- degree of freedom numerator , dfd :- degree of freedom denominator"
   ]
  },
  {
   "cell_type": "code",
   "execution_count": 17,
   "id": "6ac350d8",
   "metadata": {},
   "outputs": [
    {
     "data": {
      "text/plain": [
       "3.178893104458269"
      ]
     },
     "execution_count": 17,
     "metadata": {},
     "output_type": "execute_result"
    }
   ],
   "source": [
    "critical_value"
   ]
  },
  {
   "cell_type": "code",
   "execution_count": 18,
   "id": "e93f204b",
   "metadata": {},
   "outputs": [
    {
     "name": "stdout",
     "output_type": "stream",
     "text": [
      "We reject the null hypothesis\n"
     ]
    }
   ],
   "source": [
    "if f>critical_value:\n",
    "    print(\"We reject the null hypothesis\")\n",
    "else :\n",
    "    print(\"We failed to reject the null hypothesis\")"
   ]
  }
 ],
 "metadata": {
  "kernelspec": {
   "display_name": "base",
   "language": "python",
   "name": "python3"
  },
  "language_info": {
   "codemirror_mode": {
    "name": "ipython",
    "version": 3
   },
   "file_extension": ".py",
   "mimetype": "text/x-python",
   "name": "python",
   "nbconvert_exporter": "python",
   "pygments_lexer": "ipython3",
   "version": "3.12.7"
  }
 },
 "nbformat": 4,
 "nbformat_minor": 5
}
